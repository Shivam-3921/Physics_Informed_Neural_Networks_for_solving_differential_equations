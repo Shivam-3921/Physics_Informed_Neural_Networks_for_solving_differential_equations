{
 "cells": [
  {
   "cell_type": "code",
   "execution_count": 162,
   "id": "ccd09410",
   "metadata": {},
   "outputs": [],
   "source": [
    "import torch\n",
    "import torch.nn as nn\n",
    "import numpy as np\n",
    "from torch import tensor,  sin, pi\n",
    "import matplotlib.pyplot as plt\n",
    "import pandas as pd"
   ]
  },
  {
   "cell_type": "markdown",
   "id": "73e2f06d",
   "metadata": {},
   "source": [
    "## PINNs for solving PDEs"
   ]
  },
  {
   "cell_type": "markdown",
   "id": "36722a68",
   "metadata": {},
   "source": [
    "Physics Informed Neural Networks (PINNS) are neural networks that incorporate physics, often described by a PDE, into the training process. This allows the network to be more robust and generalizable by not only learning from the data but also adhering to the underlying physics describing the data. Here, the approach begins with a 1D example problem and is then generalized to solve eigenvalue problems in higher dimensions."
   ]
  },
  {
   "cell_type": "markdown",
   "id": "08caf279",
   "metadata": {},
   "source": [
    "The idea here is to use neural networks to approximate the solution $u$ to this PDE, leveraging their well-known ability as universal function approximators and also automatic differentiation to differentiate the output with respect to their input coordinates."
   ]
  },
  {
   "cell_type": "markdown",
   "id": "af544e08",
   "metadata": {},
   "source": [
    "## 1D problem"
   ]
  },
  {
   "cell_type": "markdown",
   "id": "9e8b2c9d",
   "metadata": {},
   "source": [
    "Consider the following reaction-diffusion equation in 1D\n",
    "$$\n",
    "\\begin{align*}\n",
    "    -\\Delta u + u &= (\\pi^2+1)\\sin(\\pi x),\\hspace{10pt}\\text{ in }(0,1)\\\\\n",
    "    u(0)&=u(1)=0\n",
    "\\end{align*}\n",
    "$$\n",
    "\n",
    "This PDE can be solved analytically and the exact solution is given by $u(x) = \\sin(\\pi x)$."
   ]
  },
  {
   "cell_type": "code",
   "execution_count": 33,
   "id": "31ec3c03",
   "metadata": {},
   "outputs": [],
   "source": [
    "# RHS\n",
    "def f(x):\n",
    "    return (pi**2+1)*sin(pi*x)\n",
    "\n",
    "# Exact Solution\n",
    "def u_exact(x):\n",
    "    return sin(pi*x)"
   ]
  },
  {
   "cell_type": "markdown",
   "id": "f4258cfb",
   "metadata": {},
   "source": [
    "### Creating neural network"
   ]
  },
  {
   "cell_type": "code",
   "execution_count": 87,
   "id": "6796eb4d",
   "metadata": {},
   "outputs": [],
   "source": [
    "# building PINN neural network using nn.Module class\n",
    "class PINN(nn.Module):\n",
    "    def __init__(self):\n",
    "        super(PINN, self).__init__()\n",
    "        self.net = nn.Sequential(\n",
    "            nn.Linear(1, 64),           # here 1 describes that we are working in 1D\n",
    "            nn.Tanh(),\n",
    "            nn.Linear(64, 32),\n",
    "            nn.Tanh(),\n",
    "            nn.Linear(32, 1)\n",
    "        )\n",
    "\n",
    "    def forward(self, x):\n",
    "        return self.net(x)"
   ]
  },
  {
   "cell_type": "code",
   "execution_count": 88,
   "id": "a4b563fb",
   "metadata": {},
   "outputs": [],
   "source": [
    "# incorporating automatic differentiation\n",
    "def grad(outputs, inputs):\n",
    "    return torch.autograd.grad(outputs, inputs, grad_outputs=torch.ones_like(outputs),create_graph=True)[0]"
   ]
  },
  {
   "cell_type": "markdown",
   "id": "47ff4266",
   "metadata": {},
   "source": [
    "### Loss function"
   ]
  },
  {
   "cell_type": "markdown",
   "id": "40b87ce5",
   "metadata": {},
   "source": [
    "The key idea of PINNs is to incorporate the PDE directly into the loss function along with the boundary conditions. This can be thought of as penalizing the network prediction wherever it deviates from the governing PDE and boundary conditions. The gradients arising in the PDE can be easily computed using automatic differentiation. "
   ]
  },
  {
   "cell_type": "markdown",
   "id": "8e28a9e0",
   "metadata": {},
   "source": [
    "The parameters of the neural networks can be learned by minimizing the mean-squared error loss function\n",
    "$$\n",
    "\\begin{align*}\n",
    "    MSE = MSE_u + MSE_f\n",
    "\\end{align*}\n",
    "$$\n",
    "where\n",
    "$$\n",
    "\\begin{align*}\n",
    "    MSE_b = |u(0)|^2 + |u(1)|^2\n",
    "\\end{align*}\n",
    "$$\n",
    "and\n",
    "$$\n",
    "\\begin{align*}\n",
    "    MSE_i = \\sum_{k=1}^{N_i} |-\\Delta u(x_k) +u(x_k) - f(x_k)|^2\n",
    "\\end{align*}\n",
    "$$\n",
    "$N_i$ describes the number of collocation points which act as checkpoints to check whether the network prediction $u$ satisfies the PDE. $MSE_i$ describes the interior loss of network prediction, and $MSE_b$ describes the boundary loss. The collocation points, along with the endpoints, serve as training data for PINNs."
   ]
  },
  {
   "cell_type": "code",
   "execution_count": 89,
   "id": "521572df",
   "metadata": {},
   "outputs": [],
   "source": [
    "def compute_loss(model: nn.Module, x_train: torch.Tensor):\n",
    "    # evaluating u(x), f(x), du/dx, d^2u/dx^2 at training data points\n",
    "    x_train.requires_grad_(True)\n",
    "    u = model(x_train)                      # model prediction on training data\n",
    "    du = grad(u,x_train)\n",
    "    d2u = grad(du,x_train)\n",
    "\n",
    "    #ODE residual: -u\"(x)+ u(x) - f(x)\n",
    "    residual = -d2u[1:-1] + u[1:-1] - f(x_train[1:-1])     # ODE-based interior residual\n",
    "    interior_loss = torch.mean(residual ** 2)              # mean-squared interior loss\n",
    "\n",
    "    #calculating boundary loss for problem\n",
    "    left_residual = model(x_train[0])\n",
    "    right_residual = model(x_train[-1])\n",
    "    boundary_loss = torch.mean(left_residual ** 2 + right_residual ** 2)    # mean-squared boundary loss\n",
    "\n",
    "    return interior_loss + boundary_loss"
   ]
  },
  {
   "cell_type": "markdown",
   "id": "4aebe0bd",
   "metadata": {},
   "source": [
    "### Generating Training and test dataset"
   ]
  },
  {
   "cell_type": "markdown",
   "id": "264cd8c3",
   "metadata": {},
   "source": [
    "The training set cnosists of uniformly spaced points in the inNote that, here the size of training set is $N_i+2$."
   ]
  },
  {
   "cell_type": "code",
   "execution_count": 96,
   "id": "a7147873",
   "metadata": {},
   "outputs": [
    {
     "data": {
      "text/plain": [
       "tensor([[0.0000],\n",
       "        [0.1000],\n",
       "        [0.2000],\n",
       "        [0.3000],\n",
       "        [0.4000],\n",
       "        [0.5000],\n",
       "        [0.6000],\n",
       "        [0.7000],\n",
       "        [0.8000],\n",
       "        [0.9000],\n",
       "        [1.0000]])"
      ]
     },
     "execution_count": 96,
     "metadata": {},
     "output_type": "execute_result"
    }
   ],
   "source": [
    "# generate the training set\n",
    "n_train = 11\n",
    "x_train = torch.linspace(0,1,n_train).reshape(-1,1)\n",
    "x_train"
   ]
  },
  {
   "cell_type": "code",
   "execution_count": 97,
   "id": "201fb93b",
   "metadata": {},
   "outputs": [
    {
     "data": {
      "text/plain": [
       "tensor([[0.0000],\n",
       "        [0.0101],\n",
       "        [0.0202],\n",
       "        [0.0303],\n",
       "        [0.0404],\n",
       "        [0.0505],\n",
       "        [0.0606],\n",
       "        [0.0707],\n",
       "        [0.0808],\n",
       "        [0.0909],\n",
       "        [0.1010],\n",
       "        [0.1111],\n",
       "        [0.1212],\n",
       "        [0.1313],\n",
       "        [0.1414],\n",
       "        [0.1515],\n",
       "        [0.1616],\n",
       "        [0.1717],\n",
       "        [0.1818],\n",
       "        [0.1919],\n",
       "        [0.2020],\n",
       "        [0.2121],\n",
       "        [0.2222],\n",
       "        [0.2323],\n",
       "        [0.2424],\n",
       "        [0.2525],\n",
       "        [0.2626],\n",
       "        [0.2727],\n",
       "        [0.2828],\n",
       "        [0.2929],\n",
       "        [0.3030],\n",
       "        [0.3131],\n",
       "        [0.3232],\n",
       "        [0.3333],\n",
       "        [0.3434],\n",
       "        [0.3535],\n",
       "        [0.3636],\n",
       "        [0.3737],\n",
       "        [0.3838],\n",
       "        [0.3939],\n",
       "        [0.4040],\n",
       "        [0.4141],\n",
       "        [0.4242],\n",
       "        [0.4343],\n",
       "        [0.4444],\n",
       "        [0.4545],\n",
       "        [0.4646],\n",
       "        [0.4747],\n",
       "        [0.4848],\n",
       "        [0.4949],\n",
       "        [0.5051],\n",
       "        [0.5152],\n",
       "        [0.5253],\n",
       "        [0.5354],\n",
       "        [0.5455],\n",
       "        [0.5556],\n",
       "        [0.5657],\n",
       "        [0.5758],\n",
       "        [0.5859],\n",
       "        [0.5960],\n",
       "        [0.6061],\n",
       "        [0.6162],\n",
       "        [0.6263],\n",
       "        [0.6364],\n",
       "        [0.6465],\n",
       "        [0.6566],\n",
       "        [0.6667],\n",
       "        [0.6768],\n",
       "        [0.6869],\n",
       "        [0.6970],\n",
       "        [0.7071],\n",
       "        [0.7172],\n",
       "        [0.7273],\n",
       "        [0.7374],\n",
       "        [0.7475],\n",
       "        [0.7576],\n",
       "        [0.7677],\n",
       "        [0.7778],\n",
       "        [0.7879],\n",
       "        [0.7980],\n",
       "        [0.8081],\n",
       "        [0.8182],\n",
       "        [0.8283],\n",
       "        [0.8384],\n",
       "        [0.8485],\n",
       "        [0.8586],\n",
       "        [0.8687],\n",
       "        [0.8788],\n",
       "        [0.8889],\n",
       "        [0.8990],\n",
       "        [0.9091],\n",
       "        [0.9192],\n",
       "        [0.9293],\n",
       "        [0.9394],\n",
       "        [0.9495],\n",
       "        [0.9596],\n",
       "        [0.9697],\n",
       "        [0.9798],\n",
       "        [0.9899],\n",
       "        [1.0000]])"
      ]
     },
     "execution_count": 97,
     "metadata": {},
     "output_type": "execute_result"
    }
   ],
   "source": [
    "# generate the test set\n",
    "n_test = 100\n",
    "x_test = torch.linspace(0,1,n_test).reshape(-1,1)\n",
    "x_test "
   ]
  },
  {
   "cell_type": "code",
   "execution_count": 98,
   "id": "37b46ee4",
   "metadata": {},
   "outputs": [
    {
     "data": {
      "text/plain": [
       "tensor([[ 0.0000e+00],\n",
       "        [ 3.1728e-02],\n",
       "        [ 6.3424e-02],\n",
       "        [ 9.5056e-02],\n",
       "        [ 1.2659e-01],\n",
       "        [ 1.5800e-01],\n",
       "        [ 1.8925e-01],\n",
       "        [ 2.2031e-01],\n",
       "        [ 2.5115e-01],\n",
       "        [ 2.8173e-01],\n",
       "        [ 3.1203e-01],\n",
       "        [ 3.4202e-01],\n",
       "        [ 3.7166e-01],\n",
       "        [ 4.0093e-01],\n",
       "        [ 4.2979e-01],\n",
       "        [ 4.5823e-01],\n",
       "        [ 4.8620e-01],\n",
       "        [ 5.1368e-01],\n",
       "        [ 5.4064e-01],\n",
       "        [ 5.6706e-01],\n",
       "        [ 5.9291e-01],\n",
       "        [ 6.1816e-01],\n",
       "        [ 6.4279e-01],\n",
       "        [ 6.6677e-01],\n",
       "        [ 6.9008e-01],\n",
       "        [ 7.1269e-01],\n",
       "        [ 7.3459e-01],\n",
       "        [ 7.5575e-01],\n",
       "        [ 7.7615e-01],\n",
       "        [ 7.9576e-01],\n",
       "        [ 8.1458e-01],\n",
       "        [ 8.3257e-01],\n",
       "        [ 8.4973e-01],\n",
       "        [ 8.6603e-01],\n",
       "        [ 8.8145e-01],\n",
       "        [ 8.9599e-01],\n",
       "        [ 9.0963e-01],\n",
       "        [ 9.2235e-01],\n",
       "        [ 9.3415e-01],\n",
       "        [ 9.4500e-01],\n",
       "        [ 9.5490e-01],\n",
       "        [ 9.6384e-01],\n",
       "        [ 9.7181e-01],\n",
       "        [ 9.7880e-01],\n",
       "        [ 9.8481e-01],\n",
       "        [ 9.8982e-01],\n",
       "        [ 9.9384e-01],\n",
       "        [ 9.9685e-01],\n",
       "        [ 9.9887e-01],\n",
       "        [ 9.9987e-01],\n",
       "        [ 9.9987e-01],\n",
       "        [ 9.9887e-01],\n",
       "        [ 9.9685e-01],\n",
       "        [ 9.9384e-01],\n",
       "        [ 9.8982e-01],\n",
       "        [ 9.8481e-01],\n",
       "        [ 9.7880e-01],\n",
       "        [ 9.7181e-01],\n",
       "        [ 9.6384e-01],\n",
       "        [ 9.5490e-01],\n",
       "        [ 9.4500e-01],\n",
       "        [ 9.3415e-01],\n",
       "        [ 9.2235e-01],\n",
       "        [ 9.0963e-01],\n",
       "        [ 8.9599e-01],\n",
       "        [ 8.8145e-01],\n",
       "        [ 8.6603e-01],\n",
       "        [ 8.4973e-01],\n",
       "        [ 8.3257e-01],\n",
       "        [ 8.1458e-01],\n",
       "        [ 7.9576e-01],\n",
       "        [ 7.7615e-01],\n",
       "        [ 7.5575e-01],\n",
       "        [ 7.3459e-01],\n",
       "        [ 7.1269e-01],\n",
       "        [ 6.9008e-01],\n",
       "        [ 6.6677e-01],\n",
       "        [ 6.4279e-01],\n",
       "        [ 6.1816e-01],\n",
       "        [ 5.9291e-01],\n",
       "        [ 5.6706e-01],\n",
       "        [ 5.4064e-01],\n",
       "        [ 5.1368e-01],\n",
       "        [ 4.8620e-01],\n",
       "        [ 4.5823e-01],\n",
       "        [ 4.2979e-01],\n",
       "        [ 4.0093e-01],\n",
       "        [ 3.7166e-01],\n",
       "        [ 3.4202e-01],\n",
       "        [ 3.1203e-01],\n",
       "        [ 2.8173e-01],\n",
       "        [ 2.5115e-01],\n",
       "        [ 2.2031e-01],\n",
       "        [ 1.8925e-01],\n",
       "        [ 1.5800e-01],\n",
       "        [ 1.2659e-01],\n",
       "        [ 9.5056e-02],\n",
       "        [ 6.3424e-02],\n",
       "        [ 3.1728e-02],\n",
       "        [-8.7423e-08]])"
      ]
     },
     "execution_count": 98,
     "metadata": {},
     "output_type": "execute_result"
    }
   ],
   "source": [
    "y_test = u_exact(x_test)\n",
    "y_test"
   ]
  },
  {
   "cell_type": "markdown",
   "id": "4f94bd4b",
   "metadata": {},
   "source": [
    "### Training and predicting using PINN"
   ]
  },
  {
   "cell_type": "markdown",
   "id": "56565930",
   "metadata": {},
   "source": [
    "Here, Adam optimizer with learning rate 0.001 is used to minimize the loss function described above. "
   ]
  },
  {
   "cell_type": "code",
   "execution_count": 163,
   "id": "0a55c7d7",
   "metadata": {},
   "outputs": [],
   "source": [
    "# defining a function to train PINN\n",
    "def train_PINN(x_train,num_epochs,verbose = True):\n",
    "    model = PINN()\n",
    "    optimizer = torch.optim.Adam(model.parameters(), lr=0.001)\n",
    "\n",
    "    # Iterate training over epochs\n",
    "    for epoch in range(num_epochs):\n",
    "        loss = compute_loss(model, x_train)\n",
    "        optimizer.zero_grad()\n",
    "        loss.backward()\n",
    "        optimizer.step()\n",
    "\n",
    "        if epoch % 500 == 0 and verbose ==True:\n",
    "            print(f\"Full Training Epoch {epoch}, Loss: {loss.item():.6f}\")\n",
    "\n",
    "    return model"
   ]
  },
  {
   "cell_type": "code",
   "execution_count": 202,
   "id": "242e81d9",
   "metadata": {},
   "outputs": [
    {
     "name": "stdout",
     "output_type": "stream",
     "text": [
      "Full Training Epoch 0, Loss: 66.529282\n",
      "Full Training Epoch 500, Loss: 0.001441\n",
      "Full Training Epoch 1000, Loss: 0.000661\n",
      "Full Training Epoch 1500, Loss: 0.000282\n"
     ]
    }
   ],
   "source": [
    "num_epochs = 2000\n",
    "u = train_PINN(x_train,num_epochs)"
   ]
  },
  {
   "cell_type": "code",
   "execution_count": 203,
   "id": "681095d1",
   "metadata": {},
   "outputs": [
    {
     "data": {
      "text/plain": [
       "tensor([[3.2538e-04],\n",
       "        [3.1392e-02],\n",
       "        [6.2616e-02],\n",
       "        [9.3930e-02],\n",
       "        [1.2527e-01],\n",
       "        [1.5657e-01],\n",
       "        [1.8779e-01],\n",
       "        [2.1886e-01],\n",
       "        [2.4974e-01],\n",
       "        [2.8038e-01],\n",
       "        [3.1075e-01],\n",
       "        [3.4080e-01],\n",
       "        [3.7050e-01],\n",
       "        [3.9982e-01],\n",
       "        [4.2872e-01],\n",
       "        [4.5719e-01],\n",
       "        [4.8518e-01],\n",
       "        [5.1268e-01],\n",
       "        [5.3966e-01],\n",
       "        [5.6608e-01],\n",
       "        [5.9194e-01],\n",
       "        [6.1719e-01],\n",
       "        [6.4183e-01],\n",
       "        [6.6582e-01],\n",
       "        [6.8914e-01],\n",
       "        [7.1177e-01],\n",
       "        [7.3368e-01],\n",
       "        [7.5486e-01],\n",
       "        [7.7528e-01],\n",
       "        [7.9492e-01],\n",
       "        [8.1377e-01],\n",
       "        [8.3179e-01],\n",
       "        [8.4898e-01],\n",
       "        [8.6531e-01],\n",
       "        [8.8076e-01],\n",
       "        [8.9533e-01],\n",
       "        [9.0900e-01],\n",
       "        [9.2175e-01],\n",
       "        [9.3356e-01],\n",
       "        [9.4444e-01],\n",
       "        [9.5436e-01],\n",
       "        [9.6331e-01],\n",
       "        [9.7130e-01],\n",
       "        [9.7830e-01],\n",
       "        [9.8432e-01],\n",
       "        [9.8935e-01],\n",
       "        [9.9337e-01],\n",
       "        [9.9640e-01],\n",
       "        [9.9842e-01],\n",
       "        [9.9944e-01],\n",
       "        [9.9945e-01],\n",
       "        [9.9845e-01],\n",
       "        [9.9645e-01],\n",
       "        [9.9345e-01],\n",
       "        [9.8945e-01],\n",
       "        [9.8445e-01],\n",
       "        [9.7846e-01],\n",
       "        [9.7149e-01],\n",
       "        [9.6355e-01],\n",
       "        [9.5463e-01],\n",
       "        [9.4475e-01],\n",
       "        [9.3392e-01],\n",
       "        [9.2216e-01],\n",
       "        [9.0946e-01],\n",
       "        [8.9585e-01],\n",
       "        [8.8134e-01],\n",
       "        [8.6593e-01],\n",
       "        [8.4966e-01],\n",
       "        [8.3253e-01],\n",
       "        [8.1456e-01],\n",
       "        [7.9577e-01],\n",
       "        [7.7618e-01],\n",
       "        [7.5580e-01],\n",
       "        [7.3466e-01],\n",
       "        [7.1278e-01],\n",
       "        [6.9018e-01],\n",
       "        [6.6689e-01],\n",
       "        [6.4292e-01],\n",
       "        [6.1831e-01],\n",
       "        [5.9307e-01],\n",
       "        [5.6724e-01],\n",
       "        [5.4084e-01],\n",
       "        [5.1389e-01],\n",
       "        [4.8642e-01],\n",
       "        [4.5847e-01],\n",
       "        [4.3006e-01],\n",
       "        [4.0121e-01],\n",
       "        [3.7197e-01],\n",
       "        [3.4234e-01],\n",
       "        [3.1238e-01],\n",
       "        [2.8210e-01],\n",
       "        [2.5154e-01],\n",
       "        [2.2073e-01],\n",
       "        [1.8969e-01],\n",
       "        [1.5845e-01],\n",
       "        [1.2706e-01],\n",
       "        [9.5527e-02],\n",
       "        [6.3894e-02],\n",
       "        [3.2187e-02],\n",
       "        [4.3580e-04]], grad_fn=<AddmmBackward0>)"
      ]
     },
     "execution_count": 203,
     "metadata": {},
     "output_type": "execute_result"
    }
   ],
   "source": [
    "# Predicting using obtained u\n",
    "y_pred = u(x_test)\n",
    "y_pred"
   ]
  },
  {
   "cell_type": "code",
   "execution_count": 204,
   "id": "e62f0e67",
   "metadata": {},
   "outputs": [
    {
     "data": {
      "text/plain": [
       "True"
      ]
     },
     "execution_count": 204,
     "metadata": {},
     "output_type": "execute_result"
    }
   ],
   "source": [
    "y_pred.shape == y_test.shape"
   ]
  },
  {
   "cell_type": "markdown",
   "id": "bb270c0f",
   "metadata": {},
   "source": [
    "### Calculating $L^2$ error of the solution"
   ]
  },
  {
   "cell_type": "code",
   "execution_count": 205,
   "id": "a8df275a",
   "metadata": {},
   "outputs": [],
   "source": [
    "def L2_error(y_pred,y_test):\n",
    "    return torch.sum((y_test - y_pred)**2)"
   ]
  },
  {
   "cell_type": "code",
   "execution_count": 206,
   "id": "e252c014",
   "metadata": {},
   "outputs": [
    {
     "name": "stdout",
     "output_type": "stream",
     "text": [
      "L2_error of approximation: 4.573311161948368e-05\n"
     ]
    }
   ],
   "source": [
    "error = L2_error(y_pred,y_test)\n",
    "print(f\"L2_error of approximation: {error}\")"
   ]
  },
  {
   "cell_type": "markdown",
   "id": "4f2ab8c9",
   "metadata": {},
   "source": [
    "### Plotting the solution"
   ]
  },
  {
   "cell_type": "code",
   "execution_count": 207,
   "id": "98a5ec59",
   "metadata": {},
   "outputs": [],
   "source": [
    "y_train = u(x_train)\n",
    "x_train.requires_grad_(False)\n",
    "y_train = y_train.detach().numpy()\n",
    "y_pred = y_pred.detach().numpy()"
   ]
  },
  {
   "cell_type": "code",
   "execution_count": 218,
   "id": "a854503d",
   "metadata": {},
   "outputs": [
    {
     "data": {
      "image/png": "[encoded data removed]",
      "text/plain": [
       "<Figure size 640x480 with 1 Axes>"
      ]
     },
     "metadata": {},
     "output_type": "display_data"
    }
   ],
   "source": [
    "plt.plot(x_test,y_test,label = \"Exact Solution\",linestyle=\"-\",color = \"red\",linewidth = 0.75)\n",
    "plt.plot(x_test,y_pred,label = \"Predicted Solution\",linestyle=\"--\",linewidth = 1.5,color = \"black\")\n",
    "plt.plot(x_train,y_train,label=\"Training Set\",linestyle = \"None\", marker = \"o\",markersize  =5)\n",
    "plt.xlabel(\"x\")\n",
    "plt.legend()\n",
    "plt.show()"
   ]
  },
  {
   "cell_type": "markdown",
   "id": "c6fef335",
   "metadata": {},
   "source": [
    "### Convergence Study"
   ]
  },
  {
   "cell_type": "code",
   "execution_count": 219,
   "id": "5abd53a5",
   "metadata": {},
   "outputs": [
    {
     "data": {
      "text/html": [
       "<div>\n",
       "<style scoped>\n",
       "    .dataframe tbody tr th:only-of-type {\n",
       "        vertical-align: middle;\n",
       "    }\n",
       "\n",
       "    .dataframe tbody tr th {\n",
       "        vertical-align: top;\n",
       "    }\n",
       "\n",
       "    .dataframe thead th {\n",
       "        text-align: right;\n",
       "    }\n",
       "</style>\n",
       "<table border=\"1\" class=\"dataframe\">\n",
       "  <thead>\n",
       "    <tr style=\"text-align: right;\">\n",
       "      <th></th>\n",
       "      <th>Epochs</th>\n",
       "      <th>L2 error</th>\n",
       "    </tr>\n",
       "  </thead>\n",
       "  <tbody>\n",
       "    <tr>\n",
       "      <th>0</th>\n",
       "      <td>1000.0</td>\n",
       "      <td>7.446153e-06</td>\n",
       "    </tr>\n",
       "    <tr>\n",
       "      <th>1</th>\n",
       "      <td>2000.0</td>\n",
       "      <td>2.225827e-06</td>\n",
       "    </tr>\n",
       "    <tr>\n",
       "      <th>2</th>\n",
       "      <td>4000.0</td>\n",
       "      <td>2.043080e-06</td>\n",
       "    </tr>\n",
       "    <tr>\n",
       "      <th>3</th>\n",
       "      <td>8000.0</td>\n",
       "      <td>3.408079e-07</td>\n",
       "    </tr>\n",
       "  </tbody>\n",
       "</table>\n",
       "</div>"
      ],
      "text/plain": [
       "   Epochs      L2 error\n",
       "0  1000.0  7.446153e-06\n",
       "1  2000.0  2.225827e-06\n",
       "2  4000.0  2.043080e-06\n",
       "3  8000.0  3.408079e-07"
      ]
     },
     "execution_count": 219,
     "metadata": {},
     "output_type": "execute_result"
    }
   ],
   "source": [
    "epochs = [1000,2000,4000,8000]\n",
    "L2_err = []\n",
    "\n",
    "# generate the training set\n",
    "n_train = 11\n",
    "x_train = torch.linspace(0,1,n_train).reshape(-1,1)\n",
    "\n",
    "# generate the test set\n",
    "n_test = 100\n",
    "x_test = torch.linspace(0,1,n_test).reshape(-1,1)\n",
    "y_test = u_exact(x_test)\n",
    "\n",
    "for epoch in epochs:\n",
    "    u = train_PINN(x_train,num_epochs,verbose=False)\n",
    "    y_pred = u(x_test)\n",
    "\n",
    "    L2_err.append(L2_error(y_pred,y_test).detach().numpy())\n",
    "\n",
    "table = pd.DataFrame(data= np.transpose([epochs, L2_err]),columns=[\"Epochs\",\"L2 error\"])\n",
    "table"
   ]
  },
  {
   "cell_type": "code",
   "execution_count": 226,
   "id": "6409db76",
   "metadata": {},
   "outputs": [
    {
     "data": {
      "text/html": [
       "<div>\n",
       "<style scoped>\n",
       "    .dataframe tbody tr th:only-of-type {\n",
       "        vertical-align: middle;\n",
       "    }\n",
       "\n",
       "    .dataframe tbody tr th {\n",
       "        vertical-align: top;\n",
       "    }\n",
       "\n",
       "    .dataframe thead th {\n",
       "        text-align: right;\n",
       "    }\n",
       "</style>\n",
       "<table border=\"1\" class=\"dataframe\">\n",
       "  <thead>\n",
       "    <tr style=\"text-align: right;\">\n",
       "      <th></th>\n",
       "      <th>Train size</th>\n",
       "      <th>L2 error</th>\n",
       "    </tr>\n",
       "  </thead>\n",
       "  <tbody>\n",
       "    <tr>\n",
       "      <th>0</th>\n",
       "      <td>10.0</td>\n",
       "      <td>4.474102e-05</td>\n",
       "    </tr>\n",
       "    <tr>\n",
       "      <th>1</th>\n",
       "      <td>20.0</td>\n",
       "      <td>1.428327e-05</td>\n",
       "    </tr>\n",
       "    <tr>\n",
       "      <th>2</th>\n",
       "      <td>40.0</td>\n",
       "      <td>1.664795e-04</td>\n",
       "    </tr>\n",
       "    <tr>\n",
       "      <th>3</th>\n",
       "      <td>80.0</td>\n",
       "      <td>1.217455e-05</td>\n",
       "    </tr>\n",
       "    <tr>\n",
       "      <th>4</th>\n",
       "      <td>160.0</td>\n",
       "      <td>9.705282e-07</td>\n",
       "    </tr>\n",
       "  </tbody>\n",
       "</table>\n",
       "</div>"
      ],
      "text/plain": [
       "   Train size      L2 error\n",
       "0        10.0  4.474102e-05\n",
       "1        20.0  1.428327e-05\n",
       "2        40.0  1.664795e-04\n",
       "3        80.0  1.217455e-05\n",
       "4       160.0  9.705282e-07"
      ]
     },
     "execution_count": 226,
     "metadata": {},
     "output_type": "execute_result"
    }
   ],
   "source": [
    "train_size = [10,20,40,80,160]\n",
    "L2_err = []\n",
    "\n",
    "# generate the test set\n",
    "n_test = 1000\n",
    "x_test = torch.linspace(0,1,n_test).reshape(-1,1)\n",
    "y_test = u_exact(x_test)\n",
    "\n",
    "for n_train in train_size:\n",
    "    # generate the training set\n",
    "    x_train = torch.linspace(0,1,n_train).reshape(-1,1)\n",
    "\n",
    "    u = train_PINN(x_train,num_epochs,verbose=False)\n",
    "    y_pred = u(x_test)\n",
    "\n",
    "    L2_err.append(L2_error(y_pred,y_test).detach().numpy())\n",
    "\n",
    "table = pd.DataFrame(data= np.transpose([train_size, L2_err]),columns=[\"Train size\",\"L2 error\"])\n",
    "table"
   ]
  },
  {
   "cell_type": "markdown",
   "id": "ae20717d",
   "metadata": {},
   "source": [
    "## Eigenvalue problem"
   ]
  },
  {
   "cell_type": "code",
   "execution_count": 129,
   "id": "92e2e0c7",
   "metadata": {},
   "outputs": [],
   "source": [
    "def eigenvalue(m,n):\n",
    "    return (m**2 + n**2)*pi**2\n",
    "\n",
    "def eigenfunc(m,n,x):\n",
    "    return sin(m*pi*x[0])*sin(n*pi*x[1])"
   ]
  },
  {
   "cell_type": "code",
   "execution_count": null,
   "id": "59eb464c",
   "metadata": {},
   "outputs": [],
   "source": [
    "#define PINN neural network using nn.Module class\n",
    "class PINN(nn.Module):\n",
    "    def __init__(self):\n",
    "        super(PINN, self).__init__()\n",
    "        self.net = nn.Sequential(\n",
    "            nn.Linear(2, 20),\n",
    "            nn.Tanh(),\n",
    "            nn.Linear(20, 20),\n",
    "            nn.Tanh(),\n",
    "            nn.Linear(20, 1)\n",
    "        )\n",
    "\n",
    "    def forward(self, x):\n",
    "        return self.net(x)\n",
    "\n",
    "#neural network functions\n",
    "def grad(outputs, inputs):\n",
    "    return torch.autograd.grad(outputs, inputs, grad_outputs=torch.ones_like(outputs),create_graph=True)[0]"
   ]
  },
  {
   "cell_type": "code",
   "execution_count": 131,
   "id": "4b38e3c2",
   "metadata": {},
   "outputs": [],
   "source": [
    "def compute_loss(model: nn.Module, x: torch.Tensor, eigenval):\n",
    "    #evaluating u(x), f(x), du/dx, d^2u/dx^2 at collocation points x\n",
    "    x.requires_grad_(True)\n",
    "    u = model(x)\n",
    "    du = grad(u,x)\n",
    "    d2u = grad(du,x)\n",
    "\n",
    "    #ODE residual: -u\"(x) - f(x)\n",
    "    residual = -d2u - eigenval*u\n",
    "    interior_loss = torch.mean(residual ** 2)\n",
    "\n",
    "    # calculating boundary loss for problem\n",
    "    x1_residual = model(torch.tensor([0.0,0.0])) - torch.tensor([0.0])\n",
    "    x2_residual = model(torch.tensor([0.0,1.0])) - torch.tensor([0.0])\n",
    "    x3_residual = model(torch.tensor([1.0,0.0])) - torch.tensor([0.0])\n",
    "    x4_residual = model(torch.tensor([1.0,1.0])) - torch.tensor([0.0])\n",
    "    boundary_loss = torch.mean(x1_residual ** 2 + x2_residual ** 2 + x3_residual ** 2 + x4_residual ** 2)\n",
    "\n",
    "    return interior_loss + boundary_loss"
   ]
  },
  {
   "cell_type": "code",
   "execution_count": 132,
   "id": "442d8382",
   "metadata": {},
   "outputs": [],
   "source": [
    "def train_PINN(x_train):\n",
    "    # Training the PINN\n",
    "    model = PINN()\n",
    "    optimizer = torch.optim.Adam(model.parameters(), lr=0.01)\n",
    "\n",
    "    # Iterate training over epochs\n",
    "    for epoch in range(5000):\n",
    "        loss = compute_loss(model, x_train,eigenvalue(1,1))\n",
    "        optimizer.zero_grad()\n",
    "        loss.backward()\n",
    "        optimizer.step()\n",
    "\n",
    "        if epoch % 500 == 0:\n",
    "            print(f\"Full Training Epoch {epoch}, Loss: {loss.item():.6f}\")\n",
    "    return model"
   ]
  },
  {
   "cell_type": "code",
   "execution_count": 133,
   "id": "04b5013f",
   "metadata": {},
   "outputs": [],
   "source": [
    "# Helper function to plot results\n",
    "def create_results(x_train, color='red', label=''):\n",
    "    model = train_PINN(x_train)\n",
    "    y_pred = model(x_train).detach().numpy()\n",
    "    print(y_pred)\n",
    "    # plt.plot(x_train.detach().numpy(), y_pred, label=label, color=color, linestyle='--')"
   ]
  },
  {
   "cell_type": "code",
   "execution_count": 134,
   "id": "57665113",
   "metadata": {},
   "outputs": [],
   "source": [
    "# #Generating collocation points\n",
    "# def generate_collocation_points(method='uniform', num_points=10):\n",
    "#     if method == 'uniform':\n",
    "#         x_train = np.linspace(-1, 1, num_points)\n",
    "#     elif method == 'gauss_legendre':\n",
    "#         x_train = roots_legendre(num_points)[0]\n",
    "#     else:\n",
    "#         raise ValueError(\"Unsupported quadrature method\")\n",
    "#     return torch.tensor(x_train.reshape(-1,1), dtype=torch.float32)"
   ]
  },
  {
   "cell_type": "code",
   "execution_count": 137,
   "id": "ec5be84e",
   "metadata": {},
   "outputs": [],
   "source": [
    "def generate_train(n):\n",
    "    xx = np.linspace(0,1,n+1,endpoint=False)\n",
    "    xx = xx[1:]\n",
    "    yy = np.linspace(0,1,n+1,endpoint=False)\n",
    "    yy = yy[1:]\n",
    "    x = []\n",
    "    for i in range(len(xx)):\n",
    "        for j in range(len(yy)):\n",
    "            x.append((xx[i],yy[j]))\n",
    "    return torch.tensor(x, dtype=torch.float32)"
   ]
  },
  {
   "cell_type": "code",
   "execution_count": 138,
   "id": "7a351535",
   "metadata": {},
   "outputs": [
    {
     "name": "stdout",
     "output_type": "stream",
     "text": [
      "Full Training Epoch 0, Loss: 2.530972\n",
      "Full Training Epoch 500, Loss: 0.000062\n",
      "Full Training Epoch 1000, Loss: 0.000015\n",
      "Full Training Epoch 1500, Loss: 0.000009\n",
      "Full Training Epoch 2000, Loss: 0.000006\n",
      "Full Training Epoch 2500, Loss: 0.000005\n",
      "Full Training Epoch 3000, Loss: 0.000004\n",
      "Full Training Epoch 3500, Loss: 0.000002\n",
      "Full Training Epoch 4000, Loss: 0.000002\n",
      "Full Training Epoch 4500, Loss: 0.000002\n",
      "[[-4.7217309e-04]\n",
      " [-4.8436224e-04]\n",
      " [-1.6510487e-04]\n",
      " [-4.2732432e-04]\n",
      " [-2.5243312e-04]\n",
      " [ 7.0832670e-05]\n",
      " [-1.6761944e-04]\n",
      " [ 6.8768859e-05]\n",
      " [ 3.0664727e-04]]\n"
     ]
    }
   ],
   "source": [
    "# # Plotting True Result\n",
    "# x_test = torch.linspace(-1, 1, 100).reshape(-1, 1)\n",
    "# y_true = torch.tanh(x_test).numpy()\n",
    "# plt.plot(x_test.numpy(), y_true, label= r'True Solution$', color='green')\n",
    "\n",
    "# Getting Collocation Points and weights\n",
    "uniform = generate_train(3)\n",
    "\n",
    "#Plotting results\n",
    "create_results(uniform, color='blue',label='Uniform')\n",
    "\n",
    "# #Plotting Prettiness\n",
    "# plt.xlabel('x')\n",
    "# plt.ylabel('u(x)')\n",
    "# plt.legend()\n",
    "# title = r\"$-u''(x) = Eu(x)$\"\n",
    "# plt.title(title)\n",
    "# plt.show()"
   ]
  },
  {
   "cell_type": "code",
   "execution_count": 139,
   "id": "11d2f39a",
   "metadata": {},
   "outputs": [
    {
     "data": {
      "text/plain": [
       "tensor([[0.2500, 0.2500],\n",
       "        [0.2500, 0.5000],\n",
       "        [0.2500, 0.7500],\n",
       "        [0.5000, 0.2500],\n",
       "        [0.5000, 0.5000],\n",
       "        [0.5000, 0.7500],\n",
       "        [0.7500, 0.2500],\n",
       "        [0.7500, 0.5000],\n",
       "        [0.7500, 0.7500]])"
      ]
     },
     "execution_count": 139,
     "metadata": {},
     "output_type": "execute_result"
    }
   ],
   "source": [
    "uniform.requires_grad = False\n",
    "uniform"
   ]
  },
  {
   "cell_type": "code",
   "execution_count": 140,
   "id": "0e134ebb",
   "metadata": {},
   "outputs": [
    {
     "name": "stderr",
     "output_type": "stream",
     "text": [
      "C:\\Users\\Shivam\\AppData\\Local\\Temp\\ipykernel_21852\\3803564809.py:1: DeprecationWarning: __array__ implementation doesn't accept a copy keyword, so passing copy=False failed. __array__ must implement 'dtype' and 'copy' keyword arguments.\n",
      "  uniform = np.array(uniform,dtype=np.float64)\n"
     ]
    },
    {
     "data": {
      "text/plain": [
       "array([[0.25, 0.25],\n",
       "       [0.25, 0.5 ],\n",
       "       [0.25, 0.75],\n",
       "       [0.5 , 0.25],\n",
       "       [0.5 , 0.5 ],\n",
       "       [0.5 , 0.75],\n",
       "       [0.75, 0.25],\n",
       "       [0.75, 0.5 ],\n",
       "       [0.75, 0.75]])"
      ]
     },
     "execution_count": 140,
     "metadata": {},
     "output_type": "execute_result"
    }
   ],
   "source": [
    "uniform = np.array(uniform,dtype=np.float64)\n",
    "uniform"
   ]
  },
  {
   "cell_type": "code",
   "execution_count": 141,
   "id": "17c49ad0",
   "metadata": {},
   "outputs": [
    {
     "data": {
      "text/plain": [
       "[np.float64(0.5000000000000001),\n",
       " np.float64(0.7071067811865476),\n",
       " np.float64(0.5000000000000001),\n",
       " np.float64(0.7071067811865476),\n",
       " np.float64(1.0),\n",
       " np.float64(0.7071067811865476),\n",
       " np.float64(0.5000000000000001),\n",
       " np.float64(0.7071067811865476),\n",
       " np.float64(0.5000000000000001)]"
      ]
     },
     "execution_count": 141,
     "metadata": {},
     "output_type": "execute_result"
    }
   ],
   "source": [
    "y_test = []\n",
    "for i in range(len(uniform)):\n",
    "    y_test.append(eigenfunc(m=1,n=1,x=uniform[i]))\n",
    "y_test"
   ]
  },
  {
   "cell_type": "code",
   "execution_count": null,
   "id": "7405ed4b",
   "metadata": {},
   "outputs": [],
   "source": []
  }
 ],
 "metadata": {
  "kernelspec": {
   "display_name": "tf_env",
   "language": "python",
   "name": "python3"
  },
  "language_info": {
   "codemirror_mode": {
    "name": "ipython",
    "version": 3
   },
   "file_extension": ".py",
   "mimetype": "text/x-python",
   "name": "python",
   "nbconvert_exporter": "python",
   "pygments_lexer": "ipython3",
   "version": "3.10.16"
  }
 },
 "nbformat": 4,
 "nbformat_minor": 5
}

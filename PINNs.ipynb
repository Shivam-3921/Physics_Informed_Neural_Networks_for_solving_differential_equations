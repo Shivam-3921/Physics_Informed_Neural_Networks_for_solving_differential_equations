{
 "cells": [
  {
   "cell_type": "code",
   "execution_count": 57,
   "id": "ccd09410",
   "metadata": {},
   "outputs": [],
   "source": [
    "import torch\n",
    "import torch.nn as nn\n",
    "import numpy as np\n",
    "from torch import tensor, sin, pi\n",
    "import matplotlib.pyplot as plt\n",
    "import pandas as pd\n",
    "from torch.utils.data import random_split, TensorDataset"
   ]
  },
  {
   "cell_type": "markdown",
   "id": "73e2f06d",
   "metadata": {},
   "source": [
    "## PINNs for solving PDEs"
   ]
  },
  {
   "cell_type": "markdown",
   "id": "36722a68",
   "metadata": {},
   "source": [
    "Physics Informed Neural Networks (PINNS) are neural networks that incorporate physics, often described by a PDE, into the training process. This allows the network to be more robust and generalizable by not only learning from the data but also adhering to the underlying physics describing the data. Here, the approach begins with a 1D example problem and is then generalized to solve eigenvalue problems in higher dimensions."
   ]
  },
  {
   "cell_type": "markdown",
   "id": "08caf279",
   "metadata": {},
   "source": [
    "The idea here is to use neural networks to approximate the solution $u$ to this PDE, leveraging their well-known ability as universal function approximators and also automatic differentiation to differentiate the output with respect to their input coordinates."
   ]
  },
  {
   "cell_type": "markdown",
   "id": "af544e08",
   "metadata": {},
   "source": [
    "## 1D problem"
   ]
  },
  {
   "cell_type": "markdown",
   "id": "9e8b2c9d",
   "metadata": {},
   "source": [
    "Consider the following reaction-diffusion equation in 1D\n",
    "$$\n",
    "\\begin{align*}\n",
    "    -\\Delta u + u &= (m^2\\pi^2+1)\\sin(m\\pi x),\\hspace{10pt}\\text{ in }(0,1)\\\\\n",
    "    u(0)&=u(1)=0\n",
    "\\end{align*}\n",
    "$$\n",
    "\n",
    "This PDE can be solved analytically and the exact solution is given by $u(x) = \\sin(m\\pi x)$."
   ]
  },
  {
   "cell_type": "code",
   "execution_count": 2,
   "id": "31ec3c03",
   "metadata": {},
   "outputs": [],
   "source": [
    "# RHS\n",
    "def f(x,m=1):\n",
    "    return (m**2*pi**2+1)*sin(m*pi*x)\n",
    "\n",
    "# Exact Solution\n",
    "def u_exact(x,m=1):\n",
    "    return sin(m*pi*x)"
   ]
  },
  {
   "cell_type": "markdown",
   "id": "f4258cfb",
   "metadata": {},
   "source": [
    "### Creating neural network"
   ]
  },
  {
   "cell_type": "code",
   "execution_count": 3,
   "id": "6796eb4d",
   "metadata": {},
   "outputs": [],
   "source": [
    "# building PINN neural network using nn.Module class\n",
    "class PINN(nn.Module):\n",
    "    def __init__(self):\n",
    "        super(PINN, self).__init__()\n",
    "        self.net = nn.Sequential(\n",
    "            nn.Linear(1, 512),           # here 1 describes that we are working in 1D\n",
    "            nn.Tanh(),\n",
    "            nn.Linear(512, 256),\n",
    "            nn.Tanh(),\n",
    "            nn.Linear(256, 128),\n",
    "            nn.Tanh(),\n",
    "            nn.Linear(128, 64),\n",
    "            nn.Tanh(),\n",
    "            nn.Linear(64, 1)\n",
    "        )\n",
    "\n",
    "    def forward(self, x):\n",
    "        return self.net(x)"
   ]
  },
  {
   "cell_type": "code",
   "execution_count": 4,
   "id": "a4b563fb",
   "metadata": {},
   "outputs": [],
   "source": [
    "# incorporating automatic differentiation\n",
    "def grad(outputs, inputs):\n",
    "    return torch.autograd.grad(outputs, inputs, grad_outputs=torch.ones_like(outputs),create_graph=True)[0]"
   ]
  },
  {
   "cell_type": "markdown",
   "id": "47ff4266",
   "metadata": {},
   "source": [
    "### Loss function"
   ]
  },
  {
   "cell_type": "markdown",
   "id": "40b87ce5",
   "metadata": {},
   "source": [
    "The key idea of PINNs is to incorporate the PDE directly into the loss function along with the boundary conditions. This can be thought of as penalizing the network prediction wherever it deviates from the governing PDE and boundary conditions. The gradients arising in the PDE can be easily computed using automatic differentiation. "
   ]
  },
  {
   "cell_type": "markdown",
   "id": "8e28a9e0",
   "metadata": {},
   "source": [
    "The parameters of the neural networks can be learned by minimizing the mean-squared error loss function\n",
    "$$\n",
    "\\begin{align*}\n",
    "    MSE = MSE_u + MSE_f\n",
    "\\end{align*}\n",
    "$$\n",
    "where\n",
    "$$\n",
    "\\begin{align*}\n",
    "    MSE_b = |u(0)|^2 + |u(1)|^2\n",
    "\\end{align*}\n",
    "$$\n",
    "and\n",
    "$$\n",
    "\\begin{align*}\n",
    "    MSE_i = \\frac{1}{N_i}\\sum_{k=1}^{N_i} |-\\Delta u(x_k) +u(x_k) - f(x_k)|^2\n",
    "\\end{align*}\n",
    "$$\n",
    "$N_i$ describes the number of collocation points which act as checkpoints to check whether the network prediction $u$ satisfies the PDE. $MSE_i$ describes the interior loss of network prediction, and $MSE_b$ describes the boundary loss. The collocation points, along with the endpoints, serve as training data for PINNs."
   ]
  },
  {
   "cell_type": "code",
   "execution_count": 5,
   "id": "521572df",
   "metadata": {},
   "outputs": [],
   "source": [
    "def compute_loss(model: nn.Module, x_train: torch.Tensor,m=1):\n",
    "    # evaluating u(x), f(x), du/dx, d^2u/dx^2 at training data points\n",
    "    x_train.requires_grad_(True)\n",
    "    u = model(x_train)                      # model prediction on training data\n",
    "    du = grad(u,x_train)\n",
    "    d2u = grad(du,x_train)\n",
    "    \n",
    "    #ODE residual: -u\"(x)+ u(x) - f(x)\n",
    "    residual = -d2u[1:-1] + u[1:-1] - f(x_train[1:-1],m)     # ODE-based interior residual\n",
    "    interior_loss = torch.mean(residual ** 2)              # mean-squared interior loss\n",
    "\n",
    "    #calculating boundary loss for problem\n",
    "    left_residual = model(x_train[0])\n",
    "    right_residual = model(x_train[-1])\n",
    "    boundary_loss = torch.mean(left_residual ** 2 + right_residual ** 2)    # mean-squared boundary loss\n",
    "\n",
    "    return interior_loss + boundary_loss"
   ]
  },
  {
   "cell_type": "markdown",
   "id": "84dddbf7",
   "metadata": {},
   "source": [
    "Note that as $m$ increases, the exact solution becomes more oscillatory, making it more difficult to approximate using PINNs."
   ]
  },
  {
   "cell_type": "markdown",
   "id": "4aebe0bd",
   "metadata": {},
   "source": [
    "### Generating Training and test dataset"
   ]
  },
  {
   "cell_type": "markdown",
   "id": "264cd8c3",
   "metadata": {},
   "source": [
    "The training set consists of uniformly spaced points in the interval, totaling $n_{train} = N_i+2$ points, where $N_i$ is the number of datapoints in the interior. Initially, the case where $m=1$ is studied, and then $m$ is incrementally increased to assess the performance of PINNs."
   ]
  },
  {
   "cell_type": "code",
   "execution_count": 6,
   "id": "a7147873",
   "metadata": {},
   "outputs": [
    {
     "data": {
      "text/plain": [
       "tensor([[0.0000],\n",
       "        [0.1000],\n",
       "        [0.2000],\n",
       "        [0.3000],\n",
       "        [0.4000],\n",
       "        [0.5000],\n",
       "        [0.6000],\n",
       "        [0.7000],\n",
       "        [0.8000],\n",
       "        [0.9000],\n",
       "        [1.0000]])"
      ]
     },
     "execution_count": 6,
     "metadata": {},
     "output_type": "execute_result"
    }
   ],
   "source": [
    "# generate the training set\n",
    "n_train = 11\n",
    "x_train = torch.linspace(0,1,n_train).reshape(-1,1)\n",
    "x_train"
   ]
  },
  {
   "cell_type": "code",
   "execution_count": 7,
   "id": "201fb93b",
   "metadata": {},
   "outputs": [
    {
     "data": {
      "text/plain": [
       "tensor([[0.0000],\n",
       "        [0.0101],\n",
       "        [0.0202],\n",
       "        [0.0303],\n",
       "        [0.0404],\n",
       "        [0.0505],\n",
       "        [0.0606],\n",
       "        [0.0707],\n",
       "        [0.0808],\n",
       "        [0.0909],\n",
       "        [0.1010],\n",
       "        [0.1111],\n",
       "        [0.1212],\n",
       "        [0.1313],\n",
       "        [0.1414],\n",
       "        [0.1515],\n",
       "        [0.1616],\n",
       "        [0.1717],\n",
       "        [0.1818],\n",
       "        [0.1919],\n",
       "        [0.2020],\n",
       "        [0.2121],\n",
       "        [0.2222],\n",
       "        [0.2323],\n",
       "        [0.2424],\n",
       "        [0.2525],\n",
       "        [0.2626],\n",
       "        [0.2727],\n",
       "        [0.2828],\n",
       "        [0.2929],\n",
       "        [0.3030],\n",
       "        [0.3131],\n",
       "        [0.3232],\n",
       "        [0.3333],\n",
       "        [0.3434],\n",
       "        [0.3535],\n",
       "        [0.3636],\n",
       "        [0.3737],\n",
       "        [0.3838],\n",
       "        [0.3939],\n",
       "        [0.4040],\n",
       "        [0.4141],\n",
       "        [0.4242],\n",
       "        [0.4343],\n",
       "        [0.4444],\n",
       "        [0.4545],\n",
       "        [0.4646],\n",
       "        [0.4747],\n",
       "        [0.4848],\n",
       "        [0.4949],\n",
       "        [0.5051],\n",
       "        [0.5152],\n",
       "        [0.5253],\n",
       "        [0.5354],\n",
       "        [0.5455],\n",
       "        [0.5556],\n",
       "        [0.5657],\n",
       "        [0.5758],\n",
       "        [0.5859],\n",
       "        [0.5960],\n",
       "        [0.6061],\n",
       "        [0.6162],\n",
       "        [0.6263],\n",
       "        [0.6364],\n",
       "        [0.6465],\n",
       "        [0.6566],\n",
       "        [0.6667],\n",
       "        [0.6768],\n",
       "        [0.6869],\n",
       "        [0.6970],\n",
       "        [0.7071],\n",
       "        [0.7172],\n",
       "        [0.7273],\n",
       "        [0.7374],\n",
       "        [0.7475],\n",
       "        [0.7576],\n",
       "        [0.7677],\n",
       "        [0.7778],\n",
       "        [0.7879],\n",
       "        [0.7980],\n",
       "        [0.8081],\n",
       "        [0.8182],\n",
       "        [0.8283],\n",
       "        [0.8384],\n",
       "        [0.8485],\n",
       "        [0.8586],\n",
       "        [0.8687],\n",
       "        [0.8788],\n",
       "        [0.8889],\n",
       "        [0.8990],\n",
       "        [0.9091],\n",
       "        [0.9192],\n",
       "        [0.9293],\n",
       "        [0.9394],\n",
       "        [0.9495],\n",
       "        [0.9596],\n",
       "        [0.9697],\n",
       "        [0.9798],\n",
       "        [0.9899],\n",
       "        [1.0000]])"
      ]
     },
     "execution_count": 7,
     "metadata": {},
     "output_type": "execute_result"
    }
   ],
   "source": [
    "# generate the test set\n",
    "n_test = 100\n",
    "x_test = torch.linspace(0,1,n_test).reshape(-1,1)\n",
    "x_test "
   ]
  },
  {
   "cell_type": "code",
   "execution_count": 8,
   "id": "37b46ee4",
   "metadata": {},
   "outputs": [
    {
     "data": {
      "text/plain": [
       "tensor([[ 0.0000e+00],\n",
       "        [ 3.1728e-02],\n",
       "        [ 6.3424e-02],\n",
       "        [ 9.5056e-02],\n",
       "        [ 1.2659e-01],\n",
       "        [ 1.5800e-01],\n",
       "        [ 1.8925e-01],\n",
       "        [ 2.2031e-01],\n",
       "        [ 2.5115e-01],\n",
       "        [ 2.8173e-01],\n",
       "        [ 3.1203e-01],\n",
       "        [ 3.4202e-01],\n",
       "        [ 3.7166e-01],\n",
       "        [ 4.0093e-01],\n",
       "        [ 4.2979e-01],\n",
       "        [ 4.5823e-01],\n",
       "        [ 4.8620e-01],\n",
       "        [ 5.1368e-01],\n",
       "        [ 5.4064e-01],\n",
       "        [ 5.6706e-01],\n",
       "        [ 5.9291e-01],\n",
       "        [ 6.1816e-01],\n",
       "        [ 6.4279e-01],\n",
       "        [ 6.6677e-01],\n",
       "        [ 6.9008e-01],\n",
       "        [ 7.1269e-01],\n",
       "        [ 7.3459e-01],\n",
       "        [ 7.5575e-01],\n",
       "        [ 7.7615e-01],\n",
       "        [ 7.9576e-01],\n",
       "        [ 8.1458e-01],\n",
       "        [ 8.3257e-01],\n",
       "        [ 8.4973e-01],\n",
       "        [ 8.6603e-01],\n",
       "        [ 8.8145e-01],\n",
       "        [ 8.9599e-01],\n",
       "        [ 9.0963e-01],\n",
       "        [ 9.2235e-01],\n",
       "        [ 9.3415e-01],\n",
       "        [ 9.4500e-01],\n",
       "        [ 9.5490e-01],\n",
       "        [ 9.6384e-01],\n",
       "        [ 9.7181e-01],\n",
       "        [ 9.7880e-01],\n",
       "        [ 9.8481e-01],\n",
       "        [ 9.8982e-01],\n",
       "        [ 9.9384e-01],\n",
       "        [ 9.9685e-01],\n",
       "        [ 9.9887e-01],\n",
       "        [ 9.9987e-01],\n",
       "        [ 9.9987e-01],\n",
       "        [ 9.9887e-01],\n",
       "        [ 9.9685e-01],\n",
       "        [ 9.9384e-01],\n",
       "        [ 9.8982e-01],\n",
       "        [ 9.8481e-01],\n",
       "        [ 9.7880e-01],\n",
       "        [ 9.7181e-01],\n",
       "        [ 9.6384e-01],\n",
       "        [ 9.5490e-01],\n",
       "        [ 9.4500e-01],\n",
       "        [ 9.3415e-01],\n",
       "        [ 9.2235e-01],\n",
       "        [ 9.0963e-01],\n",
       "        [ 8.9599e-01],\n",
       "        [ 8.8145e-01],\n",
       "        [ 8.6603e-01],\n",
       "        [ 8.4973e-01],\n",
       "        [ 8.3257e-01],\n",
       "        [ 8.1458e-01],\n",
       "        [ 7.9576e-01],\n",
       "        [ 7.7615e-01],\n",
       "        [ 7.5575e-01],\n",
       "        [ 7.3459e-01],\n",
       "        [ 7.1269e-01],\n",
       "        [ 6.9008e-01],\n",
       "        [ 6.6677e-01],\n",
       "        [ 6.4279e-01],\n",
       "        [ 6.1816e-01],\n",
       "        [ 5.9291e-01],\n",
       "        [ 5.6706e-01],\n",
       "        [ 5.4064e-01],\n",
       "        [ 5.1368e-01],\n",
       "        [ 4.8620e-01],\n",
       "        [ 4.5823e-01],\n",
       "        [ 4.2979e-01],\n",
       "        [ 4.0093e-01],\n",
       "        [ 3.7166e-01],\n",
       "        [ 3.4202e-01],\n",
       "        [ 3.1203e-01],\n",
       "        [ 2.8173e-01],\n",
       "        [ 2.5115e-01],\n",
       "        [ 2.2031e-01],\n",
       "        [ 1.8925e-01],\n",
       "        [ 1.5800e-01],\n",
       "        [ 1.2659e-01],\n",
       "        [ 9.5056e-02],\n",
       "        [ 6.3424e-02],\n",
       "        [ 3.1728e-02],\n",
       "        [-8.7423e-08]])"
      ]
     },
     "execution_count": 8,
     "metadata": {},
     "output_type": "execute_result"
    }
   ],
   "source": [
    "y_test = u_exact(x_test)\n",
    "y_test"
   ]
  },
  {
   "cell_type": "markdown",
   "id": "4f94bd4b",
   "metadata": {},
   "source": [
    "### Training and predicting using PINN"
   ]
  },
  {
   "cell_type": "markdown",
   "id": "56565930",
   "metadata": {},
   "source": [
    "Here, Adam optimizer with learning rate 0.001 is used to minimize the loss function described above. "
   ]
  },
  {
   "cell_type": "code",
   "execution_count": 9,
   "id": "0a55c7d7",
   "metadata": {},
   "outputs": [],
   "source": [
    "# defining a function to train PINN\n",
    "def train_PINN(x_train,num_epochs,m=1,verbose = True):\n",
    "    model = PINN()\n",
    "    optimizer = torch.optim.Adam(model.parameters(), lr=0.001)\n",
    "    # Iterate training over epochs\n",
    "    for epoch in range(num_epochs):\n",
    "        loss = compute_loss(model, x_train,m)\n",
    "        optimizer.zero_grad()\n",
    "        loss.backward()\n",
    "        optimizer.step()\n",
    "\n",
    "        if epoch % 500 == 0 and verbose ==True:\n",
    "            print(f\"Full Training Epoch {epoch}, Loss: {loss.item():.6f},m:{m}\")\n",
    "\n",
    "    return model"
   ]
  },
  {
   "cell_type": "code",
   "execution_count": 10,
   "id": "242e81d9",
   "metadata": {},
   "outputs": [
    {
     "name": "stdout",
     "output_type": "stream",
     "text": [
      "Full Training Epoch 0, Loss: 65.091316,m:1\n",
      "Full Training Epoch 500, Loss: 0.005330,m:1\n",
      "Full Training Epoch 1000, Loss: 0.000003,m:1\n",
      "Full Training Epoch 1500, Loss: 0.000148,m:1\n",
      "Full Training Epoch 2000, Loss: 0.004150,m:1\n"
     ]
    }
   ],
   "source": [
    "num_epochs = 2500\n",
    "u = train_PINN(x_train,num_epochs)"
   ]
  },
  {
   "cell_type": "code",
   "execution_count": 11,
   "id": "681095d1",
   "metadata": {},
   "outputs": [
    {
     "data": {
      "text/plain": [
       "tensor([[ 1.0785e-04],\n",
       "        [ 3.1860e-02],\n",
       "        [ 6.3572e-02],\n",
       "        [ 9.5214e-02],\n",
       "        [ 1.2676e-01],\n",
       "        [ 1.5817e-01],\n",
       "        [ 1.8942e-01],\n",
       "        [ 2.2047e-01],\n",
       "        [ 2.5131e-01],\n",
       "        [ 2.8189e-01],\n",
       "        [ 3.1219e-01],\n",
       "        [ 3.4218e-01],\n",
       "        [ 3.7182e-01],\n",
       "        [ 4.0109e-01],\n",
       "        [ 4.2995e-01],\n",
       "        [ 4.5838e-01],\n",
       "        [ 4.8635e-01],\n",
       "        [ 5.1383e-01],\n",
       "        [ 5.4079e-01],\n",
       "        [ 5.6720e-01],\n",
       "        [ 5.9305e-01],\n",
       "        [ 6.1830e-01],\n",
       "        [ 6.4292e-01],\n",
       "        [ 6.6690e-01],\n",
       "        [ 6.9020e-01],\n",
       "        [ 7.1281e-01],\n",
       "        [ 7.3471e-01],\n",
       "        [ 7.5586e-01],\n",
       "        [ 7.7625e-01],\n",
       "        [ 7.9586e-01],\n",
       "        [ 8.1468e-01],\n",
       "        [ 8.3267e-01],\n",
       "        [ 8.4982e-01],\n",
       "        [ 8.6612e-01],\n",
       "        [ 8.8155e-01],\n",
       "        [ 8.9609e-01],\n",
       "        [ 9.0973e-01],\n",
       "        [ 9.2245e-01],\n",
       "        [ 9.3425e-01],\n",
       "        [ 9.4510e-01],\n",
       "        [ 9.5500e-01],\n",
       "        [ 9.6394e-01],\n",
       "        [ 9.7191e-01],\n",
       "        [ 9.7890e-01],\n",
       "        [ 9.8491e-01],\n",
       "        [ 9.8992e-01],\n",
       "        [ 9.9393e-01],\n",
       "        [ 9.9694e-01],\n",
       "        [ 9.9895e-01],\n",
       "        [ 9.9995e-01],\n",
       "        [ 9.9995e-01],\n",
       "        [ 9.9893e-01],\n",
       "        [ 9.9692e-01],\n",
       "        [ 9.9390e-01],\n",
       "        [ 9.8987e-01],\n",
       "        [ 9.8486e-01],\n",
       "        [ 9.7885e-01],\n",
       "        [ 9.7186e-01],\n",
       "        [ 9.6389e-01],\n",
       "        [ 9.5495e-01],\n",
       "        [ 9.4505e-01],\n",
       "        [ 9.3419e-01],\n",
       "        [ 9.2240e-01],\n",
       "        [ 9.0968e-01],\n",
       "        [ 8.9604e-01],\n",
       "        [ 8.8151e-01],\n",
       "        [ 8.6608e-01],\n",
       "        [ 8.4978e-01],\n",
       "        [ 8.3262e-01],\n",
       "        [ 8.1463e-01],\n",
       "        [ 7.9582e-01],\n",
       "        [ 7.7620e-01],\n",
       "        [ 7.5580e-01],\n",
       "        [ 7.3464e-01],\n",
       "        [ 7.1274e-01],\n",
       "        [ 6.9012e-01],\n",
       "        [ 6.6680e-01],\n",
       "        [ 6.4281e-01],\n",
       "        [ 6.1818e-01],\n",
       "        [ 5.9292e-01],\n",
       "        [ 5.6707e-01],\n",
       "        [ 5.4065e-01],\n",
       "        [ 5.1368e-01],\n",
       "        [ 4.8620e-01],\n",
       "        [ 4.5823e-01],\n",
       "        [ 4.2980e-01],\n",
       "        [ 4.0093e-01],\n",
       "        [ 3.7167e-01],\n",
       "        [ 3.4203e-01],\n",
       "        [ 3.1204e-01],\n",
       "        [ 2.8175e-01],\n",
       "        [ 2.5117e-01],\n",
       "        [ 2.2033e-01],\n",
       "        [ 1.8927e-01],\n",
       "        [ 1.5801e-01],\n",
       "        [ 1.2659e-01],\n",
       "        [ 9.5043e-02],\n",
       "        [ 6.3387e-02],\n",
       "        [ 3.1658e-02],\n",
       "        [-1.1475e-04]], grad_fn=<AddmmBackward0>)"
      ]
     },
     "execution_count": 11,
     "metadata": {},
     "output_type": "execute_result"
    }
   ],
   "source": [
    "# Predicting using obtained u\n",
    "y_pred = u(x_test)\n",
    "y_pred"
   ]
  },
  {
   "cell_type": "code",
   "execution_count": 12,
   "id": "e62f0e67",
   "metadata": {},
   "outputs": [
    {
     "data": {
      "text/plain": [
       "True"
      ]
     },
     "execution_count": 12,
     "metadata": {},
     "output_type": "execute_result"
    }
   ],
   "source": [
    "y_pred.shape == y_test.shape"
   ]
  },
  {
   "cell_type": "markdown",
   "id": "bb270c0f",
   "metadata": {},
   "source": [
    "### Calculating $L^2$ error of the solution"
   ]
  },
  {
   "cell_type": "code",
   "execution_count": 13,
   "id": "a8df275a",
   "metadata": {},
   "outputs": [],
   "source": [
    "def L2_error(y_pred,y_test):\n",
    "    return torch.sum((y_test - y_pred)**2)"
   ]
  },
  {
   "cell_type": "code",
   "execution_count": 14,
   "id": "e252c014",
   "metadata": {},
   "outputs": [
    {
     "name": "stdout",
     "output_type": "stream",
     "text": [
      "L2_error of approximation: 8.972145906227524e-07\n"
     ]
    }
   ],
   "source": [
    "error = L2_error(y_pred,y_test)\n",
    "print(f\"L2_error of approximation: {error}\")"
   ]
  },
  {
   "cell_type": "markdown",
   "id": "4f2ab8c9",
   "metadata": {},
   "source": [
    "### Plotting the solution"
   ]
  },
  {
   "cell_type": "code",
   "execution_count": 15,
   "id": "98a5ec59",
   "metadata": {},
   "outputs": [],
   "source": [
    "y_train = u_exact(x_train)\n",
    "x_train.requires_grad_(False)\n",
    "y_train = y_train.detach().numpy()\n",
    "y_pred = y_pred.detach().numpy()"
   ]
  },
  {
   "cell_type": "code",
   "execution_count": 16,
   "id": "a854503d",
   "metadata": {},
   "outputs": [
    {
     "data": {
      "image/png": "[encoded data removed]",
      "text/plain": [
       "<Figure size 640x480 with 1 Axes>"
      ]
     },
     "metadata": {},
     "output_type": "display_data"
    }
   ],
   "source": [
    "plt.plot(x_test,y_test,label = \"Exact Solution\",linestyle=\"-\",color = \"red\",linewidth = 0.75)\n",
    "plt.plot(x_test,y_pred,label = \"Predicted Solution\",linestyle=\"--\",linewidth = 1.5,color = \"black\")\n",
    "plt.plot(x_train,np.zeros_like(x_train),label=\"Collocation Points\",linestyle = \"None\", marker = \"o\",markersize  =5)\n",
    "plt.xlabel(\"x\")\n",
    "plt.legend()\n",
    "plt.show()"
   ]
  },
  {
   "cell_type": "markdown",
   "id": "c6fef335",
   "metadata": {},
   "source": [
    "### Convergence Study"
   ]
  },
  {
   "cell_type": "code",
   "execution_count": 17,
   "id": "5abd53a5",
   "metadata": {},
   "outputs": [
    {
     "data": {
      "text/html": [
       "<div>\n",
       "<style scoped>\n",
       "    .dataframe tbody tr th:only-of-type {\n",
       "        vertical-align: middle;\n",
       "    }\n",
       "\n",
       "    .dataframe tbody tr th {\n",
       "        vertical-align: top;\n",
       "    }\n",
       "\n",
       "    .dataframe thead th {\n",
       "        text-align: right;\n",
       "    }\n",
       "</style>\n",
       "<table border=\"1\" class=\"dataframe\">\n",
       "  <thead>\n",
       "    <tr style=\"text-align: right;\">\n",
       "      <th></th>\n",
       "      <th>Epochs</th>\n",
       "      <th>L2 error</th>\n",
       "    </tr>\n",
       "  </thead>\n",
       "  <tbody>\n",
       "    <tr>\n",
       "      <th>0</th>\n",
       "      <td>1000.0</td>\n",
       "      <td>0.000007</td>\n",
       "    </tr>\n",
       "    <tr>\n",
       "      <th>1</th>\n",
       "      <td>2000.0</td>\n",
       "      <td>0.001671</td>\n",
       "    </tr>\n",
       "    <tr>\n",
       "      <th>2</th>\n",
       "      <td>4000.0</td>\n",
       "      <td>0.000966</td>\n",
       "    </tr>\n",
       "    <tr>\n",
       "      <th>3</th>\n",
       "      <td>8000.0</td>\n",
       "      <td>0.001155</td>\n",
       "    </tr>\n",
       "  </tbody>\n",
       "</table>\n",
       "</div>"
      ],
      "text/plain": [
       "   Epochs  L2 error\n",
       "0  1000.0  0.000007\n",
       "1  2000.0  0.001671\n",
       "2  4000.0  0.000966\n",
       "3  8000.0  0.001155"
      ]
     },
     "execution_count": 17,
     "metadata": {},
     "output_type": "execute_result"
    }
   ],
   "source": [
    "epochs = [1000,2000,4000,8000]\n",
    "L2_err = []\n",
    "\n",
    "# generate the training set\n",
    "n_train = 11\n",
    "x_train = torch.linspace(0,1,n_train).reshape(-1,1)\n",
    "\n",
    "# generate the test set\n",
    "n_test = 100\n",
    "x_test = torch.linspace(0,1,n_test).reshape(-1,1)\n",
    "y_test = u_exact(x_test)\n",
    "\n",
    "for epoch in epochs:\n",
    "    u = train_PINN(x_train,epoch,verbose=False)\n",
    "    y_pred = u(x_test)\n",
    "\n",
    "    L2_err.append(L2_error(y_pred,y_test).detach().numpy())\n",
    "\n",
    "table = pd.DataFrame(data= np.transpose([epochs, L2_err]),columns=[\"Epochs\",\"L2 error\"])\n",
    "table"
   ]
  },
  {
   "cell_type": "code",
   "execution_count": 18,
   "id": "6409db76",
   "metadata": {},
   "outputs": [
    {
     "data": {
      "text/html": [
       "<div>\n",
       "<style scoped>\n",
       "    .dataframe tbody tr th:only-of-type {\n",
       "        vertical-align: middle;\n",
       "    }\n",
       "\n",
       "    .dataframe tbody tr th {\n",
       "        vertical-align: top;\n",
       "    }\n",
       "\n",
       "    .dataframe thead th {\n",
       "        text-align: right;\n",
       "    }\n",
       "</style>\n",
       "<table border=\"1\" class=\"dataframe\">\n",
       "  <thead>\n",
       "    <tr style=\"text-align: right;\">\n",
       "      <th></th>\n",
       "      <th>Train size</th>\n",
       "      <th>L2 error</th>\n",
       "    </tr>\n",
       "  </thead>\n",
       "  <tbody>\n",
       "    <tr>\n",
       "      <th>0</th>\n",
       "      <td>10.0</td>\n",
       "      <td>0.000023</td>\n",
       "    </tr>\n",
       "    <tr>\n",
       "      <th>1</th>\n",
       "      <td>20.0</td>\n",
       "      <td>0.987259</td>\n",
       "    </tr>\n",
       "    <tr>\n",
       "      <th>2</th>\n",
       "      <td>40.0</td>\n",
       "      <td>1.266077</td>\n",
       "    </tr>\n",
       "    <tr>\n",
       "      <th>3</th>\n",
       "      <td>80.0</td>\n",
       "      <td>0.000022</td>\n",
       "    </tr>\n",
       "    <tr>\n",
       "      <th>4</th>\n",
       "      <td>160.0</td>\n",
       "      <td>0.003238</td>\n",
       "    </tr>\n",
       "  </tbody>\n",
       "</table>\n",
       "</div>"
      ],
      "text/plain": [
       "   Train size  L2 error\n",
       "0        10.0  0.000023\n",
       "1        20.0  0.987259\n",
       "2        40.0  1.266077\n",
       "3        80.0  0.000022\n",
       "4       160.0  0.003238"
      ]
     },
     "execution_count": 18,
     "metadata": {},
     "output_type": "execute_result"
    }
   ],
   "source": [
    "train_size = [10,20,40,80,160]\n",
    "L2_err = []\n",
    "num_epochs = 5000\n",
    "\n",
    "# generate the test set\n",
    "n_test = 1000\n",
    "x_test = torch.linspace(0,1,n_test).reshape(-1,1)\n",
    "y_test = u_exact(x_test)\n",
    "\n",
    "for n_train in train_size:\n",
    "    # generate the training set\n",
    "    x_train = torch.linspace(0,1,n_train).reshape(-1,1)\n",
    "\n",
    "    u = train_PINN(x_train,num_epochs,verbose=False)\n",
    "    y_pred = u(x_test)\n",
    "\n",
    "    L2_err.append(L2_error(y_pred,y_test).detach().numpy())\n",
    "    \n",
    "table = pd.DataFrame(data= np.transpose([train_size, L2_err]),columns=[\"Train size\",\"L2 error\"])\n",
    "table"
   ]
  },
  {
   "cell_type": "markdown",
   "id": "29ec4d32",
   "metadata": {},
   "source": [
    "### Convergence Study for $m=2$"
   ]
  },
  {
   "cell_type": "code",
   "execution_count": 19,
   "id": "d1c1b699",
   "metadata": {},
   "outputs": [
    {
     "data": {
      "text/html": [
       "<div>\n",
       "<style scoped>\n",
       "    .dataframe tbody tr th:only-of-type {\n",
       "        vertical-align: middle;\n",
       "    }\n",
       "\n",
       "    .dataframe tbody tr th {\n",
       "        vertical-align: top;\n",
       "    }\n",
       "\n",
       "    .dataframe thead th {\n",
       "        text-align: right;\n",
       "    }\n",
       "</style>\n",
       "<table border=\"1\" class=\"dataframe\">\n",
       "  <thead>\n",
       "    <tr style=\"text-align: right;\">\n",
       "      <th></th>\n",
       "      <th>Epochs</th>\n",
       "      <th>L2 error</th>\n",
       "    </tr>\n",
       "  </thead>\n",
       "  <tbody>\n",
       "    <tr>\n",
       "      <th>0</th>\n",
       "      <td>1000.0</td>\n",
       "      <td>0.009231</td>\n",
       "    </tr>\n",
       "    <tr>\n",
       "      <th>1</th>\n",
       "      <td>2000.0</td>\n",
       "      <td>0.067875</td>\n",
       "    </tr>\n",
       "    <tr>\n",
       "      <th>2</th>\n",
       "      <td>4000.0</td>\n",
       "      <td>0.001738</td>\n",
       "    </tr>\n",
       "    <tr>\n",
       "      <th>3</th>\n",
       "      <td>8000.0</td>\n",
       "      <td>0.000566</td>\n",
       "    </tr>\n",
       "  </tbody>\n",
       "</table>\n",
       "</div>"
      ],
      "text/plain": [
       "   Epochs  L2 error\n",
       "0  1000.0  0.009231\n",
       "1  2000.0  0.067875\n",
       "2  4000.0  0.001738\n",
       "3  8000.0  0.000566"
      ]
     },
     "execution_count": 19,
     "metadata": {},
     "output_type": "execute_result"
    }
   ],
   "source": [
    "epochs = [1000,2000,4000,8000]\n",
    "L2_err = []\n",
    "m=2\n",
    "# generate the training set\n",
    "n_train = 20\n",
    "x_train = torch.linspace(0,1,n_train).reshape(-1,1)\n",
    "\n",
    "# generate the test set\n",
    "n_test = 100\n",
    "x_test = torch.linspace(0,1,n_test).reshape(-1,1)\n",
    "y_test = u_exact(x_test,m)\n",
    "\n",
    "for epoch in epochs:\n",
    "    u = train_PINN(x_train=x_train,num_epochs=epoch,m=m,verbose=False)\n",
    "    y_pred = u(x_test)\n",
    "\n",
    "    L2_err.append(L2_error(y_pred,y_test).detach().numpy())\n",
    "\n",
    "table = pd.DataFrame(data= np.transpose([epochs, L2_err]),columns=[\"Epochs\",\"L2 error\"])\n",
    "table"
   ]
  },
  {
   "cell_type": "code",
   "execution_count": 20,
   "id": "0a637714",
   "metadata": {},
   "outputs": [
    {
     "data": {
      "text/html": [
       "<div>\n",
       "<style scoped>\n",
       "    .dataframe tbody tr th:only-of-type {\n",
       "        vertical-align: middle;\n",
       "    }\n",
       "\n",
       "    .dataframe tbody tr th {\n",
       "        vertical-align: top;\n",
       "    }\n",
       "\n",
       "    .dataframe thead th {\n",
       "        text-align: right;\n",
       "    }\n",
       "</style>\n",
       "<table border=\"1\" class=\"dataframe\">\n",
       "  <thead>\n",
       "    <tr style=\"text-align: right;\">\n",
       "      <th></th>\n",
       "      <th>Train size</th>\n",
       "      <th>L2 error</th>\n",
       "    </tr>\n",
       "  </thead>\n",
       "  <tbody>\n",
       "    <tr>\n",
       "      <th>0</th>\n",
       "      <td>10.0</td>\n",
       "      <td>0.074487</td>\n",
       "    </tr>\n",
       "    <tr>\n",
       "      <th>1</th>\n",
       "      <td>20.0</td>\n",
       "      <td>0.021619</td>\n",
       "    </tr>\n",
       "    <tr>\n",
       "      <th>2</th>\n",
       "      <td>40.0</td>\n",
       "      <td>0.004394</td>\n",
       "    </tr>\n",
       "    <tr>\n",
       "      <th>3</th>\n",
       "      <td>80.0</td>\n",
       "      <td>0.241653</td>\n",
       "    </tr>\n",
       "    <tr>\n",
       "      <th>4</th>\n",
       "      <td>160.0</td>\n",
       "      <td>0.243441</td>\n",
       "    </tr>\n",
       "  </tbody>\n",
       "</table>\n",
       "</div>"
      ],
      "text/plain": [
       "   Train size  L2 error\n",
       "0        10.0  0.074487\n",
       "1        20.0  0.021619\n",
       "2        40.0  0.004394\n",
       "3        80.0  0.241653\n",
       "4       160.0  0.243441"
      ]
     },
     "execution_count": 20,
     "metadata": {},
     "output_type": "execute_result"
    }
   ],
   "source": [
    "train_size = [10,20,40,80,160]\n",
    "L2_err = []\n",
    "num_epochs = 5000\n",
    "m=2\n",
    "\n",
    "# generate the test set\n",
    "n_test = 1000\n",
    "x_test = torch.linspace(0,1,n_test).reshape(-1,1)\n",
    "y_test = u_exact(x_test,m)\n",
    "\n",
    "for n_train in train_size:\n",
    "    # generate the training set\n",
    "    x_train = torch.linspace(0,1,n_train).reshape(-1,1)\n",
    "\n",
    "    u = train_PINN(x_train=x_train,num_epochs=num_epochs,m=m,verbose=False)\n",
    "    y_pred = u(x_test)\n",
    "\n",
    "    L2_err.append(L2_error(y_pred,y_test).detach().numpy())\n",
    "\n",
    "table = pd.DataFrame(data= np.transpose([train_size, L2_err]),columns=[\"Train size\",\"L2 error\"])\n",
    "table"
   ]
  },
  {
   "cell_type": "code",
   "execution_count": 21,
   "id": "0a9dd213",
   "metadata": {},
   "outputs": [],
   "source": [
    "y_train = u_exact(x_train,m)\n",
    "x_train.requires_grad_(False)\n",
    "y_train = y_train.detach().numpy()\n",
    "y_pred = y_pred.detach().numpy()"
   ]
  },
  {
   "cell_type": "code",
   "execution_count": 22,
   "id": "50a97683",
   "metadata": {},
   "outputs": [
    {
     "data": {
      "image/png": "[encoded data removed]",
      "text/plain": [
       "<Figure size 640x480 with 1 Axes>"
      ]
     },
     "metadata": {},
     "output_type": "display_data"
    }
   ],
   "source": [
    "plt.plot(x_test,y_test,label = \"Exact Solution\",linestyle=\"-\",color = \"red\",linewidth = 1.75)\n",
    "plt.plot(x_test,y_pred,label = \"Predicted Solution\",linestyle=\"--\",linewidth = 2.5,color = \"black\")\n",
    "plt.plot(x_train,np.zeros_like(x_train),label=\"Collocation Points\",linestyle = \"None\", marker = \"o\",markersize  =5)\n",
    "plt.xlabel(\"x\")\n",
    "plt.legend()\n",
    "plt.show()"
   ]
  },
  {
   "cell_type": "markdown",
   "id": "16e7ce18",
   "metadata": {},
   "source": [
    "### Convergence Study for $m=4$"
   ]
  },
  {
   "cell_type": "code",
   "execution_count": 23,
   "id": "106ce1ca",
   "metadata": {},
   "outputs": [
    {
     "data": {
      "text/html": [
       "<div>\n",
       "<style scoped>\n",
       "    .dataframe tbody tr th:only-of-type {\n",
       "        vertical-align: middle;\n",
       "    }\n",
       "\n",
       "    .dataframe tbody tr th {\n",
       "        vertical-align: top;\n",
       "    }\n",
       "\n",
       "    .dataframe thead th {\n",
       "        text-align: right;\n",
       "    }\n",
       "</style>\n",
       "<table border=\"1\" class=\"dataframe\">\n",
       "  <thead>\n",
       "    <tr style=\"text-align: right;\">\n",
       "      <th></th>\n",
       "      <th>Epochs</th>\n",
       "      <th>L2 error</th>\n",
       "    </tr>\n",
       "  </thead>\n",
       "  <tbody>\n",
       "    <tr>\n",
       "      <th>0</th>\n",
       "      <td>4000.0</td>\n",
       "      <td>7.775548</td>\n",
       "    </tr>\n",
       "    <tr>\n",
       "      <th>1</th>\n",
       "      <td>8000.0</td>\n",
       "      <td>1.706467</td>\n",
       "    </tr>\n",
       "    <tr>\n",
       "      <th>2</th>\n",
       "      <td>16000.0</td>\n",
       "      <td>0.146572</td>\n",
       "    </tr>\n",
       "    <tr>\n",
       "      <th>3</th>\n",
       "      <td>32000.0</td>\n",
       "      <td>0.833563</td>\n",
       "    </tr>\n",
       "  </tbody>\n",
       "</table>\n",
       "</div>"
      ],
      "text/plain": [
       "    Epochs  L2 error\n",
       "0   4000.0  7.775548\n",
       "1   8000.0  1.706467\n",
       "2  16000.0  0.146572\n",
       "3  32000.0  0.833563"
      ]
     },
     "execution_count": 23,
     "metadata": {},
     "output_type": "execute_result"
    }
   ],
   "source": [
    "epochs = [4000,8000,16000,32000]\n",
    "L2_err = []\n",
    "m=4\n",
    "# generate the training set\n",
    "n_train = 20\n",
    "x_train = torch.linspace(0,1,n_train).reshape(-1,1)\n",
    "\n",
    "# generate the test set\n",
    "n_test = 100\n",
    "x_test = torch.linspace(0,1,n_test).reshape(-1,1)\n",
    "y_test = u_exact(x_test,m)\n",
    "\n",
    "for epoch in epochs:\n",
    "    u = train_PINN(x_train=x_train,num_epochs=epoch,m=m,verbose=False)\n",
    "    y_pred = u(x_test)\n",
    "\n",
    "    L2_err.append(L2_error(y_pred,y_test).detach().numpy())\n",
    "\n",
    "table = pd.DataFrame(data= np.transpose([epochs, L2_err]),columns=[\"Epochs\",\"L2 error\"])\n",
    "table"
   ]
  },
  {
   "cell_type": "code",
   "execution_count": 24,
   "id": "8d09ec03",
   "metadata": {},
   "outputs": [
    {
     "data": {
      "text/html": [
       "<div>\n",
       "<style scoped>\n",
       "    .dataframe tbody tr th:only-of-type {\n",
       "        vertical-align: middle;\n",
       "    }\n",
       "\n",
       "    .dataframe tbody tr th {\n",
       "        vertical-align: top;\n",
       "    }\n",
       "\n",
       "    .dataframe thead th {\n",
       "        text-align: right;\n",
       "    }\n",
       "</style>\n",
       "<table border=\"1\" class=\"dataframe\">\n",
       "  <thead>\n",
       "    <tr style=\"text-align: right;\">\n",
       "      <th></th>\n",
       "      <th>Train size</th>\n",
       "      <th>L2 error</th>\n",
       "    </tr>\n",
       "  </thead>\n",
       "  <tbody>\n",
       "    <tr>\n",
       "      <th>0</th>\n",
       "      <td>20.0</td>\n",
       "      <td>66.073608</td>\n",
       "    </tr>\n",
       "    <tr>\n",
       "      <th>1</th>\n",
       "      <td>40.0</td>\n",
       "      <td>0.378673</td>\n",
       "    </tr>\n",
       "    <tr>\n",
       "      <th>2</th>\n",
       "      <td>80.0</td>\n",
       "      <td>0.283537</td>\n",
       "    </tr>\n",
       "    <tr>\n",
       "      <th>3</th>\n",
       "      <td>160.0</td>\n",
       "      <td>1.319404</td>\n",
       "    </tr>\n",
       "    <tr>\n",
       "      <th>4</th>\n",
       "      <td>320.0</td>\n",
       "      <td>0.813620</td>\n",
       "    </tr>\n",
       "  </tbody>\n",
       "</table>\n",
       "</div>"
      ],
      "text/plain": [
       "   Train size   L2 error\n",
       "0        20.0  66.073608\n",
       "1        40.0   0.378673\n",
       "2        80.0   0.283537\n",
       "3       160.0   1.319404\n",
       "4       320.0   0.813620"
      ]
     },
     "execution_count": 24,
     "metadata": {},
     "output_type": "execute_result"
    }
   ],
   "source": [
    "train_size = [20,40,80,160,320]\n",
    "L2_err = []\n",
    "num_epochs = 10000\n",
    "m=4\n",
    "\n",
    "# generate the test set\n",
    "n_test = 1000\n",
    "x_test = torch.linspace(0,1,n_test).reshape(-1,1)\n",
    "y_test = u_exact(x_test,m)\n",
    "\n",
    "for n_train in train_size:\n",
    "    # generate the training set\n",
    "    x_train = torch.linspace(0,1,n_train).reshape(-1,1)\n",
    "\n",
    "    u = train_PINN(x_train=x_train,num_epochs=num_epochs,m=m,verbose=False)\n",
    "    y_pred = u(x_test)\n",
    "\n",
    "    L2_err.append(L2_error(y_pred,y_test).detach().numpy())\n",
    "\n",
    "table = pd.DataFrame(data= np.transpose([train_size, L2_err]),columns=[\"Train size\",\"L2 error\"])\n",
    "table"
   ]
  },
  {
   "cell_type": "code",
   "execution_count": 25,
   "id": "d337ec60",
   "metadata": {},
   "outputs": [],
   "source": [
    "y_train = u_exact(x_train,m)\n",
    "x_train.requires_grad_(False)\n",
    "y_train = y_train.detach().numpy()\n",
    "y_pred = y_pred.detach().numpy()"
   ]
  },
  {
   "cell_type": "code",
   "execution_count": 26,
   "id": "97af21c4",
   "metadata": {},
   "outputs": [
    {
     "data": {
      "image/png": "[encoded data removed]",
      "text/plain": [
       "<Figure size 640x480 with 1 Axes>"
      ]
     },
     "metadata": {},
     "output_type": "display_data"
    }
   ],
   "source": [
    "plt.plot(x_test,y_test,label = \"Exact Solution\",linestyle=\"-\",color = \"red\",linewidth = 1.75)\n",
    "plt.plot(x_test,y_pred,label = \"Predicted Solution\",linestyle=\"--\",linewidth = 2.5,color = \"black\")\n",
    "plt.plot(x_train,np.zeros_like(x_train),label=\"Collocation Points\",linestyle = \"None\", marker = \"o\",markersize  =5)\n",
    "plt.xlabel(\"x\")\n",
    "plt.legend()\n",
    "plt.show()"
   ]
  },
  {
   "cell_type": "markdown",
   "id": "7eeebfd2",
   "metadata": {},
   "source": [
    "Approximating highly oscillatory solutions using PINNs is challenging. As demonstrated above, an increase in the parameter $m$ correlates with an increased number of epochs required to achieve a desired accuracy. This difficulty can be mitigated by increasing either the number of collocation points or the number of hidden layers in the neural network."
   ]
  },
  {
   "cell_type": "markdown",
   "id": "637408ab",
   "metadata": {},
   "source": [
    "## 2D Problem"
   ]
  },
  {
   "cell_type": "markdown",
   "id": "d569286d",
   "metadata": {},
   "source": [
    "Consider the following two-dimensional problem\n",
    "$$\n",
    "\\begin{align*}\n",
    "    -\\Delta u +u &= (m^2\\pi^2+n^2\\pi^2+1)\\sin(m\\pi x)\\sin(n\\pi y),\\hspace{10pt}\\text{ in }(0,1)\\\\\n",
    "    u(0)&=u(1)=0\n",
    "\\end{align*}\n",
    "$$\n",
    "\n",
    "The exact solution is given by $u_{mn} = \\sin(m\\pi x)\\sin(n \\pi y)$."
   ]
  },
  {
   "cell_type": "code",
   "execution_count": 2,
   "id": "92e2e0c7",
   "metadata": {},
   "outputs": [],
   "source": [
    "# RHS\n",
    "def f(x,m=1,n=1):\n",
    "    return (m**2*pi**2+n**2*pi**2+1)*sin(m*pi*x[0])*sin(n*pi*x[1])\n",
    "\n",
    "# Exact Solution\n",
    "def u_exact(x,m=1,n=1):\n",
    "    return sin(m*pi*x[0])*sin(n*pi*x[1])"
   ]
  },
  {
   "cell_type": "markdown",
   "id": "120d8c33",
   "metadata": {},
   "source": [
    "### Creating PINN"
   ]
  },
  {
   "cell_type": "code",
   "execution_count": 213,
   "id": "59eb464c",
   "metadata": {},
   "outputs": [],
   "source": [
    "# building PINN neural network using nn.Module class\n",
    "class PINN(nn.Module):\n",
    "    def __init__(self):\n",
    "        super(PINN, self).__init__()\n",
    "        self.net = nn.Sequential(\n",
    "            nn.Linear(2, 128),          # here 2 describes that we are working in 2D\n",
    "            nn.ReLU(),\n",
    "            nn.Linear(128, 128),           \n",
    "            nn.ReLU(),\n",
    "            nn.Linear(128, 128),\n",
    "            nn.ReLU(),\n",
    "            nn.Linear(128, 128),\n",
    "            nn.ReLU(),\n",
    "            nn.Linear(128, 128),\n",
    "            nn.ReLU(),\n",
    "            nn.Linear(128, 128),\n",
    "            nn.ReLU(),\n",
    "            nn.Linear(128, 128),\n",
    "            nn.ReLU(),\n",
    "            nn.Linear(128, 128),\n",
    "            nn.ReLU(),\n",
    "            nn.Linear(128, 1),\n",
    "        )\n",
    "\n",
    "    def forward(self, x):\n",
    "        return self.net(x)\n",
    "    \n",
    "# incorporating automatic differentiation\n",
    "def grad(outputs, inputs):\n",
    "    return torch.autograd.grad(outputs, inputs, grad_outputs=torch.ones_like(outputs),create_graph=True)[0]"
   ]
  },
  {
   "cell_type": "markdown",
   "id": "e1f699cb",
   "metadata": {},
   "source": [
    "### Loss function"
   ]
  },
  {
   "cell_type": "markdown",
   "id": "bccf1323",
   "metadata": {},
   "source": [
    "Here, since the boundary is 1D we sample enough points on the boundary to impose the boundary conditions into the loss function. That is, $MSE_b$ takes the form\n",
    "$$\n",
    "\\begin{align*}\n",
    "    MSE_b =\\frac{1}{N_b}\\sum_{k=1}^{N_b} |u(x_k)|^2\n",
    "\\end{align*}\n",
    "$$\n",
    "\n",
    "and $MSE_i$ has the same form except that the points are in 2D."
   ]
  },
  {
   "cell_type": "code",
   "execution_count": 263,
   "id": "4b38e3c2",
   "metadata": {},
   "outputs": [],
   "source": [
    "def compute_loss(model: nn.Module, x_train_i: torch.Tensor,x_train_b:torch.Tensor,m=1,n=1):\n",
    "    # evaluating u(x), f(x), du/dx, d^2u/dx^2 at training data points\n",
    "    x_train = torch.cat([x_train_i,x_train_b])\n",
    "    x_train.requires_grad_(True)\n",
    "    u = model(x_train)                      # model prediction on training data\n",
    "    du = grad(u,x_train)\n",
    "    # d2u = grad(du,x_train_i)\n",
    "\n",
    "    du_dx = du[:, 0].view(-1, 1) # du/dx component\n",
    "    du_dy = du[:, 1].view(-1, 1) # du/dy component\n",
    "\n",
    "    # Calculate second derivatives: d^2u/dx^2 and d^2u/dy^2\n",
    "    d2u_dx2 = grad(du_dx, x_train)[:, 0].view(-1, 1) # Take x component again\n",
    "    d2u_dy2 = grad(du_dy, x_train)[:, 1].view(-1, 1) # Take y component again\n",
    "\n",
    "    # Calculate the 2D Laplacian: Delta u = d^2u/dx^2 + d^2u/dy^2\n",
    "    # For the problem: -Delta u + u - f = 0, so residual is - (d2u_dx2 + d2u_dy2) + u - f\n",
    "    d2u = d2u_dx2 + d2u_dy2\n",
    "\n",
    "    residual_i = -d2u[:len(x_train_i)] + u[:len(x_train_i)] - f(x_train_i,m,n)     # ODE-based interior residual\n",
    "    interior_loss = torch.mean(residual_i**2)   # mean-squared interior loss\n",
    "\n",
    "    #calculating boundary loss for problem\n",
    "    residual_b = u[len(x_train_i):]\n",
    "    boundary_loss = torch.mean(residual_b**2)    # mean-squared boundary loss\n",
    "    \n",
    "    return interior_loss + boundary_loss"
   ]
  },
  {
   "cell_type": "markdown",
   "id": "f0dca3e5",
   "metadata": {},
   "source": [
    "### Generating Training and test dataset"
   ]
  },
  {
   "cell_type": "code",
   "execution_count": 264,
   "id": "ec5be84e",
   "metadata": {},
   "outputs": [],
   "source": [
    "def generate_collocation_points(N_i):\n",
    "    xx = torch.linspace(0,1,N_i+2)[1:-1]\n",
    "    yy = torch.linspace(0,1,N_i+2)[1:-1]\n",
    "    x = []\n",
    "    for i in range(len(xx)):\n",
    "        for j in range(len(yy)):\n",
    "            x.append([xx[i],yy[j]])\n",
    "    return torch.tensor(x, dtype=torch.float32)\n",
    "\n",
    "def generate_boundary_points(N_b):\n",
    "    ref = torch.linspace(0,1,N_b+2)[1:-1]\n",
    "    x = []\n",
    "    for i in range(len(ref)):\n",
    "        x.append([ref[i],0])\n",
    "        x.append([ref[i],1])\n",
    "        x.append([0,ref[i]])\n",
    "        x.append([1,ref[i]])\n",
    "    x.append([0,0])\n",
    "    x.append([1,0])\n",
    "    x.append([0,1])\n",
    "    x.append([1,1])\n",
    "    return torch.tensor(x, dtype=torch.float32)"
   ]
  },
  {
   "cell_type": "markdown",
   "id": "50a40406",
   "metadata": {},
   "source": [
    "The number of collocation points in the interior of square is $N_i^2$ and the number of boundary points are $4(N_b+1)$, where $N_i$ and $N_b$ are the inputs of `generate_collocation_points` and `generate_boundary_points` respectively. "
   ]
  },
  {
   "cell_type": "code",
   "execution_count": 265,
   "id": "5352f19a",
   "metadata": {},
   "outputs": [
    {
     "data": {
      "text/plain": [
       "tensor([[0.0323, 0.0323],\n",
       "        [0.0323, 0.0645],\n",
       "        [0.0323, 0.0968],\n",
       "        ...,\n",
       "        [0.9677, 0.9032],\n",
       "        [0.9677, 0.9355],\n",
       "        [0.9677, 0.9677]])"
      ]
     },
     "execution_count": 265,
     "metadata": {},
     "output_type": "execute_result"
    }
   ],
   "source": [
    "# interior points\n",
    "N_i = 30\n",
    "x_train_i = generate_collocation_points(N_i)\n",
    "x_train_i"
   ]
  },
  {
   "cell_type": "code",
   "execution_count": 266,
   "id": "5d2cef8c",
   "metadata": {},
   "outputs": [
    {
     "data": {
      "text/plain": [
       "tensor([[0.0667, 0.0000],\n",
       "        [0.0667, 1.0000],\n",
       "        [0.0000, 0.0667],\n",
       "        [1.0000, 0.0667],\n",
       "        [0.1333, 0.0000],\n",
       "        [0.1333, 1.0000],\n",
       "        [0.0000, 0.1333],\n",
       "        [1.0000, 0.1333],\n",
       "        [0.2000, 0.0000],\n",
       "        [0.2000, 1.0000],\n",
       "        [0.0000, 0.2000],\n",
       "        [1.0000, 0.2000],\n",
       "        [0.2667, 0.0000],\n",
       "        [0.2667, 1.0000],\n",
       "        [0.0000, 0.2667],\n",
       "        [1.0000, 0.2667],\n",
       "        [0.3333, 0.0000],\n",
       "        [0.3333, 1.0000],\n",
       "        [0.0000, 0.3333],\n",
       "        [1.0000, 0.3333],\n",
       "        [0.4000, 0.0000],\n",
       "        [0.4000, 1.0000],\n",
       "        [0.0000, 0.4000],\n",
       "        [1.0000, 0.4000],\n",
       "        [0.4667, 0.0000],\n",
       "        [0.4667, 1.0000],\n",
       "        [0.0000, 0.4667],\n",
       "        [1.0000, 0.4667],\n",
       "        [0.5333, 0.0000],\n",
       "        [0.5333, 1.0000],\n",
       "        [0.0000, 0.5333],\n",
       "        [1.0000, 0.5333],\n",
       "        [0.6000, 0.0000],\n",
       "        [0.6000, 1.0000],\n",
       "        [0.0000, 0.6000],\n",
       "        [1.0000, 0.6000],\n",
       "        [0.6667, 0.0000],\n",
       "        [0.6667, 1.0000],\n",
       "        [0.0000, 0.6667],\n",
       "        [1.0000, 0.6667],\n",
       "        [0.7333, 0.0000],\n",
       "        [0.7333, 1.0000],\n",
       "        [0.0000, 0.7333],\n",
       "        [1.0000, 0.7333],\n",
       "        [0.8000, 0.0000],\n",
       "        [0.8000, 1.0000],\n",
       "        [0.0000, 0.8000],\n",
       "        [1.0000, 0.8000],\n",
       "        [0.8667, 0.0000],\n",
       "        [0.8667, 1.0000],\n",
       "        [0.0000, 0.8667],\n",
       "        [1.0000, 0.8667],\n",
       "        [0.9333, 0.0000],\n",
       "        [0.9333, 1.0000],\n",
       "        [0.0000, 0.9333],\n",
       "        [1.0000, 0.9333],\n",
       "        [0.0000, 0.0000],\n",
       "        [1.0000, 0.0000],\n",
       "        [0.0000, 1.0000],\n",
       "        [1.0000, 1.0000]])"
      ]
     },
     "execution_count": 266,
     "metadata": {},
     "output_type": "execute_result"
    }
   ],
   "source": [
    "# boundary points\n",
    "N_b = 14\n",
    "x_train_b = generate_boundary_points(N_b)\n",
    "x_train_b"
   ]
  },
  {
   "cell_type": "code",
   "execution_count": 267,
   "id": "7d6dc637",
   "metadata": {},
   "outputs": [],
   "source": [
    "def generate_test(N):\n",
    "    xx = torch.linspace(0,1,N)\n",
    "    yy = torch.linspace(0,1,N)\n",
    "    x = []\n",
    "    for i in range(len(xx)):\n",
    "        for j in range(len(yy)):\n",
    "            x.append([xx[i],yy[j]])\n",
    "    return torch.tensor(x, dtype=torch.float32)"
   ]
  },
  {
   "cell_type": "markdown",
   "id": "56275a54",
   "metadata": {},
   "source": [
    "The test set consists of uniformly spaced points in $[0,1]$. "
   ]
  },
  {
   "cell_type": "code",
   "execution_count": 268,
   "id": "e0e6cc4a",
   "metadata": {},
   "outputs": [
    {
     "data": {
      "text/plain": [
       "tensor([[0.0000, 0.0000],\n",
       "        [0.0000, 0.0294],\n",
       "        [0.0000, 0.0588],\n",
       "        ...,\n",
       "        [1.0000, 0.9412],\n",
       "        [1.0000, 0.9706],\n",
       "        [1.0000, 1.0000]])"
      ]
     },
     "execution_count": 268,
     "metadata": {},
     "output_type": "execute_result"
    }
   ],
   "source": [
    "N = 35\n",
    "x_test = generate_test(N)\n",
    "x_test"
   ]
  },
  {
   "cell_type": "code",
   "execution_count": 269,
   "id": "832fbe31",
   "metadata": {},
   "outputs": [
    {
     "data": {
      "text/plain": [
       "tensor([ 0.0000e+00,  0.0000e+00,  0.0000e+00,  ..., -1.6064e-08,\n",
       "        -8.0664e-09,  7.6427e-15])"
      ]
     },
     "execution_count": 269,
     "metadata": {},
     "output_type": "execute_result"
    }
   ],
   "source": [
    "y_test = u_exact(x_test.T)\n",
    "y_test"
   ]
  },
  {
   "cell_type": "markdown",
   "id": "7d31997a",
   "metadata": {},
   "source": [
    "### Training and predicting using PINN"
   ]
  },
  {
   "cell_type": "markdown",
   "id": "ce1bef9e",
   "metadata": {},
   "source": [
    "Here, Adam optimizer with learning rate 0.001 is used to minimize the loss function described above. "
   ]
  },
  {
   "cell_type": "code",
   "execution_count": 273,
   "id": "db8aeddf",
   "metadata": {},
   "outputs": [],
   "source": [
    "# defining a function to train PINN\n",
    "def train_PINN(x_train_i,x_train_b,num_epochs,m=1,n=1,verbose = True, create_graph = True):\n",
    "    model = PINN()\n",
    "    optimizer = torch.optim.Adam(model.parameters(), lr=0.001)\n",
    "\n",
    "    train_losses = []\n",
    "    val_losses = []\n",
    "\n",
    "    N_i_val = int(0.05*len(x_train_i))\n",
    "    N_b_val = int(0.05*len(x_train_b))\n",
    "\n",
    "    N_i_train = len(x_train_i) - N_i_val\n",
    "    N_b_train = len(x_train_b) - N_b_val\n",
    "\n",
    "    x_training_i , x_validation_i = random_split(TensorDataset(x_train_i) , [N_i_train,N_i_val])\n",
    "    x_training_b , x_validation_b = random_split(TensorDataset(x_train_b) , [N_b_train,N_b_val])\n",
    "    \n",
    "\n",
    "    x_training_i = x_training_i.dataset.tensors[0][x_training_i.indices]\n",
    "    x_validation_i = x_validation_i.dataset.tensors[0][x_validation_i.indices]\n",
    "\n",
    "    x_training_b = x_training_b.dataset.tensors[0][x_training_b.indices]\n",
    "    x_validation_b = x_validation_b.dataset.tensors[0][x_validation_b.indices]\n",
    "    print(x_training_i)\n",
    "\n",
    "    # Iterate training over epochs\n",
    "    for epoch in range(num_epochs):\n",
    "\n",
    "        model.train()\n",
    "        train_loss = compute_loss(model, x_training_i,x_training_b,m,n)\n",
    "        optimizer.zero_grad()\n",
    "        train_loss.backward()\n",
    "        optimizer.step()\n",
    "        \n",
    "        model.eval()  # Set model to evaluation mode\n",
    "        val_loss = compute_loss(model, x_validation_i, x_validation_b, m, n)\n",
    "\n",
    "        if epoch % 10 == 0:\n",
    "            train_losses.append(train_loss.item())\n",
    "            val_losses.append(val_loss.item())\n",
    "\n",
    "        if epoch % 500 == 0 and verbose ==True:\n",
    "            print(f\"Full Training Epoch {epoch}, Training Loss: {train_loss.item():.6f}, Validation Loss: {val_loss.item():.6f}\")\n",
    "\n",
    "    if create_graph == True:\n",
    "        \n",
    "        plt.plot(train_losses, label = \"Training Loss\")\n",
    "        plt.plot(val_losses, label = \"Validation Loss\")\n",
    "        plt.xlabel(\"Epoch\")\n",
    "        plt.ylabel(\"Loss\")\n",
    "        plt.title(\"Loss Curves\")\n",
    "        plt.legend()\n",
    "        plt.grid(True)\n",
    "        plt.show()\n",
    "    return model"
   ]
  },
  {
   "cell_type": "code",
   "execution_count": 274,
   "id": "695f266c",
   "metadata": {},
   "outputs": [
    {
     "data": {
      "text/plain": [
       "60"
      ]
     },
     "execution_count": 274,
     "metadata": {},
     "output_type": "execute_result"
    }
   ],
   "source": [
    "len(x_train_b)"
   ]
  },
  {
   "cell_type": "code",
   "execution_count": 275,
   "id": "1d5df6e0",
   "metadata": {},
   "outputs": [
    {
     "name": "stdout",
     "output_type": "stream",
     "text": [
      "tensor([[0.6129, 0.7419],\n",
      "        [0.5806, 0.6452],\n",
      "        [0.8387, 0.8710],\n",
      "        ...,\n",
      "        [0.8387, 0.7419],\n",
      "        [0.8387, 0.0968],\n",
      "        [0.0968, 0.1935]])\n",
      "Full Training Epoch 0, Training Loss: 266.619720, Validation Loss: 21.138685\n",
      "Full Training Epoch 500, Training Loss: 8.894961, Validation Loss: 139.385742\n",
      "Full Training Epoch 1000, Training Loss: 8.317059, Validation Loss: 141.482681\n",
      "Full Training Epoch 1500, Training Loss: 8.217102, Validation Loss: 140.871429\n",
      "Full Training Epoch 2000, Training Loss: 7.900363, Validation Loss: 141.571991\n",
      "Full Training Epoch 2500, Training Loss: 7.185483, Validation Loss: 141.923828\n",
      "Full Training Epoch 3000, Training Loss: 7.113175, Validation Loss: 141.631989\n",
      "Full Training Epoch 3500, Training Loss: 7.111110, Validation Loss: 141.720993\n",
      "Full Training Epoch 4000, Training Loss: 7.110329, Validation Loss: 141.675507\n",
      "Full Training Epoch 4500, Training Loss: 7.109832, Validation Loss: 141.789932\n",
      "Full Training Epoch 5000, Training Loss: 7.110163, Validation Loss: 141.045273\n",
      "Full Training Epoch 5500, Training Loss: 7.109060, Validation Loss: 141.756348\n",
      "Full Training Epoch 6000, Training Loss: 7.108765, Validation Loss: 141.702545\n",
      "Full Training Epoch 6500, Training Loss: 7.109467, Validation Loss: 142.377426\n",
      "Full Training Epoch 7000, Training Loss: 7.108325, Validation Loss: 141.713928\n"
     ]
    },
    {
     "ename": "KeyboardInterrupt",
     "evalue": "",
     "output_type": "error",
     "traceback": [
      "\u001b[1;31m---------------------------------------------------------------------------\u001b[0m",
      "\u001b[1;31mKeyboardInterrupt\u001b[0m                         Traceback (most recent call last)",
      "Cell \u001b[1;32mIn[275], line 2\u001b[0m\n\u001b[0;32m      1\u001b[0m num_epochs \u001b[38;5;241m=\u001b[39m \u001b[38;5;241m10000\u001b[39m\n\u001b[1;32m----> 2\u001b[0m u \u001b[38;5;241m=\u001b[39m \u001b[43mtrain_PINN\u001b[49m\u001b[43m(\u001b[49m\u001b[43mx_train_i\u001b[49m\u001b[43m,\u001b[49m\u001b[43mx_train_b\u001b[49m\u001b[43m,\u001b[49m\u001b[43mnum_epochs\u001b[49m\u001b[43m)\u001b[49m\n",
      "Cell \u001b[1;32mIn[273], line 32\u001b[0m, in \u001b[0;36mtrain_PINN\u001b[1;34m(x_train_i, x_train_b, num_epochs, m, n, verbose, create_graph)\u001b[0m\n\u001b[0;32m     30\u001b[0m train_loss \u001b[38;5;241m=\u001b[39m compute_loss(model, x_training_i,x_training_b,m,n)\n\u001b[0;32m     31\u001b[0m optimizer\u001b[38;5;241m.\u001b[39mzero_grad()\n\u001b[1;32m---> 32\u001b[0m \u001b[43mtrain_loss\u001b[49m\u001b[38;5;241;43m.\u001b[39;49m\u001b[43mbackward\u001b[49m\u001b[43m(\u001b[49m\u001b[43m)\u001b[49m\n\u001b[0;32m     33\u001b[0m optimizer\u001b[38;5;241m.\u001b[39mstep()\n\u001b[0;32m     35\u001b[0m model\u001b[38;5;241m.\u001b[39meval()  \u001b[38;5;66;03m# Set model to evaluation mode\u001b[39;00m\n",
      "File \u001b[1;32mc:\\Users\\Shivam\\anaconda3\\envs\\tf_env\\lib\\site-packages\\torch\\_tensor.py:648\u001b[0m, in \u001b[0;36mTensor.backward\u001b[1;34m(self, gradient, retain_graph, create_graph, inputs)\u001b[0m\n\u001b[0;32m    638\u001b[0m \u001b[38;5;28;01mif\u001b[39;00m has_torch_function_unary(\u001b[38;5;28mself\u001b[39m):\n\u001b[0;32m    639\u001b[0m     \u001b[38;5;28;01mreturn\u001b[39;00m handle_torch_function(\n\u001b[0;32m    640\u001b[0m         Tensor\u001b[38;5;241m.\u001b[39mbackward,\n\u001b[0;32m    641\u001b[0m         (\u001b[38;5;28mself\u001b[39m,),\n\u001b[1;32m   (...)\u001b[0m\n\u001b[0;32m    646\u001b[0m         inputs\u001b[38;5;241m=\u001b[39minputs,\n\u001b[0;32m    647\u001b[0m     )\n\u001b[1;32m--> 648\u001b[0m \u001b[43mtorch\u001b[49m\u001b[38;5;241;43m.\u001b[39;49m\u001b[43mautograd\u001b[49m\u001b[38;5;241;43m.\u001b[39;49m\u001b[43mbackward\u001b[49m\u001b[43m(\u001b[49m\n\u001b[0;32m    649\u001b[0m \u001b[43m    \u001b[49m\u001b[38;5;28;43mself\u001b[39;49m\u001b[43m,\u001b[49m\u001b[43m \u001b[49m\u001b[43mgradient\u001b[49m\u001b[43m,\u001b[49m\u001b[43m \u001b[49m\u001b[43mretain_graph\u001b[49m\u001b[43m,\u001b[49m\u001b[43m \u001b[49m\u001b[43mcreate_graph\u001b[49m\u001b[43m,\u001b[49m\u001b[43m \u001b[49m\u001b[43minputs\u001b[49m\u001b[38;5;241;43m=\u001b[39;49m\u001b[43minputs\u001b[49m\n\u001b[0;32m    650\u001b[0m \u001b[43m\u001b[49m\u001b[43m)\u001b[49m\n",
      "File \u001b[1;32mc:\\Users\\Shivam\\anaconda3\\envs\\tf_env\\lib\\site-packages\\torch\\autograd\\__init__.py:353\u001b[0m, in \u001b[0;36mbackward\u001b[1;34m(tensors, grad_tensors, retain_graph, create_graph, grad_variables, inputs)\u001b[0m\n\u001b[0;32m    348\u001b[0m     retain_graph \u001b[38;5;241m=\u001b[39m create_graph\n\u001b[0;32m    350\u001b[0m \u001b[38;5;66;03m# The reason we repeat the same comment below is that\u001b[39;00m\n\u001b[0;32m    351\u001b[0m \u001b[38;5;66;03m# some Python versions print out the first line of a multi-line function\u001b[39;00m\n\u001b[0;32m    352\u001b[0m \u001b[38;5;66;03m# calls in the traceback and some print out the last line\u001b[39;00m\n\u001b[1;32m--> 353\u001b[0m \u001b[43m_engine_run_backward\u001b[49m\u001b[43m(\u001b[49m\n\u001b[0;32m    354\u001b[0m \u001b[43m    \u001b[49m\u001b[43mtensors\u001b[49m\u001b[43m,\u001b[49m\n\u001b[0;32m    355\u001b[0m \u001b[43m    \u001b[49m\u001b[43mgrad_tensors_\u001b[49m\u001b[43m,\u001b[49m\n\u001b[0;32m    356\u001b[0m \u001b[43m    \u001b[49m\u001b[43mretain_graph\u001b[49m\u001b[43m,\u001b[49m\n\u001b[0;32m    357\u001b[0m \u001b[43m    \u001b[49m\u001b[43mcreate_graph\u001b[49m\u001b[43m,\u001b[49m\n\u001b[0;32m    358\u001b[0m \u001b[43m    \u001b[49m\u001b[43minputs\u001b[49m\u001b[43m,\u001b[49m\n\u001b[0;32m    359\u001b[0m \u001b[43m    \u001b[49m\u001b[43mallow_unreachable\u001b[49m\u001b[38;5;241;43m=\u001b[39;49m\u001b[38;5;28;43;01mTrue\u001b[39;49;00m\u001b[43m,\u001b[49m\n\u001b[0;32m    360\u001b[0m \u001b[43m    \u001b[49m\u001b[43maccumulate_grad\u001b[49m\u001b[38;5;241;43m=\u001b[39;49m\u001b[38;5;28;43;01mTrue\u001b[39;49;00m\u001b[43m,\u001b[49m\n\u001b[0;32m    361\u001b[0m \u001b[43m\u001b[49m\u001b[43m)\u001b[49m\n",
      "File \u001b[1;32mc:\\Users\\Shivam\\anaconda3\\envs\\tf_env\\lib\\site-packages\\torch\\autograd\\graph.py:824\u001b[0m, in \u001b[0;36m_engine_run_backward\u001b[1;34m(t_outputs, *args, **kwargs)\u001b[0m\n\u001b[0;32m    822\u001b[0m     unregister_hooks \u001b[38;5;241m=\u001b[39m _register_logging_hooks_on_whole_graph(t_outputs)\n\u001b[0;32m    823\u001b[0m \u001b[38;5;28;01mtry\u001b[39;00m:\n\u001b[1;32m--> 824\u001b[0m     \u001b[38;5;28;01mreturn\u001b[39;00m Variable\u001b[38;5;241m.\u001b[39m_execution_engine\u001b[38;5;241m.\u001b[39mrun_backward(  \u001b[38;5;66;03m# Calls into the C++ engine to run the backward pass\u001b[39;00m\n\u001b[0;32m    825\u001b[0m         t_outputs, \u001b[38;5;241m*\u001b[39margs, \u001b[38;5;241m*\u001b[39m\u001b[38;5;241m*\u001b[39mkwargs\n\u001b[0;32m    826\u001b[0m     )  \u001b[38;5;66;03m# Calls into the C++ engine to run the backward pass\u001b[39;00m\n\u001b[0;32m    827\u001b[0m \u001b[38;5;28;01mfinally\u001b[39;00m:\n\u001b[0;32m    828\u001b[0m     \u001b[38;5;28;01mif\u001b[39;00m attach_logging_hooks:\n",
      "\u001b[1;31mKeyboardInterrupt\u001b[0m: "
     ]
    }
   ],
   "source": [
    "num_epochs = 10000\n",
    "u = train_PINN(x_train_i,x_train_b,num_epochs)"
   ]
  },
  {
   "cell_type": "code",
   "execution_count": 125,
   "id": "26224d1e",
   "metadata": {},
   "outputs": [
    {
     "data": {
      "text/plain": [
       "tensor([-1.3396e-02, -8.2148e-03, -5.2781e-03, -3.8081e-03, -3.2345e-03,\n",
       "        -3.1678e-03, -3.3548e-03, -3.6440e-03, -3.9570e-03, -4.2601e-03,\n",
       "        -4.5404e-03, -4.7909e-03, -5.0055e-03, -5.1783e-03, -5.3086e-03,\n",
       "        -5.4003e-03, -5.4600e-03, -5.4881e-03, -5.4674e-03, -5.3565e-03,\n",
       "        -5.0945e-03, -4.6263e-03, -3.9421e-03, -3.1242e-03, -2.3856e-03,\n",
       "        -2.0917e-03, -2.7587e-03, -5.0292e-03, -9.6285e-03, -1.7307e-02,\n",
       "        -8.3714e-03,  4.6385e-03,  1.4759e-02,  2.2633e-02,  2.8794e-02,\n",
       "         3.3656e-02,  3.7532e-02,  4.0641e-02,  4.3136e-02,  4.5122e-02,\n",
       "         4.6671e-02,  4.7838e-02,  4.8658e-02,  4.9155e-02,  4.9347e-02,\n",
       "         4.9241e-02,  4.8841e-02,  4.8146e-02,  4.7153e-02,  4.5864e-02,\n",
       "         4.4279e-02,  4.2383e-02,  4.0111e-02,  3.7323e-02,  3.3776e-02,\n",
       "         2.9119e-02,  2.2905e-02,  1.4609e-02,  3.6515e-03, -1.0576e-02,\n",
       "        -6.2177e-03,  1.4166e-02,  3.0956e-02,  4.4735e-02,  5.6060e-02,\n",
       "         6.5400e-02,  7.3113e-02,  7.9469e-02,  8.4673e-02,  8.8885e-02,\n",
       "         9.2228e-02,  9.4790e-02,  9.6633e-02,  9.7798e-02,  9.8311e-02,\n",
       "         9.8189e-02,  9.7442e-02,  9.6066e-02,  9.4048e-02,  9.1360e-02,\n",
       "         8.7961e-02,  8.3783e-02,  7.8713e-02,  7.2571e-02,  6.5096e-02,\n",
       "         5.5934e-02,  4.4664e-02,  3.0814e-02,  1.3887e-02, -6.6158e-03,\n",
       "        -5.8460e-03,  2.1224e-02,  4.4026e-02,  6.3143e-02,  7.9179e-02,\n",
       "         9.2642e-02,  1.0392e-01,  1.1333e-01,  1.2110e-01,  1.2743e-01,\n",
       "         1.3249e-01,  1.3639e-01,  1.3922e-01,  1.4103e-01,  1.4186e-01,\n",
       "         1.4173e-01,  1.4065e-01,  1.3861e-01,  1.3560e-01,  1.3156e-01,\n",
       "         1.2641e-01,  1.2006e-01,  1.1236e-01,  1.0311e-01,  9.2040e-02,\n",
       "         7.8797e-02,  6.2962e-02,  4.4072e-02,  2.1653e-02, -4.7362e-03,\n",
       "        -6.3531e-03,  2.6560e-02,  5.4648e-02,  7.8512e-02,  9.8779e-02,\n",
       "         1.1597e-01,  1.3051e-01,  1.4272e-01,  1.5288e-01,  1.6120e-01,\n",
       "         1.6788e-01,  1.7304e-01,  1.7680e-01,  1.7923e-01,  1.8036e-01,\n",
       "         1.8022e-01,  1.7883e-01,  1.7617e-01,  1.7221e-01,  1.6689e-01,\n",
       "         1.6011e-01,  1.5173e-01,  1.4160e-01,  1.2949e-01,  1.1514e-01,\n",
       "         9.8208e-02,  7.8271e-02,  5.4855e-02,  2.7473e-02, -4.3074e-03,\n",
       "        -7.0911e-03,  3.0762e-02,  6.3392e-02,  9.1398e-02,  1.1540e-01,\n",
       "         1.3592e-01,  1.5337e-01,  1.6812e-01,  1.8045e-01,  1.9060e-01,\n",
       "         1.9877e-01,  2.0511e-01,  2.0974e-01,  2.1273e-01,  2.1415e-01,\n",
       "         2.1401e-01,  2.1234e-01,  2.0910e-01,  2.0427e-01,  1.9776e-01,\n",
       "         1.8947e-01,  1.7924e-01,  1.6689e-01,  1.5220e-01,  1.3490e-01,\n",
       "         1.1465e-01,  9.1047e-02,  6.3603e-02,  3.1810e-02, -4.7832e-03,\n",
       "        -7.6694e-03,  3.4242e-02,  7.0689e-02,  1.0224e-01,  1.2947e-01,\n",
       "         1.5289e-01,  1.7293e-01,  1.8993e-01,  2.0421e-01,  2.1601e-01,\n",
       "         2.2553e-01,  2.3294e-01,  2.3836e-01,  2.4188e-01,  2.4356e-01,\n",
       "         2.4342e-01,  2.4149e-01,  2.3773e-01,  2.3211e-01,  2.2453e-01,\n",
       "         2.1487e-01,  2.0298e-01,  1.8866e-01,  1.7167e-01,  1.5174e-01,\n",
       "         1.2855e-01,  1.0170e-01,  7.0713e-02,  3.5064e-02, -5.7189e-03,\n",
       "        -7.9145e-03,  3.7255e-02,  7.6839e-02,  1.1136e-01,  1.4134e-01,\n",
       "         1.6726e-01,  1.8953e-01,  2.0851e-01,  2.2449e-01,  2.3775e-01,\n",
       "         2.4848e-01,  2.5684e-01,  2.6298e-01,  2.6697e-01,  2.6888e-01,\n",
       "         2.6876e-01,  2.6660e-01,  2.6238e-01,  2.5605e-01,  2.4751e-01,\n",
       "         2.3664e-01,  2.2328e-01,  2.0722e-01,  1.8822e-01,  1.6601e-01,\n",
       "         1.4025e-01,  1.1058e-01,  7.6519e-02,  3.7560e-02, -6.7799e-03,\n",
       "        -7.8083e-03,  3.9926e-02,  8.2038e-02,  1.1899e-01,  1.5127e-01,\n",
       "         1.7930e-01,  2.0347e-01,  2.2414e-01,  2.4161e-01,  2.5612e-01,\n",
       "         2.6790e-01,  2.7710e-01,  2.8386e-01,  2.8828e-01,  2.9041e-01,\n",
       "         2.9029e-01,  2.8793e-01,  2.8331e-01,  2.7637e-01,  2.6700e-01,\n",
       "         2.5508e-01,  2.4044e-01,  2.2287e-01,  2.0214e-01,  1.7797e-01,\n",
       "         1.5003e-01,  1.1795e-01,  8.1285e-02,  3.9545e-02, -7.7411e-03,\n",
       "        -7.4252e-03,  4.2294e-02,  8.6403e-02,  1.2532e-01,  1.5946e-01,\n",
       "         1.8924e-01,  2.1501e-01,  2.3710e-01,  2.5581e-01,  2.7139e-01,\n",
       "         2.8406e-01,  2.9397e-01,  3.0127e-01,  3.0604e-01,  3.0836e-01,\n",
       "         3.0826e-01,  3.0574e-01,  3.0078e-01,  2.9331e-01,  2.8324e-01,\n",
       "         2.7043e-01,  2.5470e-01,  2.3587e-01,  2.1368e-01,  1.8786e-01,\n",
       "         1.5810e-01,  1.2402e-01,  8.5198e-02,  4.1183e-02, -8.4776e-03,\n",
       "        -6.8772e-03,  4.4350e-02,  9.0002e-02,  1.3045e-01,  1.6608e-01,\n",
       "         1.9726e-01,  2.2432e-01,  2.4758e-01,  2.6731e-01,  2.8377e-01,\n",
       "         2.9716e-01,  3.0766e-01,  3.1541e-01,  3.2049e-01,  3.2297e-01,\n",
       "         3.2288e-01,  3.2024e-01,  3.1500e-01,  3.0710e-01,  2.9645e-01,\n",
       "         2.8290e-01,  2.6629e-01,  2.4641e-01,  2.2303e-01,  1.9587e-01,\n",
       "         1.6462e-01,  1.2893e-01,  8.8385e-02,  4.2567e-02, -8.9467e-03,\n",
       "        -6.2789e-03,  4.6064e-02,  9.2870e-02,  1.3448e-01,  1.7124e-01,\n",
       "         2.0350e-01,  2.3156e-01,  2.5573e-01,  2.7627e-01,  2.9342e-01,\n",
       "         3.0739e-01,  3.1835e-01,  3.2645e-01,  3.3177e-01,  3.3439e-01,\n",
       "         3.3432e-01,  3.3158e-01,  3.2613e-01,  3.1790e-01,  3.0679e-01,\n",
       "         2.9267e-01,  2.7536e-01,  2.5467e-01,  2.3035e-01,  2.0214e-01,\n",
       "         1.6973e-01,  1.3279e-01,  9.0928e-02,  4.3740e-02, -9.1638e-03,\n",
       "        -5.7251e-03,  4.7401e-02,  9.5021e-02,  1.3745e-01,  1.7502e-01,\n",
       "         2.0806e-01,  2.3685e-01,  2.6167e-01,  2.8280e-01,  3.0047e-01,\n",
       "         3.1487e-01,  3.2618e-01,  3.3455e-01,  3.4005e-01,  3.4277e-01,\n",
       "         3.4272e-01,  3.3991e-01,  3.3431e-01,  3.2584e-01,  3.1440e-01,\n",
       "         2.9987e-01,  2.8205e-01,  2.6077e-01,  2.3577e-01,  2.0679e-01,\n",
       "         1.7355e-01,  1.3570e-01,  9.2880e-02,  4.4713e-02, -9.1737e-03,\n",
       "        -5.2832e-03,  4.8333e-02,  9.6462e-02,  1.3940e-01,  1.7748e-01,\n",
       "         2.1100e-01,  2.4025e-01,  2.6550e-01,  2.8701e-01,  3.0502e-01,\n",
       "         3.1971e-01,  3.3126e-01,  3.3980e-01,  3.4543e-01,  3.4821e-01,\n",
       "         3.4818e-01,  3.4534e-01,  3.3964e-01,  3.3103e-01,  3.1939e-01,\n",
       "         3.0459e-01,  2.8646e-01,  2.6480e-01,  2.3937e-01,  2.0991e-01,\n",
       "         1.7613e-01,  1.3770e-01,  9.4275e-02,  4.5484e-02, -9.0273e-03,\n",
       "        -4.9903e-03,  4.8845e-02,  9.7196e-02,  1.4036e-01,  1.7865e-01,\n",
       "         2.1237e-01,  2.4183e-01,  2.6727e-01,  2.8897e-01,  3.0713e-01,\n",
       "         3.2197e-01,  3.3363e-01,  3.4227e-01,  3.4796e-01,  3.5079e-01,\n",
       "         3.5077e-01,  3.4792e-01,  3.4220e-01,  3.3353e-01,  3.2181e-01,\n",
       "         3.0690e-01,  2.8864e-01,  2.6683e-01,  2.4122e-01,  2.1155e-01,\n",
       "         1.7753e-01,  1.3884e-01,  9.5130e-02,  4.6048e-02, -8.7641e-03,\n",
       "        -4.8539e-03,  4.8937e-02,  9.7230e-02,  1.4032e-01,  1.7855e-01,\n",
       "         2.1221e-01,  2.4161e-01,  2.6703e-01,  2.8870e-01,  3.0685e-01,\n",
       "         3.2168e-01,  3.3335e-01,  3.4199e-01,  3.4770e-01,  3.5053e-01,\n",
       "         3.5054e-01,  3.4771e-01,  3.4201e-01,  3.3337e-01,  3.2170e-01,\n",
       "         3.0684e-01,  2.8864e-01,  2.6688e-01,  2.4133e-01,  2.1172e-01,\n",
       "         1.7775e-01,  1.3911e-01,  9.5448e-02,  4.6397e-02, -8.4050e-03,\n",
       "        -4.8547e-03,  4.8621e-02,  9.6573e-02,  1.3932e-01,  1.7719e-01,\n",
       "         2.1052e-01,  2.3962e-01,  2.6477e-01,  2.8622e-01,  3.0418e-01,\n",
       "         3.1886e-01,  3.3041e-01,  3.3897e-01,  3.4463e-01,  3.4745e-01,\n",
       "         3.4747e-01,  3.4469e-01,  3.3908e-01,  3.3057e-01,  3.1906e-01,\n",
       "         3.0440e-01,  2.8644e-01,  2.6495e-01,  2.3970e-01,  2.1042e-01,\n",
       "         1.7680e-01,  1.3852e-01,  9.5219e-02,  4.6524e-02, -7.9495e-03,\n",
       "        -4.9476e-03,  4.7929e-02,  9.5243e-02,  1.3734e-01,  1.7457e-01,\n",
       "         2.0730e-01,  2.3585e-01,  2.6050e-01,  2.8151e-01,  2.9910e-01,\n",
       "         3.1347e-01,  3.2479e-01,  3.3317e-01,  3.3872e-01,  3.4150e-01,\n",
       "         3.4154e-01,  3.3884e-01,  3.3338e-01,  3.2508e-01,  3.1386e-01,\n",
       "         2.9956e-01,  2.8201e-01,  2.6101e-01,  2.3630e-01,  2.0761e-01,\n",
       "         1.7463e-01,  1.3703e-01,  9.4423e-02,  4.6424e-02, -7.3786e-03,\n",
       "        -5.0647e-03,  4.6897e-02,  9.3252e-02,  1.3438e-01,  1.7068e-01,\n",
       "         2.0252e-01,  2.3025e-01,  2.5415e-01,  2.7451e-01,  2.9155e-01,\n",
       "         3.0546e-01,  3.1641e-01,  3.2453e-01,  3.2991e-01,  3.3262e-01,\n",
       "         3.3268e-01,  3.3010e-01,  3.2485e-01,  3.1686e-01,  3.0604e-01,\n",
       "         2.9225e-01,  2.7530e-01,  2.5499e-01,  2.3107e-01,  2.0324e-01,\n",
       "         1.7120e-01,  1.3459e-01,  9.3030e-02,  4.6091e-02, -6.6608e-03,\n",
       "        -5.1185e-03,  4.5568e-02,  9.0609e-02,  1.3043e-01,  1.6547e-01,\n",
       "         1.9612e-01,  2.2274e-01,  2.4566e-01,  2.6515e-01,  2.8144e-01,\n",
       "         2.9474e-01,  3.0520e-01,  3.1296e-01,  3.1811e-01,  3.2072e-01,\n",
       "         3.2080e-01,  3.1837e-01,  3.1340e-01,  3.0581e-01,  2.9551e-01,\n",
       "         2.8236e-01,  2.6620e-01,  2.4679e-01,  2.2390e-01,  1.9722e-01,\n",
       "         1.6643e-01,  1.3116e-01,  9.1001e-02,  4.5519e-02, -5.7619e-03,\n",
       "        -5.0097e-03,  4.3980e-02,  8.7301e-02,  1.2544e-01,  1.5886e-01,\n",
       "         1.8800e-01,  2.1324e-01,  2.3491e-01,  2.5331e-01,  2.6866e-01,\n",
       "         2.8118e-01,  2.9103e-01,  2.9834e-01,  3.0319e-01,  3.0566e-01,\n",
       "         3.0578e-01,  3.0353e-01,  2.9889e-01,  2.9179e-01,  2.8213e-01,\n",
       "         2.6978e-01,  2.5457e-01,  2.3629e-01,  2.1467e-01,  1.8942e-01,\n",
       "         1.6020e-01,  1.2662e-01,  8.8276e-02,  4.4682e-02, -4.6617e-03,\n",
       "        -4.6426e-03,  4.2147e-02,  8.3286e-02,  1.1931e-01,  1.5074e-01,\n",
       "         1.7803e-01,  2.0158e-01,  2.2175e-01,  2.3882e-01,  2.5305e-01,\n",
       "         2.6464e-01,  2.7375e-01,  2.8051e-01,  2.8501e-01,  2.8732e-01,\n",
       "         2.8745e-01,  2.8541e-01,  2.8116e-01,  2.7463e-01,  2.6573e-01,\n",
       "         2.5433e-01,  2.4026e-01,  2.2330e-01,  2.0321e-01,  1.7968e-01,\n",
       "         1.5237e-01,  1.2087e-01,  8.4757e-02,  4.3518e-02, -3.3720e-03,\n",
       "        -3.9513e-03,  4.0048e-02,  7.8483e-02,  1.1192e-01,  1.4094e-01,\n",
       "         1.6603e-01,  1.8759e-01,  2.0598e-01,  2.2152e-01,  2.3443e-01,\n",
       "         2.4493e-01,  2.5318e-01,  2.5930e-01,  2.6339e-01,  2.6549e-01,\n",
       "         2.6564e-01,  2.6382e-01,  2.6001e-01,  2.5414e-01,  2.4612e-01,\n",
       "         2.3581e-01,  2.2305e-01,  2.0764e-01,  1.8933e-01,  1.6781e-01,\n",
       "         1.4275e-01,  1.1373e-01,  8.0293e-02,  4.1910e-02, -1.9591e-03,\n",
       "        -2.9361e-03,  3.7597e-02,  7.2748e-02,  1.0311e-01,  1.2928e-01,\n",
       "         1.5178e-01,  1.7104e-01,  1.8740e-01,  2.0116e-01,  2.1257e-01,\n",
       "         2.2183e-01,  2.2911e-01,  2.3450e-01,  2.3811e-01,  2.3998e-01,\n",
       "         2.4013e-01,  2.3856e-01,  2.3523e-01,  2.3008e-01,  2.2304e-01,\n",
       "         2.1396e-01,  2.0270e-01,  1.8906e-01,  1.7278e-01,  1.5358e-01,\n",
       "         1.3112e-01,  1.0498e-01,  7.4673e-02,  3.9674e-02, -5.6063e-04,\n",
       "        -1.7071e-03,  3.4619e-02,  6.5866e-02,  9.2616e-02,  1.1549e-01,\n",
       "         1.3503e-01,  1.5165e-01,  1.6571e-01,  1.7748e-01,  1.8721e-01,\n",
       "         1.9509e-01,  2.0127e-01,  2.0587e-01,  2.0894e-01,  2.1054e-01,\n",
       "         2.1068e-01,  2.0936e-01,  2.0655e-01,  2.0219e-01,  1.9622e-01,\n",
       "         1.8851e-01,  1.7893e-01,  1.6726e-01,  1.5329e-01,  1.3671e-01,\n",
       "         1.1720e-01,  9.4327e-02,  6.7622e-02,  3.6552e-02,  5.9531e-04,\n",
       "        -5.2323e-04,  3.0824e-02,  5.7523e-02,  8.0128e-02,  9.9253e-02,\n",
       "         1.1543e-01,  1.2910e-01,  1.4058e-01,  1.5016e-01,  1.5804e-01,\n",
       "         1.6441e-01,  1.6940e-01,  1.7311e-01,  1.7560e-01,  1.7690e-01,\n",
       "         1.7702e-01,  1.7596e-01,  1.7369e-01,  1.7017e-01,  1.6536e-01,\n",
       "         1.5914e-01,  1.5139e-01,  1.4192e-01,  1.3051e-01,  1.1686e-01,\n",
       "         1.0064e-01,  8.1449e-02,  5.8808e-02,  3.2216e-02,  1.1763e-03,\n",
       "         1.7761e-04,  2.5798e-02,  4.7302e-02,  6.5227e-02,  8.0151e-02,\n",
       "         9.2596e-02,  1.0298e-01,  1.1164e-01,  1.1881e-01,  1.2470e-01,\n",
       "         1.2944e-01,  1.3316e-01,  1.3593e-01,  1.3779e-01,  1.3876e-01,\n",
       "         1.3885e-01,  1.3804e-01,  1.3633e-01,  1.3370e-01,  1.3011e-01,\n",
       "         1.2548e-01,  1.1971e-01,  1.1263e-01,  1.0403e-01,  9.3620e-02,\n",
       "         8.1061e-02,  6.5954e-02,  4.7851e-02,  2.6273e-02,  7.3347e-04,\n",
       "        -2.2852e-04,  1.8994e-02,  3.4685e-02,  4.7396e-02,  5.7677e-02,\n",
       "         6.6018e-02,  7.2825e-02,  7.8409e-02,  8.3001e-02,  8.6763e-02,\n",
       "         8.9806e-02,  9.2202e-02,  9.3992e-02,  9.5196e-02,  9.5818e-02,\n",
       "         9.5855e-02,  9.5302e-02,  9.4158e-02,  9.2420e-02,  9.0081e-02,\n",
       "         8.7110e-02,  8.3436e-02,  7.8927e-02,  7.3379e-02,  6.6515e-02,\n",
       "         5.7991e-02,  4.7408e-02,  3.4323e-02,  1.8256e-02, -1.3013e-03,\n",
       "        -2.5312e-03,  9.7556e-03,  1.9078e-02,  2.6061e-02,  3.1257e-02,\n",
       "         3.5136e-02,  3.8083e-02,  4.0387e-02,  4.2250e-02,  4.3792e-02,\n",
       "         4.5077e-02,  4.6127e-02,  4.6935e-02,  4.7485e-02,  4.7754e-02,\n",
       "         4.7727e-02,  4.7403e-02,  4.6795e-02,  4.5933e-02,  4.4852e-02,\n",
       "         4.3575e-02,  4.2083e-02,  4.0294e-02,  3.8035e-02,  3.5038e-02,\n",
       "         3.0951e-02,  2.5348e-02,  1.7747e-02,  7.6182e-03, -5.6029e-03,\n",
       "        -7.6159e-03, -2.6332e-03, -1.1734e-04,  6.7779e-04,  3.6407e-04,\n",
       "        -5.7068e-04, -1.7538e-03, -2.9222e-03, -3.9162e-03, -4.6652e-03,\n",
       "        -5.1674e-03, -5.4659e-03, -5.6269e-03, -5.7203e-03, -5.8043e-03,\n",
       "        -5.9132e-03, -6.0477e-03, -6.1696e-03, -6.2049e-03, -6.0565e-03,\n",
       "        -5.6286e-03, -4.8627e-03, -3.7760e-03, -2.4967e-03, -1.2819e-03,\n",
       "        -5.1775e-04, -6.9981e-04, -2.4050e-03, -6.2617e-03, -1.2925e-02],\n",
       "       grad_fn=<SelectBackward0>)"
      ]
     },
     "execution_count": 125,
     "metadata": {},
     "output_type": "execute_result"
    }
   ],
   "source": [
    "# Predicting using obtained u\n",
    "y_pred = u(x_test)[:,0]\n",
    "y_pred"
   ]
  },
  {
   "cell_type": "code",
   "execution_count": 126,
   "id": "f93945da",
   "metadata": {},
   "outputs": [
    {
     "data": {
      "text/plain": [
       "True"
      ]
     },
     "execution_count": 126,
     "metadata": {},
     "output_type": "execute_result"
    }
   ],
   "source": [
    "y_pred.shape == y_test.shape"
   ]
  },
  {
   "cell_type": "markdown",
   "id": "1d5d6b31",
   "metadata": {},
   "source": [
    "### Calculating $L^2$ error of the solution"
   ]
  },
  {
   "cell_type": "code",
   "execution_count": 127,
   "id": "af535dd3",
   "metadata": {},
   "outputs": [],
   "source": [
    "def L2_error(y_pred,y_test):\n",
    "    return torch.sum((y_test - y_pred)**2)"
   ]
  },
  {
   "cell_type": "code",
   "execution_count": 128,
   "id": "f200f410",
   "metadata": {},
   "outputs": [
    {
     "name": "stdout",
     "output_type": "stream",
     "text": [
      "L2_error of approximation: 78.33918762207031\n"
     ]
    }
   ],
   "source": [
    "error = L2_error(y_pred,y_test)\n",
    "print(f\"L2_error of approximation: {error}\")"
   ]
  },
  {
   "cell_type": "markdown",
   "id": "5f61dc4e",
   "metadata": {},
   "source": [
    "### Plotting the solution"
   ]
  },
  {
   "cell_type": "code",
   "execution_count": 116,
   "id": "471c81d3",
   "metadata": {},
   "outputs": [],
   "source": [
    "y_train_i = u_exact(x_train_i)\n",
    "y_train_b = u_exact(x_train_b)\n",
    "x_train_i.requires_grad_(False)\n",
    "y_train_i = y_train_i.detach().numpy()\n",
    "y_train_b = y_train_b.detach().numpy()\n",
    "y_pred = y_pred.detach().numpy()"
   ]
  },
  {
   "cell_type": "code",
   "execution_count": 117,
   "id": "b00dc5fb",
   "metadata": {},
   "outputs": [
    {
     "data": {
      "image/png": "[encoded data removed]",
      "text/plain": [
       "<Figure size 1200x800 with 1 Axes>"
      ]
     },
     "metadata": {},
     "output_type": "display_data"
    }
   ],
   "source": [
    "from mpl_toolkits.mplot3d import Axes3D\n",
    "from matplotlib import cm\n",
    "# %matplotlib widget\n",
    "\n",
    "# Reshape test data for surface plots\n",
    "N = int(np.sqrt(x_test.shape[0]))\n",
    "X = x_test[:, 0].reshape(N, N)\n",
    "Y = x_test[:, 1].reshape(N, N)\n",
    "y_pred = y_pred.reshape(N, N)\n",
    "y_test = y_test.reshape(N, N)\n",
    "x_train = np.vstack([x_train_i,x_train_b])\n",
    "\n",
    "fig = plt.figure(figsize=(12,8))\n",
    "ax = fig.add_subplot(111, projection='3d')\n",
    "\n",
    "# Surface: Exact solution\n",
    "ax.plot_surface(X, Y, y_test, alpha = 0.7, cmap=cm.Blues, label='Exact')\n",
    "\n",
    "# Surface: Predicted solution (wireframe or different alpha)\n",
    "ax.plot_surface(X, Y, y_pred, alpha = 0.8, cmap=cm.Reds, label=\"Predicted\")\n",
    "\n",
    "# Scatter: Collocation points at z=0\n",
    "ax.scatter(x_train[:, 0], x_train[:, 1], np.zeros_like(x_train[:, 0]),\n",
    "           color='black', s=8, marker='o', label='Collocation Points')\n",
    "\n",
    "# Labels and legend\n",
    "ax.set_title(\"Exact vs Predicted Solution with Collocation Points\")\n",
    "ax.set_xlabel(\"x\")\n",
    "ax.set_ylabel(\"y\")\n",
    "\n",
    "plt.legend()\n",
    "plt.show()"
   ]
  },
  {
   "cell_type": "code",
   "execution_count": 118,
   "id": "95151aa6",
   "metadata": {},
   "outputs": [
    {
     "data": {
      "application/vnd.plotly.v1+json": {
       "config": {
        "plotlyServerURL": "https://plot.ly"
       },
       "data": [
        {
         "colorscale": [
          [
           0,
           "rgb(247,251,255)"
          ],
          [
           0.125,
           "rgb(222,235,247)"
          ],
          [
           0.25,
           "rgb(198,219,239)"
          ],
          [
           0.375,
           "rgb(158,202,225)"
          ],
          [
           0.5,
           "rgb(107,174,214)"
          ],
          [
           0.625,
           "rgb(66,146,198)"
          ],
          [
           0.75,
           "rgb(33,113,181)"
          ],
          [
           0.875,
           "rgb(8,81,156)"
          ],
          [
           1,
           "rgb(8,48,107)"
          ]
         ],
         "name": "Predicted",
         "showlegend": true,
         "showscale": false,
         "type": "surface",
         "x": {
          "bdata": "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",
          "dtype": "f4",
          "shape": "30, 30"
         },
         "y": {
          "bdata": "AAAAAMs9DT3LPY09sNzTPcs9DT4+jTA+sNxTPiMsdz7LPY0+hOWePj6NsD73NMI+sNzTPmqE5T4jLPc+7mkEP8s9DT+oERY/hOUeP2G5Jz8+jTA/GmE5P/c0Qj/UCEs/sNxTP42wXD9qhGU/R1huPyMsdz8AAIA/AAAAAMs9DT3LPY09sNzTPcs9DT4+jTA+sNxTPiMsdz7LPY0+hOWePj6NsD73NMI+sNzTPmqE5T4jLPc+7mkEP8s9DT+oERY/hOUeP2G5Jz8+jTA/GmE5P/c0Qj/UCEs/sNxTP42wXD9qhGU/R1huPyMsdz8AAIA/AAAAAMs9DT3LPY09sNzTPcs9DT4+jTA+sNxTPiMsdz7LPY0+hOWePj6NsD73NMI+sNzTPmqE5T4jLPc+7mkEP8s9DT+oERY/hOUeP2G5Jz8+jTA/GmE5P/c0Qj/UCEs/sNxTP42wXD9qhGU/R1huPyMsdz8AAIA/AAAAAMs9DT3LPY09sNzTPcs9DT4+jTA+sNxTPiMsdz7LPY0+hOWePj6NsD73NMI+sNzTPmqE5T4jLPc+7mkEP8s9DT+oERY/hOUeP2G5Jz8+jTA/GmE5P/c0Qj/UCEs/sNxTP42wXD9qhGU/R1huPyMsdz8AAIA/AAAAAMs9DT3LPY09sNzTPcs9DT4+jTA+sNxTPiMsdz7LPY0+hOWePj6NsD73NMI+sNzTPmqE5T4jLPc+7mkEP8s9DT+oERY/hOUeP2G5Jz8+jTA/GmE5P/c0Qj/UCEs/sNxTP42wXD9qhGU/R1huPyMsdz8AAIA/AAAAAMs9DT3LPY09sNzTPcs9DT4+jTA+sNxTPiMsdz7LPY0+hOWePj6NsD73NMI+sNzTPmqE5T4jLPc+7mkEP8s9DT+oERY/hOUeP2G5Jz8+jTA/GmE5P/c0Qj/UCEs/sNxTP42wXD9qhGU/R1huPyMsdz8AAIA/AAAAAMs9DT3LPY09sNzTPcs9DT4+jTA+sNxTPiMsdz7LPY0+hOWePj6NsD73NMI+sNzTPmqE5T4jLPc+7mkEP8s9DT+oERY/hOUeP2G5Jz8+jTA/GmE5P/c0Qj/UCEs/sNxTP42wXD9qhGU/R1huPyMsdz8AAIA/AAAAAMs9DT3LPY09sNzTPcs9DT4+jTA+sNxTPiMsdz7LPY0+hOWePj6NsD73NMI+sNzTPmqE5T4jLPc+7mkEP8s9DT+oERY/hOUeP2G5Jz8+jTA/GmE5P/c0Qj/UCEs/sNxTP42wXD9qhGU/R1huPyMsdz8AAIA/AAAAAMs9DT3LPY09sNzTPcs9DT4+jTA+sNxTPiMsdz7LPY0+hOWePj6NsD73NMI+sNzTPmqE5T4jLPc+7mkEP8s9DT+oERY/hOUeP2G5Jz8+jTA/GmE5P/c0Qj/UCEs/sNxTP42wXD9qhGU/R1huPyMsdz8AAIA/AAAAAMs9DT3LPY09sNzTPcs9DT4+jTA+sNxTPiMsdz7LPY0+hOWePj6NsD73NMI+sNzTPmqE5T4jLPc+7mkEP8s9DT+oERY/hOUeP2G5Jz8+jTA/GmE5P/c0Qj/UCEs/sNxTP42wXD9qhGU/R1huPyMsdz8AAIA/AAAAAMs9DT3LPY09sNzTPcs9DT4+jTA+sNxTPiMsdz7LPY0+hOWePj6NsD73NMI+sNzTPmqE5T4jLPc+7mkEP8s9DT+oERY/hOUeP2G5Jz8+jTA/GmE5P/c0Qj/UCEs/sNxTP42wXD9qhGU/R1huPyMsdz8AAIA/AAAAAMs9DT3LPY09sNzTPcs9DT4+jTA+sNxTPiMsdz7LPY0+hOWePj6NsD73NMI+sNzTPmqE5T4jLPc+7mkEP8s9DT+oERY/hOUeP2G5Jz8+jTA/GmE5P/c0Qj/UCEs/sNxTP42wXD9qhGU/R1huPyMsdz8AAIA/AAAAAMs9DT3LPY09sNzTPcs9DT4+jTA+sNxTPiMsdz7LPY0+hOWePj6NsD73NMI+sNzTPmqE5T4jLPc+7mkEP8s9DT+oERY/hOUeP2G5Jz8+jTA/GmE5P/c0Qj/UCEs/sNxTP42wXD9qhGU/R1huPyMsdz8AAIA/AAAAAMs9DT3LPY09sNzTPcs9DT4+jTA+sNxTPiMsdz7LPY0+hOWePj6NsD73NMI+sNzTPmqE5T4jLPc+7mkEP8s9DT+oERY/hOUeP2G5Jz8+jTA/GmE5P/c0Qj/UCEs/sNxTP42wXD9qhGU/R1huPyMsdz8AAIA/AAAAAMs9DT3LPY09sNzTPcs9DT4+jTA+sNxTPiMsdz7LPY0+hOWePj6NsD73NMI+sNzTPmqE5T4jLPc+7mkEP8s9DT+oERY/hOUeP2G5Jz8+jTA/GmE5P/c0Qj/UCEs/sNxTP42wXD9qhGU/R1huPyMsdz8AAIA/AAAAAMs9DT3LPY09sNzTPcs9DT4+jTA+sNxTPiMsdz7LPY0+hOWePj6NsD73NMI+sNzTPmqE5T4jLPc+7mkEP8s9DT+oERY/hOUeP2G5Jz8+jTA/GmE5P/c0Qj/UCEs/sNxTP42wXD9qhGU/R1huPyMsdz8AAIA/AAAAAMs9DT3LPY09sNzTPcs9DT4+jTA+sNxTPiMsdz7LPY0+hOWePj6NsD73NMI+sNzTPmqE5T4jLPc+7mkEP8s9DT+oERY/hOUeP2G5Jz8+jTA/GmE5P/c0Qj/UCEs/sNxTP42wXD9qhGU/R1huPyMsdz8AAIA/AAAAAMs9DT3LPY09sNzTPcs9DT4+jTA+sNxTPiMsdz7LPY0+hOWePj6NsD73NMI+sNzTPmqE5T4jLPc+7mkEP8s9DT+oERY/hOUeP2G5Jz8+jTA/GmE5P/c0Qj/UCEs/sNxTP42wXD9qhGU/R1huPyMsdz8AAIA/AAAAAMs9DT3LPY09sNzTPcs9DT4+jTA+sNxTPiMsdz7LPY0+hOWePj6NsD73NMI+sNzTPmqE5T4jLPc+7mkEP8s9DT+oERY/hOUeP2G5Jz8+jTA/GmE5P/c0Qj/UCEs/sNxTP42wXD9qhGU/R1huPyMsdz8AAIA/AAAAAMs9DT3LPY09sNzTPcs9DT4+jTA+sNxTPiMsdz7LPY0+hOWePj6NsD73NMI+sNzTPmqE5T4jLPc+7mkEP8s9DT+oERY/hOUeP2G5Jz8+jTA/GmE5P/c0Qj/UCEs/sNxTP42wXD9qhGU/R1huPyMsdz8AAIA/AAAAAMs9DT3LPY09sNzTPcs9DT4+jTA+sNxTPiMsdz7LPY0+hOWePj6NsD73NMI+sNzTPmqE5T4jLPc+7mkEP8s9DT+oERY/hOUeP2G5Jz8+jTA/GmE5P/c0Qj/UCEs/sNxTP42wXD9qhGU/R1huPyMsdz8AAIA/AAAAAMs9DT3LPY09sNzTPcs9DT4+jTA+sNxTPiMsdz7LPY0+hOWePj6NsD73NMI+sNzTPmqE5T4jLPc+7mkEP8s9DT+oERY/hOUeP2G5Jz8+jTA/GmE5P/c0Qj/UCEs/sNxTP42wXD9qhGU/R1huPyMsdz8AAIA/AAAAAMs9DT3LPY09sNzTPcs9DT4+jTA+sNxTPiMsdz7LPY0+hOWePj6NsD73NMI+sNzTPmqE5T4jLPc+7mkEP8s9DT+oERY/hOUeP2G5Jz8+jTA/GmE5P/c0Qj/UCEs/sNxTP42wXD9qhGU/R1huPyMsdz8AAIA/AAAAAMs9DT3LPY09sNzTPcs9DT4+jTA+sNxTPiMsdz7LPY0+hOWePj6NsD73NMI+sNzTPmqE5T4jLPc+7mkEP8s9DT+oERY/hOUeP2G5Jz8+jTA/GmE5P/c0Qj/UCEs/sNxTP42wXD9qhGU/R1huPyMsdz8AAIA/AAAAAMs9DT3LPY09sNzTPcs9DT4+jTA+sNxTPiMsdz7LPY0+hOWePj6NsD73NMI+sNzTPmqE5T4jLPc+7mkEP8s9DT+oERY/hOUeP2G5Jz8+jTA/GmE5P/c0Qj/UCEs/sNxTP42wXD9qhGU/R1huPyMsdz8AAIA/AAAAAMs9DT3LPY09sNzTPcs9DT4+jTA+sNxTPiMsdz7LPY0+hOWePj6NsD73NMI+sNzTPmqE5T4jLPc+7mkEP8s9DT+oERY/hOUeP2G5Jz8+jTA/GmE5P/c0Qj/UCEs/sNxTP42wXD9qhGU/R1huPyMsdz8AAIA/AAAAAMs9DT3LPY09sNzTPcs9DT4+jTA+sNxTPiMsdz7LPY0+hOWePj6NsD73NMI+sNzTPmqE5T4jLPc+7mkEP8s9DT+oERY/hOUeP2G5Jz8+jTA/GmE5P/c0Qj/UCEs/sNxTP42wXD9qhGU/R1huPyMsdz8AAIA/AAAAAMs9DT3LPY09sNzTPcs9DT4+jTA+sNxTPiMsdz7LPY0+hOWePj6NsD73NMI+sNzTPmqE5T4jLPc+7mkEP8s9DT+oERY/hOUeP2G5Jz8+jTA/GmE5P/c0Qj/UCEs/sNxTP42wXD9qhGU/R1huPyMsdz8AAIA/AAAAAMs9DT3LPY09sNzTPcs9DT4+jTA+sNxTPiMsdz7LPY0+hOWePj6NsD73NMI+sNzTPmqE5T4jLPc+7mkEP8s9DT+oERY/hOUeP2G5Jz8+jTA/GmE5P/c0Qj/UCEs/sNxTP42wXD9qhGU/R1huPyMsdz8AAIA/AAAAAMs9DT3LPY09sNzTPcs9DT4+jTA+sNxTPiMsdz7LPY0+hOWePj6NsD73NMI+sNzTPmqE5T4jLPc+7mkEP8s9DT+oERY/hOUeP2G5Jz8+jTA/GmE5P/c0Qj/UCEs/sNxTP42wXD9qhGU/R1huPyMsdz8AAIA/",
          "dtype": "f4",
          "shape": "30, 30"
         },
         "z": {
          "bdata": "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",
          "dtype": "f4",
          "shape": "30, 30"
         }
        },
        {
         "colorscale": [
          [
           0,
           "rgb(255,245,240)"
          ],
          [
           0.125,
           "rgb(254,224,210)"
          ],
          [
           0.25,
           "rgb(252,187,161)"
          ],
          [
           0.375,
           "rgb(252,146,114)"
          ],
          [
           0.5,
           "rgb(251,106,74)"
          ],
          [
           0.625,
           "rgb(239,59,44)"
          ],
          [
           0.75,
           "rgb(203,24,29)"
          ],
          [
           0.875,
           "rgb(165,15,21)"
          ],
          [
           1,
           "rgb(103,0,13)"
          ]
         ],
         "name": "Exact",
         "opacity": 0.5,
         "showlegend": true,
         "showscale": false,
         "type": "surface",
         "x": {
          "bdata": "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",
          "dtype": "f4",
          "shape": "30, 30"
         },
         "y": {
          "bdata": "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",
          "dtype": "f4",
          "shape": "30, 30"
         },
         "z": {
          "bdata": "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",
          "dtype": "f4",
          "shape": "30, 30"
         }
        },
        {
         "marker": {
          "color": "black",
          "size": 3
         },
         "mode": "markers",
         "name": "Collocation Points",
         "showlegend": true,
         "type": "scatter3d",
         "x": {
          "bdata": "MQxDPTEMQz0xDEM9MQxDPTEMQz0xDEM9MQxDPTEMQz0xDEM9MQxDPTEMQz0xDEM9MQxDPTEMQz0xDEM9MQxDPTEMQz0xDEM9MQxDPTEMQz0xDMM9MQzDPTEMwz0xDMM9MQzDPTEMwz0xDMM9MQzDPTEMwz0xDMM9MQzDPTEMwz0xDMM9MQzDPTEMwz0xDMM9MQzDPTEMwz0xDMM9MQzDPSVJEj4lSRI+JUkSPiVJEj4lSRI+JUkSPiVJEj4lSRI+JUkSPiVJEj4lSRI+JUkSPiVJEj4lSRI+JUkSPiVJEj4lSRI+JUkSPiVJEj4lSRI+MQxDPjEMQz4xDEM+MQxDPjEMQz4xDEM+MQxDPjEMQz4xDEM+MQxDPjEMQz4xDEM+MQxDPjEMQz4xDEM+MQxDPjEMQz4xDEM+MQxDPjEMQz49z3M+Pc9zPj3Pcz49z3M+Pc9zPj3Pcz49z3M+Pc9zPj3Pcz49z3M+Pc9zPj3Pcz49z3M+Pc9zPj3Pcz49z3M+Pc9zPj3Pcz49z3M+Pc9zPiVJkj4lSZI+JUmSPiVJkj4lSZI+JUmSPiVJkj4lSZI+JUmSPiVJkj4lSZI+JUmSPiVJkj4lSZI+JUmSPiVJkj4lSZI+JUmSPiVJkj4lSZI+q6qqPquqqj6rqqo+q6qqPquqqj6rqqo+q6qqPquqqj6rqqo+q6qqPquqqj6rqqo+q6qqPquqqj6rqqo+q6qqPquqqj6rqqo+q6qqPquqqj4xDMM+MQzDPjEMwz4xDMM+MQzDPjEMwz4xDMM+MQzDPjEMwz4xDMM+MQzDPjEMwz4xDMM+MQzDPjEMwz4xDMM+MQzDPjEMwz4xDMM+MQzDPrdt2z63bds+t23bPrdt2z63bds+t23bPrdt2z63bds+t23bPrdt2z63bds+t23bPrdt2z63bds+t23bPrdt2z63bds+t23bPrdt2z63bds+Pc/zPj3P8z49z/M+Pc/zPj3P8z49z/M+Pc/zPj3P8z49z/M+Pc/zPj3P8z49z/M+Pc/zPj3P8z49z/M+Pc/zPj3P8z49z/M+Pc/zPj3P8z5iGAY/YhgGP2IYBj9iGAY/YhgGP2IYBj9iGAY/YhgGP2IYBj9iGAY/YhgGP2IYBj9iGAY/YhgGP2IYBj9iGAY/YhgGP2IYBj9iGAY/YhgGPyRJEj8kSRI/JEkSPyRJEj8kSRI/JEkSPyRJEj8kSRI/JEkSPyRJEj8kSRI/JEkSPyRJEj8kSRI/JEkSPyRJEj8kSRI/JEkSPyRJEj8kSRI/6HkeP+h5Hj/oeR4/6HkeP+h5Hj/oeR4/6HkeP+h5Hj/oeR4/6HkeP+h5Hj/oeR4/6HkeP+h5Hj/oeR4/6HkeP+h5Hj/oeR4/6HkeP+h5Hj+qqio/qqoqP6qqKj+qqio/qqoqP6qqKj+qqio/qqoqP6qqKj+qqio/qqoqP6qqKj+qqio/qqoqP6qqKj+qqio/qqoqP6qqKj+qqio/qqoqP27bNj9u2zY/bts2P27bNj9u2zY/bts2P27bNj9u2zY/bts2P27bNj9u2zY/bts2P27bNj9u2zY/bts2P27bNj9u2zY/bts2P27bNj9u2zY/MQxDPzEMQz8xDEM/MQxDPzEMQz8xDEM/MQxDPzEMQz8xDEM/MQxDPzEMQz8xDEM/MQxDPzEMQz8xDEM/MQxDPzEMQz8xDEM/MQxDPzEMQz/0PE8/9DxPP/Q8Tz/0PE8/9DxPP/Q8Tz/0PE8/9DxPP/Q8Tz/0PE8/9DxPP/Q8Tz/0PE8/9DxPP/Q8Tz/0PE8/9DxPP/Q8Tz/0PE8/9DxPP7dtWz+3bVs/t21bP7dtWz+3bVs/t21bP7dtWz+3bVs/t21bP7dtWz+3bVs/t21bP7dtWz+3bVs/t21bP7dtWz+3bVs/t21bP7dtWz+3bVs/ep5nP3qeZz96nmc/ep5nP3qeZz96nmc/ep5nP3qeZz96nmc/ep5nP3qeZz96nmc/ep5nP3qeZz96nmc/ep5nP3qeZz96nmc/ep5nP3qeZz89z3M/Pc9zPz3Pcz89z3M/Pc9zPz3Pcz89z3M/Pc9zPz3Pcz89z3M/Pc9zPz3Pcz89z3M/Pc9zPz3Pcz89z3M/Pc9zPz3Pcz89z3M/Pc9zP4wuuj2MLro9AAAAAAAAgD+MLjo+jC46PgAAAAAAAIA/6aKLPumiiz4AAAAAAACAP4wuuj6MLro+AAAAAAAAgD8vuug+L7roPgAAAAAAAIA/6KILP+iiCz8AAAAAAACAP7roIj+66CI/AAAAAAAAgD+MLjo/jC46PwAAAAAAAIA/XXRRP110UT8AAAAAAACAPy66aD8uumg/AAAAAAAAgD8AAAAAAACAPwAAAAAAAIA/",
          "dtype": "f4"
         },
         "y": {
          "bdata": "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",
          "dtype": "f4"
         },
         "z": {
          "bdata": "AAAAAAAAAAAAAAAAAAAAAAAAAAAAAAAAAAAAAAAAAAAAAAAAAAAAAAAAAAAAAAAAAAAAAAAAAAAAAAAAAAAAAAAAAAAAAAAAAAAAAAAAAAAAAAAAAAAAAAAAAAAAAAAAAAAAAAAAAAAAAAAAAAAAAAAAAAAAAAAAAAAAAAAAAAAAAAAAAAAAAAAAAAAAAAAAAAAAAAAAAAAAAAAAAAAAAAAAAAAAAAAAAAAAAAAAAAAAAAAAAAAAAAAAAAAAAAAAAAAAAAAAAAAAAAAAAAAAAAAAAAAAAAAAAAAAAAAAAAAAAAAAAAAAAAAAAAAAAAAAAAAAAAAAAAAAAAAAAAAAAAAAAAAAAAAAAAAAAAAAAAAAAAAAAAAAAAAAAAAAAAAAAAAAAAAAAAAAAAAAAAAAAAAAAAAAAAAAAAAAAAAAAAAAAAAAAAAAAAAAAAAAAAAAAAAAAAAAAAAAAAAAAAAAAAAAAAAAAAAAAAAAAAAAAAAAAAAAAAAAAAAAAAAAAAAAAAAAAAAAAAAAAAAAAAAAAAAAAAAAAAAAAAAAAAAAAAAAAAAAAAAAAAAAAAAAAAAAAAAAAAAAAAAAAAAAAAAAAAAAAAAAAAAAAAAAAAAAAAAAAAAAAAAAAAAAAAAAAAAAAAAAAAAAAAAAAAAAAAAAAAAAAAAAAAAAAAAAAAAAAAAAAAAAAAAAAAAAAAAAAAAAAAAAAAAAAAAAAAAAAAAAAAAAAAAAAAAAAAAAAAAAAAAAAAAAAAAAAAAAAAAAAAAAAAAAAAAAAAAAAAAAAAAAAAAAAAAAAAAAAAAAAAAAAAAAAAAAAAAAAAAAAAAAAAAAAAAAAAAAAAAAAAAAAAAAAAAAAAAAAAAAAAAAAAAAAAAAAAAAAAAAAAAAAAAAAAAAAAAAAAAAAAAAAAAAAAAAAAAAAAAAAAAAAAAAAAAAAAAAAAAAAAAAAAAAAAAAAAAAAAAAAAAAAAAAAAAAAAAAAAAAAAAAAAAAAAAAAAAAAAAAAAAAAAAAAAAAAAAAAAAAAAAAAAAAAAAAAAAAAAAAAAAAAAAAAAAAAAAAAAAAAAAAAAAAAAAAAAAAAAAAAAAAAAAAAAAAAAAAAAAAAAAAAAAAAAAAAAAAAAAAAAAAAAAAAAAAAAAAAAAAAAAAAAAAAAAAAAAAAAAAAAAAAAAAAAAAAAAAAAAAAAAAAAAAAAAAAAAAAAAAAAAAAAAAAAAAAAAAAAAAAAAAAAAAAAAAAAAAAAAAAAAAAAAAAAAAAAAAAAAAAAAAAAAAAAAAAAAAAAAAAAAAAAAAAAAAAAAAAAAAAAAAAAAAAAAAAAAAAAAAAAAAAAAAAAAAAAAAAAAAAAAAAAAAAAAAAAAAAAAAAAAAAAAAAAAAAAAAAAAAAAAAAAAAAAAAAAAAAAAAAAAAAAAAAAAAAAAAAAAAAAAAAAAAAAAAAAAAAAAAAAAAAAAAAAAAAAAAAAAAAAAAAAAAAAAAAAAAAAAAAAAAAAAAAAAAAAAAAAAAAAAAAAAAAAAAAAAAAAAAAAAAAAAAAAAAAAAAAAAAAAAAAAAAAAAAAAAAAAAAAAAAAAAAAAAAAAAAAAAAAAAAAAAAAAAAAAAAAAAAAAAAAAAAAAAAAAAAAAAAAAAAAAAAAAAAAAAAAAAAAAAAAAAAAAAAAAAAAAAAAAAAAAAAAAAAAAAAAAAAAAAAAAAAAAAAAAAAAAAAAAAAAAAAAAAAAAAAAAAAAAAAAAAAAAAAAAAAAAAAAAAAAAAAAAAAAAAAAAAAAAAAAAAAAAAAAAAAAAAAAAAAAAAAAAAAAAAAAAAAAAAAAAAAAAAAAAAAAAAAAAAAAAAAAAAAAAAAAAAAAAAAAAAAAAAAAAAAAAAAAAAAAAAAAAAAAAAAAAAAAAAAAAAAAAAAAAAAAAAAAAAAAAAAAAAAAAAAAAAAAAAAAAAAAAAAAAAAAAAAAAAAAAAAAAAAAAAAAAAAAAAAAAAAAAAAAAAAAAAAAAAAAAAAAAAAAAAAAAAAAAAAAAAAAAAAAAAAAAAAAAAAAAAAAAAAAAAAAAAAAAAAAAAAAAAAAAAAAAAAAAAAAAAAAAAAAAAAAAAAAAAAAAAAAAAAAAAAAAAAAAAAAAAAAAAAAAAAAAAAAAAAAAAAAAAAAAAAAAAAAAAAAAAAAAAAAAAAAAAAAAAAAAAAAAAAAAAAAAAAAAAAAAAAAAAAAAAAAAAAAAAAAAAAAAAAAAAAAAAAAAAAAAAAAAAAAAAAAAAAAAAAAAAAAAAAAAAAAAAAAAAAAAAAAAAAAAAAAAAAAAAAAAAAAAAAAAAAAAAAAAAAAAAAAAAAAAAAAAAAAAAAAAAAAAAAAAAAAAAAAAAAAAAAAAAAAAAAAAAAAAAA",
          "dtype": "f4"
         }
        }
       ],
       "layout": {
        "height": 700,
        "scene": {
         "xaxis": {
          "title": {
           "text": "x"
          }
         },
         "yaxis": {
          "title": {
           "text": "y"
          }
         },
         "zaxis": {
          "title": {
           "text": "u(x,y)"
          }
         }
        },
        "template": {
         "data": {
          "bar": [
           {
            "error_x": {
             "color": "#2a3f5f"
            },
            "error_y": {
             "color": "#2a3f5f"
            },
            "marker": {
             "line": {
              "color": "#E5ECF6",
              "width": 0.5
             },
             "pattern": {
              "fillmode": "overlay",
              "size": 10,
              "solidity": 0.2
             }
            },
            "type": "bar"
           }
          ],
          "barpolar": [
           {
            "marker": {
             "line": {
              "color": "#E5ECF6",
              "width": 0.5
             },
             "pattern": {
              "fillmode": "overlay",
              "size": 10,
              "solidity": 0.2
             }
            },
            "type": "barpolar"
           }
          ],
          "carpet": [
           {
            "aaxis": {
             "endlinecolor": "#2a3f5f",
             "gridcolor": "white",
             "linecolor": "white",
             "minorgridcolor": "white",
             "startlinecolor": "#2a3f5f"
            },
            "baxis": {
             "endlinecolor": "#2a3f5f",
             "gridcolor": "white",
             "linecolor": "white",
             "minorgridcolor": "white",
             "startlinecolor": "#2a3f5f"
            },
            "type": "carpet"
           }
          ],
          "choropleth": [
           {
            "colorbar": {
             "outlinewidth": 0,
             "ticks": ""
            },
            "type": "choropleth"
           }
          ],
          "contour": [
           {
            "colorbar": {
             "outlinewidth": 0,
             "ticks": ""
            },
            "colorscale": [
             [
              0,
              "#0d0887"
             ],
             [
              0.1111111111111111,
              "#46039f"
             ],
             [
              0.2222222222222222,
              "#7201a8"
             ],
             [
              0.3333333333333333,
              "#9c179e"
             ],
             [
              0.4444444444444444,
              "#bd3786"
             ],
             [
              0.5555555555555556,
              "#d8576b"
             ],
             [
              0.6666666666666666,
              "#ed7953"
             ],
             [
              0.7777777777777778,
              "#fb9f3a"
             ],
             [
              0.8888888888888888,
              "#fdca26"
             ],
             [
              1,
              "#f0f921"
             ]
            ],
            "type": "contour"
           }
          ],
          "contourcarpet": [
           {
            "colorbar": {
             "outlinewidth": 0,
             "ticks": ""
            },
            "type": "contourcarpet"
           }
          ],
          "heatmap": [
           {
            "colorbar": {
             "outlinewidth": 0,
             "ticks": ""
            },
            "colorscale": [
             [
              0,
              "#0d0887"
             ],
             [
              0.1111111111111111,
              "#46039f"
             ],
             [
              0.2222222222222222,
              "#7201a8"
             ],
             [
              0.3333333333333333,
              "#9c179e"
             ],
             [
              0.4444444444444444,
              "#bd3786"
             ],
             [
              0.5555555555555556,
              "#d8576b"
             ],
             [
              0.6666666666666666,
              "#ed7953"
             ],
             [
              0.7777777777777778,
              "#fb9f3a"
             ],
             [
              0.8888888888888888,
              "#fdca26"
             ],
             [
              1,
              "#f0f921"
             ]
            ],
            "type": "heatmap"
           }
          ],
          "histogram": [
           {
            "marker": {
             "pattern": {
              "fillmode": "overlay",
              "size": 10,
              "solidity": 0.2
             }
            },
            "type": "histogram"
           }
          ],
          "histogram2d": [
           {
            "colorbar": {
             "outlinewidth": 0,
             "ticks": ""
            },
            "colorscale": [
             [
              0,
              "#0d0887"
             ],
             [
              0.1111111111111111,
              "#46039f"
             ],
             [
              0.2222222222222222,
              "#7201a8"
             ],
             [
              0.3333333333333333,
              "#9c179e"
             ],
             [
              0.4444444444444444,
              "#bd3786"
             ],
             [
              0.5555555555555556,
              "#d8576b"
             ],
             [
              0.6666666666666666,
              "#ed7953"
             ],
             [
              0.7777777777777778,
              "#fb9f3a"
             ],
             [
              0.8888888888888888,
              "#fdca26"
             ],
             [
              1,
              "#f0f921"
             ]
            ],
            "type": "histogram2d"
           }
          ],
          "histogram2dcontour": [
           {
            "colorbar": {
             "outlinewidth": 0,
             "ticks": ""
            },
            "colorscale": [
             [
              0,
              "#0d0887"
             ],
             [
              0.1111111111111111,
              "#46039f"
             ],
             [
              0.2222222222222222,
              "#7201a8"
             ],
             [
              0.3333333333333333,
              "#9c179e"
             ],
             [
              0.4444444444444444,
              "#bd3786"
             ],
             [
              0.5555555555555556,
              "#d8576b"
             ],
             [
              0.6666666666666666,
              "#ed7953"
             ],
             [
              0.7777777777777778,
              "#fb9f3a"
             ],
             [
              0.8888888888888888,
              "#fdca26"
             ],
             [
              1,
              "#f0f921"
             ]
            ],
            "type": "histogram2dcontour"
           }
          ],
          "mesh3d": [
           {
            "colorbar": {
             "outlinewidth": 0,
             "ticks": ""
            },
            "type": "mesh3d"
           }
          ],
          "parcoords": [
           {
            "line": {
             "colorbar": {
              "outlinewidth": 0,
              "ticks": ""
             }
            },
            "type": "parcoords"
           }
          ],
          "pie": [
           {
            "automargin": true,
            "type": "pie"
           }
          ],
          "scatter": [
           {
            "fillpattern": {
             "fillmode": "overlay",
             "size": 10,
             "solidity": 0.2
            },
            "type": "scatter"
           }
          ],
          "scatter3d": [
           {
            "line": {
             "colorbar": {
              "outlinewidth": 0,
              "ticks": ""
             }
            },
            "marker": {
             "colorbar": {
              "outlinewidth": 0,
              "ticks": ""
             }
            },
            "type": "scatter3d"
           }
          ],
          "scattercarpet": [
           {
            "marker": {
             "colorbar": {
              "outlinewidth": 0,
              "ticks": ""
             }
            },
            "type": "scattercarpet"
           }
          ],
          "scattergeo": [
           {
            "marker": {
             "colorbar": {
              "outlinewidth": 0,
              "ticks": ""
             }
            },
            "type": "scattergeo"
           }
          ],
          "scattergl": [
           {
            "marker": {
             "colorbar": {
              "outlinewidth": 0,
              "ticks": ""
             }
            },
            "type": "scattergl"
           }
          ],
          "scattermap": [
           {
            "marker": {
             "colorbar": {
              "outlinewidth": 0,
              "ticks": ""
             }
            },
            "type": "scattermap"
           }
          ],
          "scattermapbox": [
           {
            "marker": {
             "colorbar": {
              "outlinewidth": 0,
              "ticks": ""
             }
            },
            "type": "scattermapbox"
           }
          ],
          "scatterpolar": [
           {
            "marker": {
             "colorbar": {
              "outlinewidth": 0,
              "ticks": ""
             }
            },
            "type": "scatterpolar"
           }
          ],
          "scatterpolargl": [
           {
            "marker": {
             "colorbar": {
              "outlinewidth": 0,
              "ticks": ""
             }
            },
            "type": "scatterpolargl"
           }
          ],
          "scatterternary": [
           {
            "marker": {
             "colorbar": {
              "outlinewidth": 0,
              "ticks": ""
             }
            },
            "type": "scatterternary"
           }
          ],
          "surface": [
           {
            "colorbar": {
             "outlinewidth": 0,
             "ticks": ""
            },
            "colorscale": [
             [
              0,
              "#0d0887"
             ],
             [
              0.1111111111111111,
              "#46039f"
             ],
             [
              0.2222222222222222,
              "#7201a8"
             ],
             [
              0.3333333333333333,
              "#9c179e"
             ],
             [
              0.4444444444444444,
              "#bd3786"
             ],
             [
              0.5555555555555556,
              "#d8576b"
             ],
             [
              0.6666666666666666,
              "#ed7953"
             ],
             [
              0.7777777777777778,
              "#fb9f3a"
             ],
             [
              0.8888888888888888,
              "#fdca26"
             ],
             [
              1,
              "#f0f921"
             ]
            ],
            "type": "surface"
           }
          ],
          "table": [
           {
            "cells": {
             "fill": {
              "color": "#EBF0F8"
             },
             "line": {
              "color": "white"
             }
            },
            "header": {
             "fill": {
              "color": "#C8D4E3"
             },
             "line": {
              "color": "white"
             }
            },
            "type": "table"
           }
          ]
         },
         "layout": {
          "annotationdefaults": {
           "arrowcolor": "#2a3f5f",
           "arrowhead": 0,
           "arrowwidth": 1
          },
          "autotypenumbers": "strict",
          "coloraxis": {
           "colorbar": {
            "outlinewidth": 0,
            "ticks": ""
           }
          },
          "colorscale": {
           "diverging": [
            [
             0,
             "#8e0152"
            ],
            [
             0.1,
             "#c51b7d"
            ],
            [
             0.2,
             "#de77ae"
            ],
            [
             0.3,
             "#f1b6da"
            ],
            [
             0.4,
             "#fde0ef"
            ],
            [
             0.5,
             "#f7f7f7"
            ],
            [
             0.6,
             "#e6f5d0"
            ],
            [
             0.7,
             "#b8e186"
            ],
            [
             0.8,
             "#7fbc41"
            ],
            [
             0.9,
             "#4d9221"
            ],
            [
             1,
             "#276419"
            ]
           ],
           "sequential": [
            [
             0,
             "#0d0887"
            ],
            [
             0.1111111111111111,
             "#46039f"
            ],
            [
             0.2222222222222222,
             "#7201a8"
            ],
            [
             0.3333333333333333,
             "#9c179e"
            ],
            [
             0.4444444444444444,
             "#bd3786"
            ],
            [
             0.5555555555555556,
             "#d8576b"
            ],
            [
             0.6666666666666666,
             "#ed7953"
            ],
            [
             0.7777777777777778,
             "#fb9f3a"
            ],
            [
             0.8888888888888888,
             "#fdca26"
            ],
            [
             1,
             "#f0f921"
            ]
           ],
           "sequentialminus": [
            [
             0,
             "#0d0887"
            ],
            [
             0.1111111111111111,
             "#46039f"
            ],
            [
             0.2222222222222222,
             "#7201a8"
            ],
            [
             0.3333333333333333,
             "#9c179e"
            ],
            [
             0.4444444444444444,
             "#bd3786"
            ],
            [
             0.5555555555555556,
             "#d8576b"
            ],
            [
             0.6666666666666666,
             "#ed7953"
            ],
            [
             0.7777777777777778,
             "#fb9f3a"
            ],
            [
             0.8888888888888888,
             "#fdca26"
            ],
            [
             1,
             "#f0f921"
            ]
           ]
          },
          "colorway": [
           "#636efa",
           "#EF553B",
           "#00cc96",
           "#ab63fa",
           "#FFA15A",
           "#19d3f3",
           "#FF6692",
           "#B6E880",
           "#FF97FF",
           "#FECB52"
          ],
          "font": {
           "color": "#2a3f5f"
          },
          "geo": {
           "bgcolor": "white",
           "lakecolor": "white",
           "landcolor": "#E5ECF6",
           "showlakes": true,
           "showland": true,
           "subunitcolor": "white"
          },
          "hoverlabel": {
           "align": "left"
          },
          "hovermode": "closest",
          "mapbox": {
           "style": "light"
          },
          "paper_bgcolor": "white",
          "plot_bgcolor": "#E5ECF6",
          "polar": {
           "angularaxis": {
            "gridcolor": "white",
            "linecolor": "white",
            "ticks": ""
           },
           "bgcolor": "#E5ECF6",
           "radialaxis": {
            "gridcolor": "white",
            "linecolor": "white",
            "ticks": ""
           }
          },
          "scene": {
           "xaxis": {
            "backgroundcolor": "#E5ECF6",
            "gridcolor": "white",
            "gridwidth": 2,
            "linecolor": "white",
            "showbackground": true,
            "ticks": "",
            "zerolinecolor": "white"
           },
           "yaxis": {
            "backgroundcolor": "#E5ECF6",
            "gridcolor": "white",
            "gridwidth": 2,
            "linecolor": "white",
            "showbackground": true,
            "ticks": "",
            "zerolinecolor": "white"
           },
           "zaxis": {
            "backgroundcolor": "#E5ECF6",
            "gridcolor": "white",
            "gridwidth": 2,
            "linecolor": "white",
            "showbackground": true,
            "ticks": "",
            "zerolinecolor": "white"
           }
          },
          "shapedefaults": {
           "line": {
            "color": "#2a3f5f"
           }
          },
          "ternary": {
           "aaxis": {
            "gridcolor": "white",
            "linecolor": "white",
            "ticks": ""
           },
           "baxis": {
            "gridcolor": "white",
            "linecolor": "white",
            "ticks": ""
           },
           "bgcolor": "#E5ECF6",
           "caxis": {
            "gridcolor": "white",
            "linecolor": "white",
            "ticks": ""
           }
          },
          "title": {
           "x": 0.05
          },
          "xaxis": {
           "automargin": true,
           "gridcolor": "white",
           "linecolor": "white",
           "ticks": "",
           "title": {
            "standoff": 15
           },
           "zerolinecolor": "white",
           "zerolinewidth": 2
          },
          "yaxis": {
           "automargin": true,
           "gridcolor": "white",
           "linecolor": "white",
           "ticks": "",
           "title": {
            "standoff": 15
           },
           "zerolinecolor": "white",
           "zerolinewidth": 2
          }
         }
        },
        "title": {
         "text": "PINN: Predicted vs Exact Solution"
        },
        "width": 900
       }
      }
     },
     "metadata": {},
     "output_type": "display_data"
    }
   ],
   "source": [
    "import plotly.graph_objects as go\n",
    "import numpy as np\n",
    "\n",
    "# Reshape data (assuming square grid)\n",
    "N = int(np.sqrt(x_test.shape[0]))\n",
    "X = x_test[:, 0].reshape(N, N)\n",
    "Y = x_test[:, 1].reshape(N, N)\n",
    "y_pred = y_pred.reshape(N, N)\n",
    "y_test = y_test.reshape(N, N)\n",
    "x_train = np.vstack([x_train_i,x_train_b])\n",
    "\n",
    "fig = go.Figure()\n",
    "\n",
    "# Predicted surface\n",
    "fig.add_trace(go.Surface(z=y_pred, x=X, y=Y, colorscale='Blues', name='Predicted',showlegend=True,showscale=False))\n",
    "\n",
    "# Exact surface overlay\n",
    "fig.add_trace(go.Surface(z=y_test, x=X, y=Y, colorscale='Reds', opacity=0.5, name='Exact',showlegend=True,showscale=False))\n",
    "\n",
    "# Collocation points\n",
    "# x_col = x_train.detach().cpu().numpy()\n",
    "fig.add_trace(go.Scatter3d(\n",
    "    x=x_train[:, 0], y=x_train[:, 1], z=np.zeros_like(x_train[:, 0]),\n",
    "    mode='markers', marker=dict(size=3, color='black'),\n",
    "    name='Collocation Points',\n",
    "    showlegend=True\n",
    "))\n",
    "\n",
    "fig.update_layout(\n",
    "    title=\"PINN: Predicted vs Exact Solution\",\n",
    "    scene=dict(xaxis_title='x', yaxis_title='y', zaxis_title='u(x,y)'),\n",
    "    width=900, height=700\n",
    ")\n",
    "fig.show()\n"
   ]
  },
  {
   "cell_type": "code",
   "execution_count": null,
   "id": "ec4fdaeb",
   "metadata": {},
   "outputs": [],
   "source": []
  }
 ],
 "metadata": {
  "kernelspec": {
   "display_name": "tf_env",
   "language": "python",
   "name": "python3"
  },
  "language_info": {
   "codemirror_mode": {
    "name": "ipython",
    "version": 3
   },
   "file_extension": ".py",
   "mimetype": "text/x-python",
   "name": "python",
   "nbconvert_exporter": "python",
   "pygments_lexer": "ipython3",
   "version": "3.10.16"
  }
 },
 "nbformat": 4,
 "nbformat_minor": 5
}

{
  "cells": [
    {
      "cell_type": "code",
      "execution_count": 3,
      "id": "ccd09410",
      "metadata": {
        "id": "ccd09410"
      },
      "outputs": [],
      "source": [
        "import torch\n",
        "import torch.nn as nn\n",
        "import numpy as np\n",
        "from torch import tensor, sin, pi\n",
        "import matplotlib.pyplot as plt\n",
        "import pandas as pd\n",
        "from torch.utils.data import random_split, TensorDataset\n",
        "import plotly.graph_objects as go\n",
        "from mpl_toolkits.mplot3d import Axes3D"
      ]
    },
    {
      "cell_type": "code",
      "execution_count": null,
      "id": "9nZ3qQDp9CED",
      "metadata": {
        "id": "9nZ3qQDp9CED"
      },
      "outputs": [],
      "source": [
        "device = torch.device('cuda' if torch.cuda.is_available() else 'cpu')"
      ]
    },
    {
      "cell_type": "markdown",
      "id": "73e2f06d",
      "metadata": {
        "id": "73e2f06d"
      },
      "source": [
        "## PINNs for solving PDEs"
      ]
    },
    {
      "cell_type": "markdown",
      "id": "36722a68",
      "metadata": {
        "id": "36722a68"
      },
      "source": [
        "Physics Informed Neural Networks (PINNS) are neural networks that incorporate physics, often described by a PDE, into the training process. This allows the network to be more robust and generalizable by not only learning from the data but also adhering to the underlying physics describing the data. Here, the approach begins with a 1D example problem and is then generalized to solve eigenvalue problems in higher dimensions."
      ]
    },
    {
      "cell_type": "markdown",
      "id": "08caf279",
      "metadata": {
        "id": "08caf279"
      },
      "source": [
        "The idea here is to use neural networks to approximate the solution $u$ to this PDE, leveraging their well-known ability as universal function approximators and also automatic differentiation to differentiate the output with respect to their input coordinates."
      ]
    },
    {
      "cell_type": "markdown",
      "id": "af544e08",
      "metadata": {
        "id": "af544e08"
      },
      "source": [
        "## 1D problem"
      ]
    },
    {
      "cell_type": "markdown",
      "id": "9e8b2c9d",
      "metadata": {
        "id": "9e8b2c9d"
      },
      "source": [
        "Consider the following reaction-diffusion equation in 1D\n",
        "$$\n",
        "\\begin{align*}\n",
        "    -\\Delta u + u &= (m^2\\pi^2+1)\\sin(m\\pi x),\\hspace{10pt}\\text{ in }(0,1)\\\\\n",
        "    u(0)&=u(1)=0\n",
        "\\end{align*}\n",
        "$$\n",
        "\n",
        "This PDE can be solved analytically and the exact solution is given by $u(x) = \\sin(m\\pi x)$."
      ]
    },
    {
      "cell_type": "code",
      "execution_count": null,
      "id": "31ec3c03",
      "metadata": {
        "id": "31ec3c03"
      },
      "outputs": [],
      "source": [
        "# RHS\n",
        "def f(x,m=1):\n",
        "    return (m**2*pi**2+1)*sin(m*pi*x)\n",
        "\n",
        "# Exact Solution\n",
        "def u_exact(x,m=1):\n",
        "    return sin(m*pi*x)"
      ]
    },
    {
      "cell_type": "markdown",
      "id": "f4258cfb",
      "metadata": {
        "id": "f4258cfb"
      },
      "source": [
        "### Creating neural network"
      ]
    },
    {
      "cell_type": "code",
      "execution_count": null,
      "id": "6796eb4d",
      "metadata": {
        "id": "6796eb4d"
      },
      "outputs": [],
      "source": [
        "# building PINN neural network using nn.Module class\n",
        "class PINN(nn.Module):\n",
        "    def __init__(self):\n",
        "        super(PINN, self).__init__()\n",
        "        self.net = nn.Sequential(\n",
        "            nn.Linear(1, 512),           # here 1 describes that we are working in 1D\n",
        "            nn.Tanh(),\n",
        "            nn.Linear(512, 256),\n",
        "            nn.Tanh(),\n",
        "            nn.Linear(256, 128),\n",
        "            nn.Tanh(),\n",
        "            nn.Linear(128, 64),\n",
        "            nn.Tanh(),\n",
        "            nn.Linear(64, 1)\n",
        "        )\n",
        "\n",
        "    def forward(self, x):\n",
        "        return self.net(x)"
      ]
    },
    {
      "cell_type": "code",
      "execution_count": null,
      "id": "a4b563fb",
      "metadata": {
        "id": "a4b563fb"
      },
      "outputs": [],
      "source": [
        "# incorporating automatic differentiation\n",
        "def grad(outputs, inputs):\n",
        "    return torch.autograd.grad(outputs, inputs, grad_outputs=torch.ones_like(outputs),create_graph=True)[0]"
      ]
    },
    {
      "cell_type": "markdown",
      "id": "47ff4266",
      "metadata": {
        "id": "47ff4266"
      },
      "source": [
        "### Loss function"
      ]
    },
    {
      "cell_type": "markdown",
      "id": "40b87ce5",
      "metadata": {
        "id": "40b87ce5"
      },
      "source": [
        "The key idea of PINNs is to incorporate the PDE directly into the loss function along with the boundary conditions. This can be thought of as penalizing the network prediction wherever it deviates from the governing PDE and boundary conditions. The gradients arising in the PDE can be easily computed using automatic differentiation."
      ]
    },
    {
      "cell_type": "markdown",
      "id": "8e28a9e0",
      "metadata": {
        "id": "8e28a9e0"
      },
      "source": [
        "The parameters of the neural networks can be learned by minimizing the mean-squared error loss function\n",
        "$$\n",
        "\\begin{align*}\n",
        "    MSE = MSE_u + MSE_f\n",
        "\\end{align*}\n",
        "$$\n",
        "where\n",
        "$$\n",
        "\\begin{align*}\n",
        "    MSE_b = |u(0)|^2 + |u(1)|^2\n",
        "\\end{align*}\n",
        "$$\n",
        "and\n",
        "$$\n",
        "\\begin{align*}\n",
        "    MSE_i = \\frac{1}{N_i}\\sum_{k=1}^{N_i} |-\\Delta u(x_k) +u(x_k) - f(x_k)|^2\n",
        "\\end{align*}\n",
        "$$\n",
        "$N_i$ describes the number of collocation points which act as checkpoints to check whether the network prediction $u$ satisfies the PDE. $MSE_i$ describes the interior loss of network prediction, and $MSE_b$ describes the boundary loss. The collocation points, along with the endpoints, serve as training data for PINNs."
      ]
    },
    {
      "cell_type": "code",
      "execution_count": null,
      "id": "521572df",
      "metadata": {
        "id": "521572df"
      },
      "outputs": [],
      "source": [
        "def compute_loss(model: nn.Module, x_train: torch.Tensor,m=1):\n",
        "    # evaluating u(x), f(x), du/dx, d^2u/dx^2 at training data points\n",
        "    x_train.requires_grad_(True)\n",
        "    u = model(x_train)\n",
        "    du = grad(u,x_train)\n",
        "    d2u = grad(du,x_train)\n",
        "\n",
        "    #ODE residual: -u\"(x)+ u(x) - f(x)\n",
        "    residual = -d2u[1:-1] + u[1:-1] - f(x_train[1:-1],m)     # ODE-based interior residual\n",
        "    interior_loss = torch.mean(residual ** 2)                # mean-squared interior loss\n",
        "\n",
        "    #calculating boundary loss for problem\n",
        "    left_residual = u[0]\n",
        "    right_residual = u[-1]\n",
        "    boundary_loss = (left_residual ** 2 + right_residual ** 2)/2    # mean-squared boundary loss\n",
        "    return interior_loss + boundary_loss"
      ]
    },
    {
      "cell_type": "markdown",
      "id": "84dddbf7",
      "metadata": {
        "id": "84dddbf7"
      },
      "source": [
        "Note that as $m$ increases, the exact solution becomes more oscillatory, making it more difficult to approximate using PINNs."
      ]
    },
    {
      "cell_type": "markdown",
      "id": "4aebe0bd",
      "metadata": {
        "id": "4aebe0bd"
      },
      "source": [
        "### Generating Training and test dataset"
      ]
    },
    {
      "cell_type": "markdown",
      "id": "264cd8c3",
      "metadata": {
        "id": "264cd8c3"
      },
      "source": [
        "The training set consists of uniformly spaced points in the interval, totaling $n_{train} = N_i+2$ points, where $N_i$ is the number of datapoints in the interior. Initially, the case where $m=1$ is studied, and then $m$ is incrementally increased to assess the performance of PINNs."
      ]
    },
    {
      "cell_type": "code",
      "execution_count": null,
      "id": "a7147873",
      "metadata": {
        "colab": {
          "base_uri": "https://localhost:8080/"
        },
        "id": "a7147873",
        "outputId": "5b10de35-c8d8-4272-9349-0a7411d9f372"
      },
      "outputs": [
        {
          "data": {
            "text/plain": [
              "torch.Size([20, 1])"
            ]
          },
          "execution_count": 15,
          "metadata": {},
          "output_type": "execute_result"
        }
      ],
      "source": [
        "# generate the training set\n",
        "n_train = 20\n",
        "x_train = torch.linspace(0,1,n_train).reshape(-1,1).to(device)\n",
        "x_train.shape"
      ]
    },
    {
      "cell_type": "code",
      "execution_count": null,
      "id": "201fb93b",
      "metadata": {
        "colab": {
          "base_uri": "https://localhost:8080/"
        },
        "id": "201fb93b",
        "outputId": "ff718120-5754-48f2-f4ab-48e5adee2e3f"
      },
      "outputs": [
        {
          "data": {
            "text/plain": [
              "torch.Size([100, 1])"
            ]
          },
          "execution_count": 16,
          "metadata": {},
          "output_type": "execute_result"
        }
      ],
      "source": [
        "# generate the test set\n",
        "n_test = 100\n",
        "x_test = torch.linspace(0,1,n_test).reshape(-1,1).to(device)\n",
        "x_test.shape"
      ]
    },
    {
      "cell_type": "code",
      "execution_count": null,
      "id": "37b46ee4",
      "metadata": {
        "colab": {
          "base_uri": "https://localhost:8080/"
        },
        "id": "37b46ee4",
        "outputId": "cb0b31f0-404d-4980-e98e-9f2b9412ef32"
      },
      "outputs": [
        {
          "data": {
            "text/plain": [
              "torch.Size([100, 1])"
            ]
          },
          "execution_count": 17,
          "metadata": {},
          "output_type": "execute_result"
        }
      ],
      "source": [
        "# exact solution\n",
        "u_true = u_exact(x_test)\n",
        "u_true.shape"
      ]
    },
    {
      "cell_type": "markdown",
      "id": "4f94bd4b",
      "metadata": {
        "id": "4f94bd4b"
      },
      "source": [
        "### Training and predicting using PINN"
      ]
    },
    {
      "cell_type": "markdown",
      "id": "56565930",
      "metadata": {
        "id": "56565930"
      },
      "source": [
        "Here, LBFGS optimizer with learning rate 0.001 is used to minimize the loss function described above. 6% of the train set is used for validating the output of training process."
      ]
    },
    {
      "cell_type": "code",
      "execution_count": null,
      "id": "0a55c7d7",
      "metadata": {
        "id": "0a55c7d7"
      },
      "outputs": [],
      "source": [
        "# defining a function to train PINN\n",
        "def train_PINN(x_train,num_epochs,m=1,verbose = True):\n",
        "    model = PINN().to(device)\n",
        "    optimizer = torch.optim.LBFGS(model.parameters(), lr=0.0001)\n",
        "\n",
        "    # defining the closure function\n",
        "    def closure():\n",
        "        optimizer.zero_grad()\n",
        "        loss = compute_loss(model, x_train, m)\n",
        "        loss.backward()\n",
        "        return loss\n",
        "\n",
        "    for epoch in range(num_epochs):\n",
        "        model.train()                     # Set model to training mode\n",
        "        train_loss = optimizer.step(closure)\n",
        "\n",
        "        if epoch % 200 == 0 and verbose ==True:\n",
        "            print(f\"Full Training Epoch {epoch}, Training Loss: {train_loss.item():.6f}\")\n",
        "\n",
        "    return model"
      ]
    },
    {
      "cell_type": "code",
      "execution_count": null,
      "id": "242e81d9",
      "metadata": {
        "colab": {
          "base_uri": "https://localhost:8080/"
        },
        "id": "242e81d9",
        "outputId": "fbb12409-8569-420a-9a44-e10a266dfa2f"
      },
      "outputs": [
        {
          "name": "stdout",
          "output_type": "stream",
          "text": [
            "Full Training Epoch 0, Training Loss: 61.824429\n",
            "Full Training Epoch 200, Training Loss: 0.021725\n",
            "Full Training Epoch 400, Training Loss: 0.004307\n",
            "Full Training Epoch 600, Training Loss: 0.004192\n",
            "Full Training Epoch 800, Training Loss: 0.004129\n",
            "Full Training Epoch 1000, Training Loss: 0.004094\n",
            "Full Training Epoch 1200, Training Loss: 0.004071\n",
            "Full Training Epoch 1400, Training Loss: 0.004052\n",
            "Full Training Epoch 1600, Training Loss: 0.004035\n",
            "Full Training Epoch 1800, Training Loss: 0.004022\n"
          ]
        }
      ],
      "source": [
        "num_epochs = 2000\n",
        "u = train_PINN(x_train,num_epochs)"
      ]
    },
    {
      "cell_type": "code",
      "execution_count": null,
      "id": "681095d1",
      "metadata": {
        "colab": {
          "base_uri": "https://localhost:8080/"
        },
        "id": "681095d1",
        "outputId": "d49bfcf4-7250-45db-fe7f-8139eb5cf74d"
      },
      "outputs": [
        {
          "data": {
            "text/plain": [
              "torch.Size([100, 1])"
            ]
          },
          "execution_count": 20,
          "metadata": {},
          "output_type": "execute_result"
        }
      ],
      "source": [
        "# Predicting using obtained u\n",
        "u_pred = u(x_test)\n",
        "u_pred.shape"
      ]
    },
    {
      "cell_type": "code",
      "execution_count": null,
      "id": "e62f0e67",
      "metadata": {
        "colab": {
          "base_uri": "https://localhost:8080/"
        },
        "id": "e62f0e67",
        "outputId": "18ab775c-8c58-4580-c7ac-b882db667558"
      },
      "outputs": [
        {
          "data": {
            "text/plain": [
              "True"
            ]
          },
          "execution_count": 21,
          "metadata": {},
          "output_type": "execute_result"
        }
      ],
      "source": [
        "u_pred.shape == u_true.shape"
      ]
    },
    {
      "cell_type": "markdown",
      "id": "bb270c0f",
      "metadata": {
        "id": "bb270c0f"
      },
      "source": [
        "### Calculating $L^2$ error of the solution"
      ]
    },
    {
      "cell_type": "code",
      "execution_count": null,
      "id": "a8df275a",
      "metadata": {
        "id": "a8df275a"
      },
      "outputs": [],
      "source": [
        "def L2_error(u_pred,u_true):\n",
        "    return torch.sum((u_true-u_pred)**2)"
      ]
    },
    {
      "cell_type": "code",
      "execution_count": null,
      "id": "e252c014",
      "metadata": {
        "colab": {
          "base_uri": "https://localhost:8080/"
        },
        "id": "e252c014",
        "outputId": "f7c72fdf-6a83-4597-e41a-be18080e3d74"
      },
      "outputs": [
        {
          "name": "stdout",
          "output_type": "stream",
          "text": [
            "L2_error of approximation: 0.029423996806144714\n"
          ]
        }
      ],
      "source": [
        "error = L2_error(u_pred,u_true)\n",
        "print(f\"L2_error of approximation: {error}\")"
      ]
    },
    {
      "cell_type": "markdown",
      "id": "4f2ab8c9",
      "metadata": {
        "id": "4f2ab8c9"
      },
      "source": [
        "### Plotting the solution"
      ]
    },
    {
      "cell_type": "code",
      "execution_count": null,
      "id": "98a5ec59",
      "metadata": {
        "id": "98a5ec59"
      },
      "outputs": [],
      "source": [
        "x_train.requires_grad_(False)\n",
        "x_train = x_train.detach().cpu().numpy()\n",
        "x_test = x_test.detach().cpu().numpy()\n",
        "u_pred = u_pred.detach().cpu().numpy()\n",
        "u_true = u_true.detach().cpu().numpy()"
      ]
    },
    {
      "cell_type": "code",
      "execution_count": null,
      "id": "a854503d",
      "metadata": {
        "colab": {
          "base_uri": "https://localhost:8080/",
          "height": 449
        },
        "id": "a854503d",
        "outputId": "8dc0642b-0083-4c13-ae7d-908faa0f59da"
      },
      "outputs": [
        {
          "data": {
            "image/png": "[encoded data removed]",
            "text/plain": [
              "<Figure size 640x480 with 1 Axes>"
            ]
          },
          "metadata": {},
          "output_type": "display_data"
        }
      ],
      "source": [
        "plt.plot(x_test,u_true,label = \"Exact Solution\",linestyle=\"-\",color = \"red\",linewidth = 0.75)\n",
        "plt.plot(x_test,u_pred,label = \"Predicted Solution\",linestyle=\"--\",linewidth = 1.5,color = \"black\")\n",
        "plt.plot(x_train,np.zeros_like(x_train),label=\"Collocation Points\",linestyle = \"None\", marker = \"o\",markersize  =5)\n",
        "plt.xlabel(\"x\")\n",
        "plt.legend()\n",
        "plt.show()"
      ]
    },
    {
      "cell_type": "markdown",
      "id": "c6fef335",
      "metadata": {
        "id": "c6fef335"
      },
      "source": [
        "### Convergence Study"
      ]
    },
    {
      "cell_type": "code",
      "execution_count": null,
      "id": "5abd53a5",
      "metadata": {
        "colab": {
          "base_uri": "https://localhost:8080/",
          "height": 174
        },
        "id": "5abd53a5",
        "outputId": "7d9636ec-4e1d-46c6-dbfd-a6633455a3ef"
      },
      "outputs": [
        {
          "data": {
            "application/vnd.google.colaboratory.intrinsic+json": {
              "summary": "{\n  \"name\": \"table\",\n  \"rows\": 4,\n  \"fields\": [\n    {\n      \"column\": \"Epochs\",\n      \"properties\": {\n        \"dtype\": \"number\",\n        \"std\": 3095.695936834452,\n        \"min\": 1000.0,\n        \"max\": 8000.0,\n        \"num_unique_values\": 4,\n        \"samples\": [\n          2000.0,\n          8000.0,\n          1000.0\n        ],\n        \"semantic_type\": \"\",\n        \"description\": \"\"\n      }\n    },\n    {\n      \"column\": \"L2 error\",\n      \"properties\": {\n        \"dtype\": \"number\",\n        \"std\": 0.009087414042924088,\n        \"min\": 0.0004742488090414554,\n        \"max\": 0.020811405032873154,\n        \"num_unique_values\": 4,\n        \"samples\": [\n          0.0029411488212645054,\n          0.0004742488090414554,\n          0.020811405032873154\n        ],\n        \"semantic_type\": \"\",\n        \"description\": \"\"\n      }\n    }\n  ]\n}",
              "type": "dataframe",
              "variable_name": "table"
            },
            "text/html": [
              "\n",
              "  <div id=\"df-01ffa7a7-fb23-43db-8b4b-30f571bbb955\" class=\"colab-df-container\">\n",
              "    <div>\n",
              "<style scoped>\n",
              "    .dataframe tbody tr th:only-of-type {\n",
              "        vertical-align: middle;\n",
              "    }\n",
              "\n",
              "    .dataframe tbody tr th {\n",
              "        vertical-align: top;\n",
              "    }\n",
              "\n",
              "    .dataframe thead th {\n",
              "        text-align: right;\n",
              "    }\n",
              "</style>\n",
              "<table border=\"1\" class=\"dataframe\">\n",
              "  <thead>\n",
              "    <tr style=\"text-align: right;\">\n",
              "      <th></th>\n",
              "      <th>Epochs</th>\n",
              "      <th>L2 error</th>\n",
              "    </tr>\n",
              "  </thead>\n",
              "  <tbody>\n",
              "    <tr>\n",
              "      <th>0</th>\n",
              "      <td>1000.0</td>\n",
              "      <td>0.020811</td>\n",
              "    </tr>\n",
              "    <tr>\n",
              "      <th>1</th>\n",
              "      <td>2000.0</td>\n",
              "      <td>0.002941</td>\n",
              "    </tr>\n",
              "    <tr>\n",
              "      <th>2</th>\n",
              "      <td>4000.0</td>\n",
              "      <td>0.006710</td>\n",
              "    </tr>\n",
              "    <tr>\n",
              "      <th>3</th>\n",
              "      <td>8000.0</td>\n",
              "      <td>0.000474</td>\n",
              "    </tr>\n",
              "  </tbody>\n",
              "</table>\n",
              "</div>\n",
              "    <div class=\"colab-df-buttons\">\n",
              "\n",
              "  <div class=\"colab-df-container\">\n",
              "    <button class=\"colab-df-convert\" onclick=\"convertToInteractive('df-01ffa7a7-fb23-43db-8b4b-30f571bbb955')\"\n",
              "            title=\"Convert this dataframe to an interactive table.\"\n",
              "            style=\"display:none;\">\n",
              "\n",
              "  <svg xmlns=\"http://www.w3.org/2000/svg\" height=\"24px\" viewBox=\"0 -960 960 960\">\n",
              "    <path d=\"M120-120v-720h720v720H120Zm60-500h600v-160H180v160Zm220 220h160v-160H400v160Zm0 220h160v-160H400v160ZM180-400h160v-160H180v160Zm440 0h160v-160H620v160ZM180-180h160v-160H180v160Zm440 0h160v-160H620v160Z\"/>\n",
              "  </svg>\n",
              "    </button>\n",
              "\n",
              "  <style>\n",
              "    .colab-df-container {\n",
              "      display:flex;\n",
              "      gap: 12px;\n",
              "    }\n",
              "\n",
              "    .colab-df-convert {\n",
              "      background-color: #E8F0FE;\n",
              "      border: none;\n",
              "      border-radius: 50%;\n",
              "      cursor: pointer;\n",
              "      display: none;\n",
              "      fill: #1967D2;\n",
              "      height: 32px;\n",
              "      padding: 0 0 0 0;\n",
              "      width: 32px;\n",
              "    }\n",
              "\n",
              "    .colab-df-convert:hover {\n",
              "      background-color: #E2EBFA;\n",
              "      box-shadow: 0px 1px 2px rgba(60, 64, 67, 0.3), 0px 1px 3px 1px rgba(60, 64, 67, 0.15);\n",
              "      fill: #174EA6;\n",
              "    }\n",
              "\n",
              "    .colab-df-buttons div {\n",
              "      margin-bottom: 4px;\n",
              "    }\n",
              "\n",
              "    [theme=dark] .colab-df-convert {\n",
              "      background-color: #3B4455;\n",
              "      fill: #D2E3FC;\n",
              "    }\n",
              "\n",
              "    [theme=dark] .colab-df-convert:hover {\n",
              "      background-color: #434B5C;\n",
              "      box-shadow: 0px 1px 3px 1px rgba(0, 0, 0, 0.15);\n",
              "      filter: drop-shadow(0px 1px 2px rgba(0, 0, 0, 0.3));\n",
              "      fill: #FFFFFF;\n",
              "    }\n",
              "  </style>\n",
              "\n",
              "    <script>\n",
              "      const buttonEl =\n",
              "        document.querySelector('#df-01ffa7a7-fb23-43db-8b4b-30f571bbb955 button.colab-df-convert');\n",
              "      buttonEl.style.display =\n",
              "        google.colab.kernel.accessAllowed ? 'block' : 'none';\n",
              "\n",
              "      async function convertToInteractive(key) {\n",
              "        const element = document.querySelector('#df-01ffa7a7-fb23-43db-8b4b-30f571bbb955');\n",
              "        const dataTable =\n",
              "          await google.colab.kernel.invokeFunction('convertToInteractive',\n",
              "                                                    [key], {});\n",
              "        if (!dataTable) return;\n",
              "\n",
              "        const docLinkHtml = 'Like what you see? Visit the ' +\n",
              "          '<a target=\"_blank\" href=https://colab.research.google.com/notebooks/data_table.ipynb>data table notebook</a>'\n",
              "          + ' to learn more about interactive tables.';\n",
              "        element.innerHTML = '';\n",
              "        dataTable['output_type'] = 'display_data';\n",
              "        await google.colab.output.renderOutput(dataTable, element);\n",
              "        const docLink = document.createElement('div');\n",
              "        docLink.innerHTML = docLinkHtml;\n",
              "        element.appendChild(docLink);\n",
              "      }\n",
              "    </script>\n",
              "  </div>\n",
              "\n",
              "\n",
              "    <div id=\"df-075dd1b3-662c-438e-a3e4-04db2900e75b\">\n",
              "      <button class=\"colab-df-quickchart\" onclick=\"quickchart('df-075dd1b3-662c-438e-a3e4-04db2900e75b')\"\n",
              "                title=\"Suggest charts\"\n",
              "                style=\"display:none;\">\n",
              "\n",
              "<svg xmlns=\"http://www.w3.org/2000/svg\" height=\"24px\"viewBox=\"0 0 24 24\"\n",
              "     width=\"24px\">\n",
              "    <g>\n",
              "        <path d=\"M19 3H5c-1.1 0-2 .9-2 2v14c0 1.1.9 2 2 2h14c1.1 0 2-.9 2-2V5c0-1.1-.9-2-2-2zM9 17H7v-7h2v7zm4 0h-2V7h2v10zm4 0h-2v-4h2v4z\"/>\n",
              "    </g>\n",
              "</svg>\n",
              "      </button>\n",
              "\n",
              "<style>\n",
              "  .colab-df-quickchart {\n",
              "      --bg-color: #E8F0FE;\n",
              "      --fill-color: #1967D2;\n",
              "      --hover-bg-color: #E2EBFA;\n",
              "      --hover-fill-color: #174EA6;\n",
              "      --disabled-fill-color: #AAA;\n",
              "      --disabled-bg-color: #DDD;\n",
              "  }\n",
              "\n",
              "  [theme=dark] .colab-df-quickchart {\n",
              "      --bg-color: #3B4455;\n",
              "      --fill-color: #D2E3FC;\n",
              "      --hover-bg-color: #434B5C;\n",
              "      --hover-fill-color: #FFFFFF;\n",
              "      --disabled-bg-color: #3B4455;\n",
              "      --disabled-fill-color: #666;\n",
              "  }\n",
              "\n",
              "  .colab-df-quickchart {\n",
              "    background-color: var(--bg-color);\n",
              "    border: none;\n",
              "    border-radius: 50%;\n",
              "    cursor: pointer;\n",
              "    display: none;\n",
              "    fill: var(--fill-color);\n",
              "    height: 32px;\n",
              "    padding: 0;\n",
              "    width: 32px;\n",
              "  }\n",
              "\n",
              "  .colab-df-quickchart:hover {\n",
              "    background-color: var(--hover-bg-color);\n",
              "    box-shadow: 0 1px 2px rgba(60, 64, 67, 0.3), 0 1px 3px 1px rgba(60, 64, 67, 0.15);\n",
              "    fill: var(--button-hover-fill-color);\n",
              "  }\n",
              "\n",
              "  .colab-df-quickchart-complete:disabled,\n",
              "  .colab-df-quickchart-complete:disabled:hover {\n",
              "    background-color: var(--disabled-bg-color);\n",
              "    fill: var(--disabled-fill-color);\n",
              "    box-shadow: none;\n",
              "  }\n",
              "\n",
              "  .colab-df-spinner {\n",
              "    border: 2px solid var(--fill-color);\n",
              "    border-color: transparent;\n",
              "    border-bottom-color: var(--fill-color);\n",
              "    animation:\n",
              "      spin 1s steps(1) infinite;\n",
              "  }\n",
              "\n",
              "  @keyframes spin {\n",
              "    0% {\n",
              "      border-color: transparent;\n",
              "      border-bottom-color: var(--fill-color);\n",
              "      border-left-color: var(--fill-color);\n",
              "    }\n",
              "    20% {\n",
              "      border-color: transparent;\n",
              "      border-left-color: var(--fill-color);\n",
              "      border-top-color: var(--fill-color);\n",
              "    }\n",
              "    30% {\n",
              "      border-color: transparent;\n",
              "      border-left-color: var(--fill-color);\n",
              "      border-top-color: var(--fill-color);\n",
              "      border-right-color: var(--fill-color);\n",
              "    }\n",
              "    40% {\n",
              "      border-color: transparent;\n",
              "      border-right-color: var(--fill-color);\n",
              "      border-top-color: var(--fill-color);\n",
              "    }\n",
              "    60% {\n",
              "      border-color: transparent;\n",
              "      border-right-color: var(--fill-color);\n",
              "    }\n",
              "    80% {\n",
              "      border-color: transparent;\n",
              "      border-right-color: var(--fill-color);\n",
              "      border-bottom-color: var(--fill-color);\n",
              "    }\n",
              "    90% {\n",
              "      border-color: transparent;\n",
              "      border-bottom-color: var(--fill-color);\n",
              "    }\n",
              "  }\n",
              "</style>\n",
              "\n",
              "      <script>\n",
              "        async function quickchart(key) {\n",
              "          const quickchartButtonEl =\n",
              "            document.querySelector('#' + key + ' button');\n",
              "          quickchartButtonEl.disabled = true;  // To prevent multiple clicks.\n",
              "          quickchartButtonEl.classList.add('colab-df-spinner');\n",
              "          try {\n",
              "            const charts = await google.colab.kernel.invokeFunction(\n",
              "                'suggestCharts', [key], {});\n",
              "          } catch (error) {\n",
              "            console.error('Error during call to suggestCharts:', error);\n",
              "          }\n",
              "          quickchartButtonEl.classList.remove('colab-df-spinner');\n",
              "          quickchartButtonEl.classList.add('colab-df-quickchart-complete');\n",
              "        }\n",
              "        (() => {\n",
              "          let quickchartButtonEl =\n",
              "            document.querySelector('#df-075dd1b3-662c-438e-a3e4-04db2900e75b button');\n",
              "          quickchartButtonEl.style.display =\n",
              "            google.colab.kernel.accessAllowed ? 'block' : 'none';\n",
              "        })();\n",
              "      </script>\n",
              "    </div>\n",
              "\n",
              "  <div id=\"id_68f01851-d6c3-4eb9-9e00-aeb7e4738b85\">\n",
              "    <style>\n",
              "      .colab-df-generate {\n",
              "        background-color: #E8F0FE;\n",
              "        border: none;\n",
              "        border-radius: 50%;\n",
              "        cursor: pointer;\n",
              "        display: none;\n",
              "        fill: #1967D2;\n",
              "        height: 32px;\n",
              "        padding: 0 0 0 0;\n",
              "        width: 32px;\n",
              "      }\n",
              "\n",
              "      .colab-df-generate:hover {\n",
              "        background-color: #E2EBFA;\n",
              "        box-shadow: 0px 1px 2px rgba(60, 64, 67, 0.3), 0px 1px 3px 1px rgba(60, 64, 67, 0.15);\n",
              "        fill: #174EA6;\n",
              "      }\n",
              "\n",
              "      [theme=dark] .colab-df-generate {\n",
              "        background-color: #3B4455;\n",
              "        fill: #D2E3FC;\n",
              "      }\n",
              "\n",
              "      [theme=dark] .colab-df-generate:hover {\n",
              "        background-color: #434B5C;\n",
              "        box-shadow: 0px 1px 3px 1px rgba(0, 0, 0, 0.15);\n",
              "        filter: drop-shadow(0px 1px 2px rgba(0, 0, 0, 0.3));\n",
              "        fill: #FFFFFF;\n",
              "      }\n",
              "    </style>\n",
              "    <button class=\"colab-df-generate\" onclick=\"generateWithVariable('table')\"\n",
              "            title=\"Generate code using this dataframe.\"\n",
              "            style=\"display:none;\">\n",
              "\n",
              "  <svg xmlns=\"http://www.w3.org/2000/svg\" height=\"24px\"viewBox=\"0 0 24 24\"\n",
              "       width=\"24px\">\n",
              "    <path d=\"M7,19H8.4L18.45,9,17,7.55,7,17.6ZM5,21V16.75L18.45,3.32a2,2,0,0,1,2.83,0l1.4,1.43a1.91,1.91,0,0,1,.58,1.4,1.91,1.91,0,0,1-.58,1.4L9.25,21ZM18.45,9,17,7.55Zm-12,3A5.31,5.31,0,0,0,4.9,8.1,5.31,5.31,0,0,0,1,6.5,5.31,5.31,0,0,0,4.9,4.9,5.31,5.31,0,0,0,6.5,1,5.31,5.31,0,0,0,8.1,4.9,5.31,5.31,0,0,0,12,6.5,5.46,5.46,0,0,0,6.5,12Z\"/>\n",
              "  </svg>\n",
              "    </button>\n",
              "    <script>\n",
              "      (() => {\n",
              "      const buttonEl =\n",
              "        document.querySelector('#id_68f01851-d6c3-4eb9-9e00-aeb7e4738b85 button.colab-df-generate');\n",
              "      buttonEl.style.display =\n",
              "        google.colab.kernel.accessAllowed ? 'block' : 'none';\n",
              "\n",
              "      buttonEl.onclick = () => {\n",
              "        google.colab.notebook.generateWithVariable('table');\n",
              "      }\n",
              "      })();\n",
              "    </script>\n",
              "  </div>\n",
              "\n",
              "    </div>\n",
              "  </div>\n"
            ],
            "text/plain": [
              "   Epochs  L2 error\n",
              "0  1000.0  0.020811\n",
              "1  2000.0  0.002941\n",
              "2  4000.0  0.006710\n",
              "3  8000.0  0.000474"
            ]
          },
          "execution_count": 26,
          "metadata": {},
          "output_type": "execute_result"
        }
      ],
      "source": [
        " epochs = [1000,2000,4000,8000]\n",
        "L2_err = []\n",
        "\n",
        "# generate the training set\n",
        "n_train = 20\n",
        "x_train = torch.linspace(0,1,n_train).reshape(-1,1).to(device)\n",
        "\n",
        "# generate the test set\n",
        "n_test = 100\n",
        "x_test = torch.linspace(0,1,n_test).reshape(-1,1).to(device)\n",
        "u_true = u_exact(x_test)\n",
        "\n",
        "for epoch in epochs:\n",
        "    u = train_PINN(x_train,epoch,verbose=False)\n",
        "    u_pred = u(x_test)\n",
        "\n",
        "    L2_err.append(L2_error(u_pred,u_true).detach().cpu().numpy())\n",
        "\n",
        "table = pd.DataFrame(data= np.transpose([epochs, L2_err]),columns=[\"Epochs\",\"L2 error\"])"
      ]
    },
    {
      "cell_type": "code",
      "execution_count": null,
      "id": "6409db76",
      "metadata": {
        "colab": {
          "base_uri": "https://localhost:8080/",
          "height": 174
        },
        "id": "6409db76",
        "outputId": "5728ebf9-3548-46f6-f40b-292fc9ebd807"
      },
      "outputs": [
        {
          "data": {
            "application/vnd.google.colaboratory.intrinsic+json": {
              "summary": "{\n  \"name\": \"table\",\n  \"rows\": 4,\n  \"fields\": [\n    {\n      \"column\": \"Train size\",\n      \"properties\": {\n        \"dtype\": \"number\",\n        \"std\": 61.913918736689034,\n        \"min\": 20.0,\n        \"max\": 160.0,\n        \"num_unique_values\": 4,\n        \"samples\": [\n          40.0,\n          160.0,\n          20.0\n        ],\n        \"semantic_type\": \"\",\n        \"description\": \"\"\n      }\n    },\n    {\n      \"column\": \"L2 error\",\n      \"properties\": {\n        \"dtype\": \"number\",\n        \"std\": 23758651785215.96,\n        \"min\": 0.039327461272478104,\n        \"max\": 47517303570432.0,\n        \"num_unique_values\": 4,\n        \"samples\": [\n          0.13063311576843262,\n          0.06403642892837524,\n          47517303570432.0\n        ],\n        \"semantic_type\": \"\",\n        \"description\": \"\"\n      }\n    }\n  ]\n}",
              "type": "dataframe",
              "variable_name": "table"
            },
            "text/html": [
              "\n",
              "  <div id=\"df-31cb492e-1b39-47e7-b616-4dc75a266bd9\" class=\"colab-df-container\">\n",
              "    <div>\n",
              "<style scoped>\n",
              "    .dataframe tbody tr th:only-of-type {\n",
              "        vertical-align: middle;\n",
              "    }\n",
              "\n",
              "    .dataframe tbody tr th {\n",
              "        vertical-align: top;\n",
              "    }\n",
              "\n",
              "    .dataframe thead th {\n",
              "        text-align: right;\n",
              "    }\n",
              "</style>\n",
              "<table border=\"1\" class=\"dataframe\">\n",
              "  <thead>\n",
              "    <tr style=\"text-align: right;\">\n",
              "      <th></th>\n",
              "      <th>Train size</th>\n",
              "      <th>L2 error</th>\n",
              "    </tr>\n",
              "  </thead>\n",
              "  <tbody>\n",
              "    <tr>\n",
              "      <th>0</th>\n",
              "      <td>20.0</td>\n",
              "      <td>4.751730e+13</td>\n",
              "    </tr>\n",
              "    <tr>\n",
              "      <th>1</th>\n",
              "      <td>40.0</td>\n",
              "      <td>1.306331e-01</td>\n",
              "    </tr>\n",
              "    <tr>\n",
              "      <th>2</th>\n",
              "      <td>80.0</td>\n",
              "      <td>3.932746e-02</td>\n",
              "    </tr>\n",
              "    <tr>\n",
              "      <th>3</th>\n",
              "      <td>160.0</td>\n",
              "      <td>6.403643e-02</td>\n",
              "    </tr>\n",
              "  </tbody>\n",
              "</table>\n",
              "</div>\n",
              "    <div class=\"colab-df-buttons\">\n",
              "\n",
              "  <div class=\"colab-df-container\">\n",
              "    <button class=\"colab-df-convert\" onclick=\"convertToInteractive('df-31cb492e-1b39-47e7-b616-4dc75a266bd9')\"\n",
              "            title=\"Convert this dataframe to an interactive table.\"\n",
              "            style=\"display:none;\">\n",
              "\n",
              "  <svg xmlns=\"http://www.w3.org/2000/svg\" height=\"24px\" viewBox=\"0 -960 960 960\">\n",
              "    <path d=\"M120-120v-720h720v720H120Zm60-500h600v-160H180v160Zm220 220h160v-160H400v160Zm0 220h160v-160H400v160ZM180-400h160v-160H180v160Zm440 0h160v-160H620v160ZM180-180h160v-160H180v160Zm440 0h160v-160H620v160Z\"/>\n",
              "  </svg>\n",
              "    </button>\n",
              "\n",
              "  <style>\n",
              "    .colab-df-container {\n",
              "      display:flex;\n",
              "      gap: 12px;\n",
              "    }\n",
              "\n",
              "    .colab-df-convert {\n",
              "      background-color: #E8F0FE;\n",
              "      border: none;\n",
              "      border-radius: 50%;\n",
              "      cursor: pointer;\n",
              "      display: none;\n",
              "      fill: #1967D2;\n",
              "      height: 32px;\n",
              "      padding: 0 0 0 0;\n",
              "      width: 32px;\n",
              "    }\n",
              "\n",
              "    .colab-df-convert:hover {\n",
              "      background-color: #E2EBFA;\n",
              "      box-shadow: 0px 1px 2px rgba(60, 64, 67, 0.3), 0px 1px 3px 1px rgba(60, 64, 67, 0.15);\n",
              "      fill: #174EA6;\n",
              "    }\n",
              "\n",
              "    .colab-df-buttons div {\n",
              "      margin-bottom: 4px;\n",
              "    }\n",
              "\n",
              "    [theme=dark] .colab-df-convert {\n",
              "      background-color: #3B4455;\n",
              "      fill: #D2E3FC;\n",
              "    }\n",
              "\n",
              "    [theme=dark] .colab-df-convert:hover {\n",
              "      background-color: #434B5C;\n",
              "      box-shadow: 0px 1px 3px 1px rgba(0, 0, 0, 0.15);\n",
              "      filter: drop-shadow(0px 1px 2px rgba(0, 0, 0, 0.3));\n",
              "      fill: #FFFFFF;\n",
              "    }\n",
              "  </style>\n",
              "\n",
              "    <script>\n",
              "      const buttonEl =\n",
              "        document.querySelector('#df-31cb492e-1b39-47e7-b616-4dc75a266bd9 button.colab-df-convert');\n",
              "      buttonEl.style.display =\n",
              "        google.colab.kernel.accessAllowed ? 'block' : 'none';\n",
              "\n",
              "      async function convertToInteractive(key) {\n",
              "        const element = document.querySelector('#df-31cb492e-1b39-47e7-b616-4dc75a266bd9');\n",
              "        const dataTable =\n",
              "          await google.colab.kernel.invokeFunction('convertToInteractive',\n",
              "                                                    [key], {});\n",
              "        if (!dataTable) return;\n",
              "\n",
              "        const docLinkHtml = 'Like what you see? Visit the ' +\n",
              "          '<a target=\"_blank\" href=https://colab.research.google.com/notebooks/data_table.ipynb>data table notebook</a>'\n",
              "          + ' to learn more about interactive tables.';\n",
              "        element.innerHTML = '';\n",
              "        dataTable['output_type'] = 'display_data';\n",
              "        await google.colab.output.renderOutput(dataTable, element);\n",
              "        const docLink = document.createElement('div');\n",
              "        docLink.innerHTML = docLinkHtml;\n",
              "        element.appendChild(docLink);\n",
              "      }\n",
              "    </script>\n",
              "  </div>\n",
              "\n",
              "\n",
              "    <div id=\"df-42c1d689-4a73-4099-945a-7d3475699a3b\">\n",
              "      <button class=\"colab-df-quickchart\" onclick=\"quickchart('df-42c1d689-4a73-4099-945a-7d3475699a3b')\"\n",
              "                title=\"Suggest charts\"\n",
              "                style=\"display:none;\">\n",
              "\n",
              "<svg xmlns=\"http://www.w3.org/2000/svg\" height=\"24px\"viewBox=\"0 0 24 24\"\n",
              "     width=\"24px\">\n",
              "    <g>\n",
              "        <path d=\"M19 3H5c-1.1 0-2 .9-2 2v14c0 1.1.9 2 2 2h14c1.1 0 2-.9 2-2V5c0-1.1-.9-2-2-2zM9 17H7v-7h2v7zm4 0h-2V7h2v10zm4 0h-2v-4h2v4z\"/>\n",
              "    </g>\n",
              "</svg>\n",
              "      </button>\n",
              "\n",
              "<style>\n",
              "  .colab-df-quickchart {\n",
              "      --bg-color: #E8F0FE;\n",
              "      --fill-color: #1967D2;\n",
              "      --hover-bg-color: #E2EBFA;\n",
              "      --hover-fill-color: #174EA6;\n",
              "      --disabled-fill-color: #AAA;\n",
              "      --disabled-bg-color: #DDD;\n",
              "  }\n",
              "\n",
              "  [theme=dark] .colab-df-quickchart {\n",
              "      --bg-color: #3B4455;\n",
              "      --fill-color: #D2E3FC;\n",
              "      --hover-bg-color: #434B5C;\n",
              "      --hover-fill-color: #FFFFFF;\n",
              "      --disabled-bg-color: #3B4455;\n",
              "      --disabled-fill-color: #666;\n",
              "  }\n",
              "\n",
              "  .colab-df-quickchart {\n",
              "    background-color: var(--bg-color);\n",
              "    border: none;\n",
              "    border-radius: 50%;\n",
              "    cursor: pointer;\n",
              "    display: none;\n",
              "    fill: var(--fill-color);\n",
              "    height: 32px;\n",
              "    padding: 0;\n",
              "    width: 32px;\n",
              "  }\n",
              "\n",
              "  .colab-df-quickchart:hover {\n",
              "    background-color: var(--hover-bg-color);\n",
              "    box-shadow: 0 1px 2px rgba(60, 64, 67, 0.3), 0 1px 3px 1px rgba(60, 64, 67, 0.15);\n",
              "    fill: var(--button-hover-fill-color);\n",
              "  }\n",
              "\n",
              "  .colab-df-quickchart-complete:disabled,\n",
              "  .colab-df-quickchart-complete:disabled:hover {\n",
              "    background-color: var(--disabled-bg-color);\n",
              "    fill: var(--disabled-fill-color);\n",
              "    box-shadow: none;\n",
              "  }\n",
              "\n",
              "  .colab-df-spinner {\n",
              "    border: 2px solid var(--fill-color);\n",
              "    border-color: transparent;\n",
              "    border-bottom-color: var(--fill-color);\n",
              "    animation:\n",
              "      spin 1s steps(1) infinite;\n",
              "  }\n",
              "\n",
              "  @keyframes spin {\n",
              "    0% {\n",
              "      border-color: transparent;\n",
              "      border-bottom-color: var(--fill-color);\n",
              "      border-left-color: var(--fill-color);\n",
              "    }\n",
              "    20% {\n",
              "      border-color: transparent;\n",
              "      border-left-color: var(--fill-color);\n",
              "      border-top-color: var(--fill-color);\n",
              "    }\n",
              "    30% {\n",
              "      border-color: transparent;\n",
              "      border-left-color: var(--fill-color);\n",
              "      border-top-color: var(--fill-color);\n",
              "      border-right-color: var(--fill-color);\n",
              "    }\n",
              "    40% {\n",
              "      border-color: transparent;\n",
              "      border-right-color: var(--fill-color);\n",
              "      border-top-color: var(--fill-color);\n",
              "    }\n",
              "    60% {\n",
              "      border-color: transparent;\n",
              "      border-right-color: var(--fill-color);\n",
              "    }\n",
              "    80% {\n",
              "      border-color: transparent;\n",
              "      border-right-color: var(--fill-color);\n",
              "      border-bottom-color: var(--fill-color);\n",
              "    }\n",
              "    90% {\n",
              "      border-color: transparent;\n",
              "      border-bottom-color: var(--fill-color);\n",
              "    }\n",
              "  }\n",
              "</style>\n",
              "\n",
              "      <script>\n",
              "        async function quickchart(key) {\n",
              "          const quickchartButtonEl =\n",
              "            document.querySelector('#' + key + ' button');\n",
              "          quickchartButtonEl.disabled = true;  // To prevent multiple clicks.\n",
              "          quickchartButtonEl.classList.add('colab-df-spinner');\n",
              "          try {\n",
              "            const charts = await google.colab.kernel.invokeFunction(\n",
              "                'suggestCharts', [key], {});\n",
              "          } catch (error) {\n",
              "            console.error('Error during call to suggestCharts:', error);\n",
              "          }\n",
              "          quickchartButtonEl.classList.remove('colab-df-spinner');\n",
              "          quickchartButtonEl.classList.add('colab-df-quickchart-complete');\n",
              "        }\n",
              "        (() => {\n",
              "          let quickchartButtonEl =\n",
              "            document.querySelector('#df-42c1d689-4a73-4099-945a-7d3475699a3b button');\n",
              "          quickchartButtonEl.style.display =\n",
              "            google.colab.kernel.accessAllowed ? 'block' : 'none';\n",
              "        })();\n",
              "      </script>\n",
              "    </div>\n",
              "\n",
              "  <div id=\"id_996be06d-ac55-464b-946c-fce1346c8e9f\">\n",
              "    <style>\n",
              "      .colab-df-generate {\n",
              "        background-color: #E8F0FE;\n",
              "        border: none;\n",
              "        border-radius: 50%;\n",
              "        cursor: pointer;\n",
              "        display: none;\n",
              "        fill: #1967D2;\n",
              "        height: 32px;\n",
              "        padding: 0 0 0 0;\n",
              "        width: 32px;\n",
              "      }\n",
              "\n",
              "      .colab-df-generate:hover {\n",
              "        background-color: #E2EBFA;\n",
              "        box-shadow: 0px 1px 2px rgba(60, 64, 67, 0.3), 0px 1px 3px 1px rgba(60, 64, 67, 0.15);\n",
              "        fill: #174EA6;\n",
              "      }\n",
              "\n",
              "      [theme=dark] .colab-df-generate {\n",
              "        background-color: #3B4455;\n",
              "        fill: #D2E3FC;\n",
              "      }\n",
              "\n",
              "      [theme=dark] .colab-df-generate:hover {\n",
              "        background-color: #434B5C;\n",
              "        box-shadow: 0px 1px 3px 1px rgba(0, 0, 0, 0.15);\n",
              "        filter: drop-shadow(0px 1px 2px rgba(0, 0, 0, 0.3));\n",
              "        fill: #FFFFFF;\n",
              "      }\n",
              "    </style>\n",
              "    <button class=\"colab-df-generate\" onclick=\"generateWithVariable('table')\"\n",
              "            title=\"Generate code using this dataframe.\"\n",
              "            style=\"display:none;\">\n",
              "\n",
              "  <svg xmlns=\"http://www.w3.org/2000/svg\" height=\"24px\"viewBox=\"0 0 24 24\"\n",
              "       width=\"24px\">\n",
              "    <path d=\"M7,19H8.4L18.45,9,17,7.55,7,17.6ZM5,21V16.75L18.45,3.32a2,2,0,0,1,2.83,0l1.4,1.43a1.91,1.91,0,0,1,.58,1.4,1.91,1.91,0,0,1-.58,1.4L9.25,21ZM18.45,9,17,7.55Zm-12,3A5.31,5.31,0,0,0,4.9,8.1,5.31,5.31,0,0,0,1,6.5,5.31,5.31,0,0,0,4.9,4.9,5.31,5.31,0,0,0,6.5,1,5.31,5.31,0,0,0,8.1,4.9,5.31,5.31,0,0,0,12,6.5,5.46,5.46,0,0,0,6.5,12Z\"/>\n",
              "  </svg>\n",
              "    </button>\n",
              "    <script>\n",
              "      (() => {\n",
              "      const buttonEl =\n",
              "        document.querySelector('#id_996be06d-ac55-464b-946c-fce1346c8e9f button.colab-df-generate');\n",
              "      buttonEl.style.display =\n",
              "        google.colab.kernel.accessAllowed ? 'block' : 'none';\n",
              "\n",
              "      buttonEl.onclick = () => {\n",
              "        google.colab.notebook.generateWithVariable('table');\n",
              "      }\n",
              "      })();\n",
              "    </script>\n",
              "  </div>\n",
              "\n",
              "    </div>\n",
              "  </div>\n"
            ],
            "text/plain": [
              "   Train size      L2 error\n",
              "0        20.0  4.751730e+13\n",
              "1        40.0  1.306331e-01\n",
              "2        80.0  3.932746e-02\n",
              "3       160.0  6.403643e-02"
            ]
          },
          "execution_count": 27,
          "metadata": {},
          "output_type": "execute_result"
        }
      ],
      "source": [
        "train_size = [20,40,80,160]\n",
        "L2_err = []\n",
        "num_epochs = 5000\n",
        "\n",
        "# generate the test set\n",
        "n_test = 1000\n",
        "x_test = torch.linspace(0,1,n_test).reshape(-1,1).to(device)\n",
        "u_true = u_exact(x_test)\n",
        "\n",
        "for n_train in train_size:\n",
        "    # generate the training set\n",
        "    x_train = torch.linspace(0,1,n_train).reshape(-1,1).to(device)\n",
        "\n",
        "    u = train_PINN(x_train,num_epochs,verbose=False)\n",
        "    u_pred = u(x_test)\n",
        "\n",
        "    L2_err.append(L2_error(u_pred,u_true).detach().cpu().numpy())\n",
        "\n",
        "table = pd.DataFrame(data= np.transpose([train_size, L2_err]),columns=[\"Train size\",\"L2 error\"])\n",
        "table"
      ]
    },
    {
      "cell_type": "markdown",
      "id": "29ec4d32",
      "metadata": {
        "id": "29ec4d32"
      },
      "source": [
        "### Convergence Study for $m=2$"
      ]
    },
    {
      "cell_type": "code",
      "execution_count": null,
      "id": "d1c1b699",
      "metadata": {
        "id": "d1c1b699"
      },
      "outputs": [],
      "source": [
        "epochs = [1000,2000,4000,8000]\n",
        "L2_err = []\n",
        "m=2\n",
        "# generate the training set\n",
        "n_train = 20\n",
        "x_train = torch.linspace(0,1,n_train).reshape(-1,1).to(device)\n",
        "\n",
        "# generate the test set\n",
        "n_test = 100\n",
        "x_test = torch.linspace(0,1,n_test).reshape(-1,1).to(device)\n",
        "u_true = u_exact(x_test,m)\n",
        "\n",
        "for epoch in epochs:\n",
        "    u = train_PINN(x_train=x_train,num_epochs=epoch,m=m,verbose=False)\n",
        "    u_pred = u(x_test)\n",
        "\n",
        "    L2_err.append(L2_error(u_pred,u_true).detach().cpu().numpy())\n",
        "\n",
        "table = pd.DataFrame(data= np.transpose([epochs, L2_err]),columns=[\"Epochs\",\"L2 error\"])\n",
        "table"
      ]
    },
    {
      "cell_type": "code",
      "execution_count": null,
      "id": "0a637714",
      "metadata": {
        "id": "0a637714"
      },
      "outputs": [],
      "source": [
        "train_size =  [20,40,80,160]\n",
        "L2_err = []\n",
        "num_epochs = 5000\n",
        "m=2\n",
        "\n",
        "# generate the test set\n",
        "n_test = 1000\n",
        "x_test = torch.linspace(0,1,n_test).reshape(-1,1).to(device)\n",
        "u_true = u_exact(x_test,m)\n",
        "\n",
        "for n_train in train_size:\n",
        "    # generate the training set\n",
        "    x_train = torch.linspace(0,1,n_train).reshape(-1,1).to(device)\n",
        "\n",
        "    u = train_PINN(x_train=x_train,num_epochs=num_epochs,m=m,verbose=False)\n",
        "    u_pred = u(x_test)\n",
        "\n",
        "    L2_err.append(L2_error(u_pred,u_true).detach().cpu().numpy())\n",
        "\n",
        "table = pd.DataFrame(data= np.transpose([train_size, L2_err]),columns=[\"Train size\",\"L2 error\"])\n",
        "table"
      ]
    },
    {
      "cell_type": "code",
      "execution_count": null,
      "id": "0a9dd213",
      "metadata": {
        "id": "0a9dd213"
      },
      "outputs": [],
      "source": [
        "x_train.requires_grad_(False)\n",
        "x_train = x_train.detach().cpu().numpy()\n",
        "x_test = x_test.detach().cpu().numpy()\n",
        "u_pred = u_pred.detach().cpu().numpy()\n",
        "u_true = u_true.detach().cpu().numpy()"
      ]
    },
    {
      "cell_type": "code",
      "execution_count": null,
      "id": "50a97683",
      "metadata": {
        "id": "50a97683"
      },
      "outputs": [],
      "source": [
        "plt.plot(x_test,u_true,label = \"Exact Solution\",linestyle=\"-\",color = \"red\",linewidth = 1.75)\n",
        "plt.plot(x_test,u_pred,label = \"Predicted Solution\",linestyle=\"--\",linewidth = 2.5,color = \"black\")\n",
        "plt.plot(x_train,np.zeros_like(x_train),label=\"Collocation Points\",linestyle = \"None\", marker = \"o\",markersize  =5)\n",
        "plt.xlabel(\"x\")\n",
        "plt.legend()\n",
        "plt.show()"
      ]
    },
    {
      "cell_type": "markdown",
      "id": "16e7ce18",
      "metadata": {
        "id": "16e7ce18"
      },
      "source": [
        "### Convergence Study for $m=4$"
      ]
    },
    {
      "cell_type": "code",
      "execution_count": null,
      "id": "106ce1ca",
      "metadata": {
        "id": "106ce1ca"
      },
      "outputs": [],
      "source": [
        "epochs = [4000,8000,16000,32000]\n",
        "L2_err = []\n",
        "m=4\n",
        "# generate the training set\n",
        "n_train = 20\n",
        "x_train = torch.linspace(0,1,n_train).reshape(-1,1).to(device)\n",
        "\n",
        "# generate the test set\n",
        "n_test = 100\n",
        "x_test = torch.linspace(0,1,n_test).reshape(-1,1).to(device)\n",
        "u_true = u_exact(x_test,m)\n",
        "\n",
        "for epoch in epochs:\n",
        "    u = train_PINN(x_train=x_train,num_epochs=epoch,m=m,verbose=False)\n",
        "    u_pred = u(x_test)\n",
        "\n",
        "    L2_err.append(L2_error(u_pred,u_true).detach().cpu().numpy())\n",
        "\n",
        "table = pd.DataFrame(data= np.transpose([epochs, L2_err]),columns=[\"Epochs\",\"L2 error\"])\n",
        "table"
      ]
    },
    {
      "cell_type": "code",
      "execution_count": null,
      "id": "8d09ec03",
      "metadata": {
        "id": "8d09ec03"
      },
      "outputs": [],
      "source": [
        "train_size =  [20,40,80,160]\n",
        "L2_err = []\n",
        "num_epochs = 10000\n",
        "m=4\n",
        "\n",
        "# generate the test set\n",
        "n_test = 1000\n",
        "x_test = torch.linspace(0,1,n_test).reshape(-1,1).to(device)\n",
        "u_true = u_exact(x_test,m)\n",
        "\n",
        "for n_train in train_size:\n",
        "    # generate the training set\n",
        "    x_train = torch.linspace(0,1,n_train).reshape(-1,1).to(device)\n",
        "\n",
        "    u = train_PINN(x_train=x_train,num_epochs=num_epochs,m=m,verbose=False)\n",
        "    u_pred = u(x_test)\n",
        "\n",
        "    L2_err.append(L2_error(u_pred,u_true).detach().cpu().numpy())\n",
        "\n",
        "table = pd.DataFrame(data= np.transpose([train_size, L2_err]),columns=[\"Train size\",\"L2 error\"])\n",
        "table"
      ]
    },
    {
      "cell_type": "code",
      "execution_count": null,
      "id": "d337ec60",
      "metadata": {
        "id": "d337ec60"
      },
      "outputs": [],
      "source": [
        "x_train.requires_grad_(False)\n",
        "x_train = x_train.detach().cpu().numpy()\n",
        "x_test = x_test.detach().cpu().numpy()\n",
        "u_pred = u_pred.detach().cpu().numpy()\n",
        "u_true = u_true.detach().cpu().numpy()"
      ]
    },
    {
      "cell_type": "code",
      "execution_count": null,
      "id": "97af21c4",
      "metadata": {
        "id": "97af21c4"
      },
      "outputs": [],
      "source": [
        "plt.plot(x_test,u_true,label = \"Exact Solution\",linestyle=\"-\",color = \"red\",linewidth = 1.75)\n",
        "plt.plot(x_test,u_pred,label = \"Predicted Solution\",linestyle=\"--\",linewidth = 2.5,color = \"black\")\n",
        "plt.plot(x_train,np.zeros_like(x_train),label=\"Collocation Points\",linestyle = \"None\", marker = \"o\",markersize  =5)\n",
        "plt.xlabel(\"x\")\n",
        "plt.legend()\n",
        "plt.show()"
      ]
    },
    {
      "cell_type": "markdown",
      "id": "7eeebfd2",
      "metadata": {
        "id": "7eeebfd2"
      },
      "source": [
        "Approximating highly oscillatory solutions using PINNs is challenging. As demonstrated above, an increase in the parameter $m$ correlates with an increased number of epochs required to achieve a desired accuracy. This difficulty can be mitigated by increasing either the number of collocation points or the number of hidden layers in the neural network."
      ]
    },
    {
      "cell_type": "markdown",
      "id": "637408ab",
      "metadata": {
        "id": "637408ab"
      },
      "source": [
        "## 2D Problem"
      ]
    },
    {
      "cell_type": "markdown",
      "id": "d569286d",
      "metadata": {
        "id": "d569286d"
      },
      "source": [
        "Consider the following two-dimensional problem\n",
        "$$\n",
        "\\begin{align*}\n",
        "    -\\Delta u +u &= (m^2\\pi^2+n^2\\pi^2+1)\\sin(m\\pi x)\\sin(n\\pi y),\\hspace{10pt}\\text{ in }(0,1)\\\\\n",
        "    u(0)&=u(1)=0\n",
        "\\end{align*}\n",
        "$$\n",
        "\n",
        "The exact solution is given by $u_{mn} = \\sin(m\\pi x)\\sin(n \\pi y)$."
      ]
    },
    {
      "cell_type": "code",
      "execution_count": null,
      "id": "92e2e0c7",
      "metadata": {
        "id": "92e2e0c7"
      },
      "outputs": [],
      "source": [
        "# RHS\n",
        "def f(x,m=1,n=1):\n",
        "    return (m**2*pi**2+n**2*pi**2+1)*sin(m*pi*x[0])*sin(n*pi*x[1])\n",
        "\n",
        "# Exact Solution\n",
        "def u_exact(x,m=1,n=1):\n",
        "    return sin(m*pi*x[0])*sin(n*pi*x[1])"
      ]
    },
    {
      "cell_type": "markdown",
      "id": "120d8c33",
      "metadata": {
        "id": "120d8c33"
      },
      "source": [
        "### Creating PINN"
      ]
    },
    {
      "cell_type": "code",
      "execution_count": null,
      "id": "59eb464c",
      "metadata": {
        "id": "59eb464c"
      },
      "outputs": [],
      "source": [
        "# building PINN neural network using nn.Module class\n",
        "class PINN(nn.Module):\n",
        "    def __init__(self):\n",
        "        super(PINN, self).__init__()\n",
        "        self.net = nn.Sequential(\n",
        "            nn.Linear(2, 512),          # here 2 describes that we are working in 2D\n",
        "            nn.Tanh(),\n",
        "            nn.Linear(256, 128),\n",
        "            nn.Tanh(),\n",
        "            nn.Linear(128, 64),\n",
        "            nn.Tanh(),\n",
        "            nn.Linear(64, 1),\n",
        "        )\n",
        "\n",
        "    def forward(self, x):\n",
        "        return self.net(x)\n",
        "\n",
        "# incorporating automatic differentiation\n",
        "def grad(outputs, inputs):\n",
        "    return torch.autograd.grad(outputs, inputs, grad_outputs=torch.ones_like(outputs),create_graph=True,retain_graph=True)[0]"
      ]
    },
    {
      "cell_type": "markdown",
      "id": "e1f699cb",
      "metadata": {
        "id": "e1f699cb"
      },
      "source": [
        "### Loss function"
      ]
    },
    {
      "cell_type": "markdown",
      "id": "bccf1323",
      "metadata": {
        "id": "bccf1323"
      },
      "source": [
        "Here, since the boundary is 1D we sample ennough points on the boundary to impose the boundary conditions into the loss function. That is, $MSE_b$ takes the form\n",
        "$$\n",
        "\\begin{align*}\n",
        "    MSE_b =\\frac{1}{N_b}\\sum_{k=1}^{N_b} |u(x_k)|^2\n",
        "\\end{align*}\n",
        "$$\n",
        "\n",
        "and $MSE_i$ has the same form except that the points are in 2D."
      ]
    },
    {
      "cell_type": "code",
      "execution_count": null,
      "id": "4b38e3c2",
      "metadata": {
        "id": "4b38e3c2"
      },
      "outputs": [],
      "source": [
        "def compute_loss(model: nn.Module, x_train_i: torch.Tensor,x_train_b:torch.Tensor,m=1,n=1):\n",
        "    # evaluating u(x), f(x), du/dx, d^2u/dx^2 at training data points\n",
        "    x_train = torch.cat([x_train_i,x_train_b])\n",
        "    x_train.requires_grad_(True)\n",
        "    u = model(x_train)\n",
        "    u.requires_grad_(True)\n",
        "    du = grad(u,x_train)\n",
        "    du.requires_grad_(True)\n",
        "\n",
        "    du_dx = du[:, 0].view(-1, 1)                          # du/dx component\n",
        "    du_dy = du[:, 1].view(-1, 1)                          # du/dy component\n",
        "\n",
        "    # calculating second derivatives: d^2u/dx^2 and d^2u/dy^2\n",
        "    d2u_dx2 = grad(du_dx, x_train)[:, 0].view(-1, 1)      # Take x component again\n",
        "    d2u_dy2 = grad(du_dy, x_train)[:, 1].view(-1, 1)      # Take y component again\n",
        "\n",
        "    # computin the second derivative by taking the gradient of du with respect to the corresponding component of x_train\n",
        "    d2u_dx2 = grad(du[:, 0], x_train)[:, 0].view(-1, 1)\n",
        "    d2u_dy2 = grad(du[:, 1], x_train)[:, 1].view(-1, 1)\n",
        "    d2u = d2u_dx2 + d2u_dy2\n",
        "\n",
        "    # calculating interior loss for problem\n",
        "    residual_i = -d2u[:len(x_train_i),0]  + u[:len(x_train_i),0] - f(x_train_i.T,m,n)        # PDE-based interior residual\n",
        "    interior_loss = torch.mean(residual_i**2)                                                # mean-squared interior loss\n",
        "\n",
        "    # calculating boundary loss for problem\n",
        "    residual_b = u[len(x_train_i):,0]\n",
        "    boundary_loss = torch.mean(residual_b**2)                                                 # mean-squared boundary loss\n",
        "\n",
        "    return interior_loss + boundary_loss"
      ]
    },
    {
      "cell_type": "markdown",
      "id": "f0dca3e5",
      "metadata": {
        "id": "f0dca3e5"
      },
      "source": [
        "### Generating Training and test dataset"
      ]
    },
    {
      "cell_type": "code",
      "execution_count": null,
      "id": "ec5be84e",
      "metadata": {
        "id": "ec5be84e"
      },
      "outputs": [],
      "source": [
        "# generating interior points on the square\n",
        "def generate_collocation_points(N_i):\n",
        "    xx = torch.linspace(0,1,N_i+2)[1:-1]\n",
        "    yy = torch.linspace(0,1,N_i+2)[1:-1]\n",
        "    x = []\n",
        "    for i in range(len(xx)):\n",
        "        for j in range(len(yy)):\n",
        "            x.append([xx[i],yy[j]])\n",
        "    return torch.tensor(x, dtype=torch.float32)\n",
        "\n",
        "# generating boundary points\n",
        "def generate_boundary_points(N_b):\n",
        "    ref = torch.linspace(0,1,N_b+2)[1:-1]\n",
        "    x = []\n",
        "    for i in range(len(ref)):\n",
        "        x.append([ref[i],0])\n",
        "        x.append([ref[i],1])\n",
        "        x.append([0,ref[i]])\n",
        "        x.append([1,ref[i]])\n",
        "    x.append([0,0])\n",
        "    x.append([1,0])\n",
        "    x.append([0,1])\n",
        "    x.append([1,1])\n",
        "    return torch.tensor(x, dtype=torch.float32)"
      ]
    },
    {
      "cell_type": "markdown",
      "id": "50a40406",
      "metadata": {
        "id": "50a40406"
      },
      "source": [
        "The number of collocation points in the interior of square is $N_i^2$ and the number of boundary points are $4(N_b+1)$, where $N_i$ and $N_b$ are the inputs of `generate_collocation_points` and `generate_boundary_points` respectively."
      ]
    },
    {
      "cell_type": "code",
      "execution_count": null,
      "id": "5352f19a",
      "metadata": {
        "id": "5352f19a"
      },
      "outputs": [],
      "source": [
        "# interior points\n",
        "N_i = 30\n",
        "x_train_i = generate_collocation_points(N_i).to(device)\n",
        "x_train_i.shape"
      ]
    },
    {
      "cell_type": "code",
      "execution_count": null,
      "id": "5d2cef8c",
      "metadata": {
        "id": "5d2cef8c"
      },
      "outputs": [],
      "source": [
        "# boundary points\n",
        "N_b = 14\n",
        "x_train_b = generate_boundary_points(N_b).to(device)\n",
        "x_train_b.shape"
      ]
    },
    {
      "cell_type": "code",
      "execution_count": null,
      "id": "7d6dc637",
      "metadata": {
        "id": "7d6dc637"
      },
      "outputs": [],
      "source": [
        "# generating uniformly spaced points for test set on the closed square\n",
        "def generate_test(N):\n",
        "    xx = torch.linspace(0,1,N)\n",
        "    yy = torch.linspace(0,1,N)\n",
        "    x = []\n",
        "    for i in range(len(xx)):\n",
        "        for j in range(len(yy)):\n",
        "            x.append([xx[i],yy[j]])\n",
        "    return torch.tensor(x, dtype=torch.float32)"
      ]
    },
    {
      "cell_type": "markdown",
      "id": "56275a54",
      "metadata": {
        "id": "56275a54"
      },
      "source": [
        "The test set consists of uniformly spaced points in $[0,1]$."
      ]
    },
    {
      "cell_type": "code",
      "execution_count": null,
      "id": "e0e6cc4a",
      "metadata": {
        "id": "e0e6cc4a"
      },
      "outputs": [],
      "source": [
        "N = 35\n",
        "x_test = generate_test(N).to(device)\n",
        "x_test.shape"
      ]
    },
    {
      "cell_type": "code",
      "execution_count": null,
      "id": "832fbe31",
      "metadata": {
        "id": "832fbe31"
      },
      "outputs": [],
      "source": [
        "u_true = u_exact(x_test.T)\n",
        "u_true.shape"
      ]
    },
    {
      "cell_type": "markdown",
      "id": "7d31997a",
      "metadata": {
        "id": "7d31997a"
      },
      "source": [
        "### Training and predicting using PINN"
      ]
    },
    {
      "cell_type": "markdown",
      "id": "ce1bef9e",
      "metadata": {
        "id": "ce1bef9e"
      },
      "source": [
        "Here, LBFGS optimizer with learning rate 0.001 is used to minimize the loss function described above. 5% of the train set is used for validating the output of training process."
      ]
    },
    {
      "cell_type": "code",
      "execution_count": null,
      "id": "db8aeddf",
      "metadata": {
        "id": "db8aeddf"
      },
      "outputs": [],
      "source": [
        "# defining a function to train PINN\n",
        "def train_PINN(x_train_i,x_train_b,num_epochs,m=1,n=1,verbose = True, create_graph = True):\n",
        "    model = PINN().to(device)\n",
        "    optimizer = torch.optim.LBFGS(model.parameters(), lr=0.001)\n",
        "\n",
        "    # initializing arrays for storing training and validation loss\n",
        "    train_losses = []\n",
        "    val_losses = []\n",
        "\n",
        "    N_i_val = int(0.05*len(x_train_i))\n",
        "    N_b_val = int(0.05*len(x_train_b))\n",
        "\n",
        "    N_i_train = len(x_train_i) - N_i_val\n",
        "    N_b_train = len(x_train_b) - N_b_val\n",
        "\n",
        "    # splitting into training and validation\n",
        "    x_training_i , x_validation_i = random_split(TensorDataset(x_train_i) , [N_i_train,N_i_val])\n",
        "    x_training_b , x_validation_b = random_split(TensorDataset(x_train_b) , [N_b_train,N_b_val])\n",
        "\n",
        "    x_training_i = x_training_i.dataset.tensors[0][x_training_i.indices].to(device)\n",
        "    x_validation_i = x_validation_i.dataset.tensors[0][x_validation_i.indices].to(device)\n",
        "\n",
        "    x_training_b = x_training_b.dataset.tensors[0][x_training_b.indices].to(device)\n",
        "    x_validation_b = x_validation_b.dataset.tensors[0][x_validation_b.indices].to(device)\n",
        "\n",
        "\n",
        "    # defining the closure function\n",
        "    def closure():\n",
        "        optimizer.zero_grad()\n",
        "        loss = compute_loss(model, x_training_i, x_training_b, m, n)\n",
        "        loss.backward()\n",
        "        return loss\n",
        "\n",
        "    for epoch in range(num_epochs):\n",
        "        model.train()                                                         # Set model to training mode\n",
        "        train_loss = optimizer.step(closure)\n",
        "\n",
        "        model.eval()                                                          # Set model to evaluation mode\n",
        "        val_loss = compute_loss(model, x_validation_i, x_validation_b, m, n)\n",
        "\n",
        "        if epoch % 10 == 0:\n",
        "            train_losses.append(train_loss.item())\n",
        "            val_losses.append(val_loss.item())\n",
        "\n",
        "        if epoch % 200 == 0 and verbose ==True:\n",
        "            print(f\"Full Training Epoch {epoch}, Training Loss: {train_loss.item():.6f}, Validation Loss: {val_loss.item():.6f}\")\n",
        "\n",
        "    # creating loss curves with epochs\n",
        "    if create_graph == True:\n",
        "        plt.plot(train_losses, label = \"Training Loss\")\n",
        "        plt.plot(val_losses, label = \"Validation Loss\")\n",
        "        plt.xlabel(\"Epoch\")\n",
        "        plt.ylabel(\"Loss\")\n",
        "        plt.xticks(ticks=range(0, len(train_losses) + 1, 100),labels = range(0, 10*len(train_losses) + 1, 1000))\n",
        "        plt.title(\"Loss Curves\")\n",
        "        plt.legend()\n",
        "        plt.grid(True)\n",
        "        plt.show()\n",
        "    return model"
      ]
    },
    {
      "cell_type": "code",
      "execution_count": null,
      "id": "1d5df6e0",
      "metadata": {
        "id": "1d5df6e0"
      },
      "outputs": [],
      "source": [
        "num_epochs = 2000\n",
        "u = train_PINN(x_train_i,x_train_b,num_epochs)"
      ]
    },
    {
      "cell_type": "code",
      "execution_count": null,
      "id": "26224d1e",
      "metadata": {
        "id": "26224d1e"
      },
      "outputs": [],
      "source": [
        "# Predicting using obtained u\n",
        "u_pred = u(x_test)[:,0].to(device)\n",
        "u_pred.shape"
      ]
    },
    {
      "cell_type": "code",
      "execution_count": null,
      "id": "f93945da",
      "metadata": {
        "id": "f93945da"
      },
      "outputs": [],
      "source": [
        "u_pred.shape == u_true.shape"
      ]
    },
    {
      "cell_type": "markdown",
      "id": "1d5d6b31",
      "metadata": {
        "id": "1d5d6b31"
      },
      "source": [
        "### Calculating $L^2$ error of the solution"
      ]
    },
    {
      "cell_type": "code",
      "execution_count": null,
      "id": "af535dd3",
      "metadata": {
        "id": "af535dd3"
      },
      "outputs": [],
      "source": [
        "def L2_error(u_pred,u_true):\n",
        "    return torch.sum((u_true - u_pred)**2)"
      ]
    },
    {
      "cell_type": "code",
      "execution_count": null,
      "id": "f200f410",
      "metadata": {
        "id": "f200f410"
      },
      "outputs": [],
      "source": [
        "error = L2_error(u_pred,u_true)\n",
        "print(f\"L2_error of approximation: {error}\")"
      ]
    },
    {
      "cell_type": "markdown",
      "id": "5f61dc4e",
      "metadata": {
        "id": "5f61dc4e"
      },
      "source": [
        "### Plotting the solution"
      ]
    },
    {
      "cell_type": "code",
      "execution_count": null,
      "id": "471c81d3",
      "metadata": {
        "id": "471c81d3"
      },
      "outputs": [],
      "source": [
        "x_train_i.requires_grad_(False)\n",
        "x_test = x_test.detach().cpu().numpy()\n",
        "u_pred = u_pred.detach().cpu().numpy()\n",
        "u_true = u_true.detach().cpu().numpy()"
      ]
    },
    {
      "cell_type": "code",
      "execution_count": null,
      "id": "b00dc5fb",
      "metadata": {
        "id": "b00dc5fb"
      },
      "outputs": [],
      "source": [
        "# Reshape test data for surface plots\n",
        "N = int(np.sqrt(x_test.shape[0]))\n",
        "X = x_test[:, 0].reshape(N, N)\n",
        "Y = x_test[:, 1].reshape(N, N)\n",
        "u_pred = u_pred.reshape(N, N)\n",
        "u_true = u_true.reshape(N, N)\n",
        "x_train = np.vstack([x_train_i.detach().cpu().numpy(),x_train_b.detach().cpu().numpy()])\n",
        "\n",
        "fig = plt.figure(figsize=(12,8))\n",
        "ax = fig.add_subplot(111, projection='3d')\n",
        "\n",
        "# Surface: Exact solution\n",
        "ax.plot_surface(X, Y, u_true, alpha = 0.7, cmap=\"Blues\", label='Exact')\n",
        "\n",
        "# Surface: Predicted solution (wireframe or different alpha)\n",
        "ax.plot_surface(X, Y, u_pred, alpha = 0.8, cmap=\"Reds\", label=\"Predicted\")\n",
        "\n",
        "# Scatter: Collocation points at z=0\n",
        "ax.scatter(x_train[:, 0], x_train[:, 1], np.zeros_like(x_train[:, 0]),\n",
        "           color='black', s=8, marker='o', label='Collocation Points')\n",
        "\n",
        "# Labels and legend\n",
        "ax.set_title(\"Exact vs Predicted Solution with Collocation Points\")\n",
        "ax.set_xlabel(\"x\")\n",
        "ax.set_ylabel(\"y\")\n",
        "\n",
        "plt.legend()\n",
        "plt.show()"
      ]
    },
    {
      "cell_type": "code",
      "execution_count": null,
      "id": "95151aa6",
      "metadata": {
        "id": "95151aa6"
      },
      "outputs": [],
      "source": [
        "# Reshape data (assuming square grid)\n",
        "N = int(np.sqrt(x_test.shape[0]))\n",
        "X = x_test[:, 0].reshape(N, N)\n",
        "Y = x_test[:, 1].reshape(N, N)\n",
        "u_pred = u_pred.reshape(N, N)\n",
        "u_true = u_true.reshape(N, N)\n",
        "x_train = np.vstack([x_train_i.detach().cpu().numpy(),x_train_b.detach().cpu().numpy()])\n",
        "\n",
        "fig = go.Figure()\n",
        "\n",
        "# Predicted surface\n",
        "fig.add_trace(go.Surface(z=u_pred, x=X, y=Y, colorscale='Blues', opacity=1, name='Predicted',showlegend=True,showscale=False))\n",
        "\n",
        "# Exact surface overlay\n",
        "fig.add_trace(go.Surface(z=u_true, x=X, y=Y, colorscale='Reds', opacity=0.5, name='Exact',showlegend=True,showscale=False))\n",
        "\n",
        "# Collocation points\n",
        "fig.add_trace(go.Scatter3d(\n",
        "    x=x_train[:, 0], y=x_train[:, 1], z=np.zeros_like(x_train[:, 0]),\n",
        "    mode='markers', marker=dict(size=3, color='black'),\n",
        "    name='Collocation Points',\n",
        "    showlegend=True\n",
        "))\n",
        "\n",
        "fig.update_layout(\n",
        "    title=\"PINN: Predicted vs Exact Solution\",\n",
        "    scene=dict(xaxis_title='x', yaxis_title='y', zaxis_title='u(x,y)'),\n",
        "    width=900, height=700\n",
        ")\n",
        "fig.show()\n"
      ]
    },
    {
      "cell_type": "markdown",
      "id": "Ihmjn8nuf24O",
      "metadata": {
        "id": "Ihmjn8nuf24O"
      },
      "source": [
        "### Convergence Study"
      ]
    },
    {
      "cell_type": "code",
      "execution_count": null,
      "id": "vvWXC-Xmf445",
      "metadata": {
        "id": "vvWXC-Xmf445"
      },
      "outputs": [],
      "source": [
        "epochs = [1000,2000,4000,8000]\n",
        "L2_err = []\n",
        "\n",
        "# interior points\n",
        "N_i = 30\n",
        "x_train_i = generate_collocation_points(N_i).to(device)\n",
        "\n",
        "# boundary points\n",
        "N_b = 14\n",
        "x_train_b = generate_boundary_points(N_b).to(device)\n",
        "\n",
        "# generate the test set\n",
        "N = 35\n",
        "x_test = generate_test(N).to(device)\n",
        "u_true = u_exact(x_test)\n",
        "\n",
        "for epoch in epochs:\n",
        "    u = train_PINN(x_train_i,x_train_b,epoch,verbose=False,create_graph=False)\n",
        "    u_pred = u(x_test)\n",
        "\n",
        "    L2_err.append(L2_error(u_pred,u_true).detach().cpu().numpy())\n",
        "\n",
        "table = pd.DataFrame(data= np.transpose([epochs, L2_err]),columns=[\"Epochs\",\"L2 error\"])\n",
        "table"
      ]
    },
    {
      "cell_type": "code",
      "execution_count": null,
      "id": "49EWi4svgh6W",
      "metadata": {
        "id": "49EWi4svgh6W"
      },
      "outputs": [],
      "source": [
        "N_i = [10,20,40,80]\n",
        "L2_err = []\n",
        "num_epochs = 5000\n",
        "\n",
        "# boundary points\n",
        "N_b = 14\n",
        "x_train_b = generate_boundary_points(N_b).to(device)\n",
        "\n",
        "# generate the test set\n",
        "N = 100\n",
        "x_test = generate_test(N).to(device)\n",
        "u_true = u_exact(x_test)\n",
        "\n",
        "for n_train in N_i:\n",
        "    # generate the training set\n",
        "    x_train_i = generate_collocation_points(n_train).to(device)\n",
        "\n",
        "    u = train_PINN(x_train_i,x_train_b,num_epochs,verbose=False,create_graph=False)\n",
        "    u_pred = u(x_test)\n",
        "\n",
        "    L2_err.append(L2_error(u_pred,u_true).detach().cpu().numpy())\n",
        "\n",
        "table = pd.DataFrame(data= np.transpose([train_size, L2_err]),columns=[\"Train size\",\"L2 error\"])\n",
        "table"
      ]
    },
    {
      "cell_type": "code",
      "execution_count": null,
      "id": "bKmKT2b0h0H3",
      "metadata": {
        "id": "bKmKT2b0h0H3"
      },
      "outputs": [],
      "source": [
        "N_b = [8,16,32]\n",
        "L2_err = []\n",
        "num_epochs = 5000\n",
        "\n",
        "# boundary points\n",
        "N_i = 30\n",
        "x_train_b = generate_collocation_points(N_i).to(device)\n",
        "\n",
        "# generate the test set\n",
        "N = 100\n",
        "x_test = generate_test(N).to(device)\n",
        "u_true = u_exact(x_test)\n",
        "\n",
        "for n_train in N_b:\n",
        "    # generate the training set\n",
        "    x_train_i = generate_boundary_points(n_train).to(device)\n",
        "\n",
        "    u = train_PINN(x_train_i,x_train_b,num_epochs,verbose=False,create_graph=False)\n",
        "    u_pred = u(x_test)\n",
        "\n",
        "    L2_err.append(L2_error(u_pred,u_true).detach().cpu().numpy())\n",
        "\n",
        "table = pd.DataFrame(data= np.transpose([train_size, L2_err]),columns=[\"Train size\",\"L2 error\"])\n",
        "table"
      ]
    },
    {
      "cell_type": "markdown",
      "id": "kb32uiWSiJw2",
      "metadata": {
        "id": "kb32uiWSiJw2"
      },
      "source": [
        "### Convergence Study for $m=2$ and $n=2$"
      ]
    },
    {
      "cell_type": "code",
      "execution_count": null,
      "id": "Kw3kRgF7iRmw",
      "metadata": {
        "id": "Kw3kRgF7iRmw"
      },
      "outputs": [],
      "source": [
        "epochs = [2000,4000,8000,16000]\n",
        "L2_err = []\n",
        "m=2\n",
        "n=2\n",
        "\n",
        "# interior points\n",
        "N_i = 30\n",
        "x_train_i = generate_collocation_points(N_i).to(device)\n",
        "\n",
        "# boundary points\n",
        "N_b = 14\n",
        "x_train_b = generate_boundary_points(N_b).to(device)\n",
        "\n",
        "# generate the test set\n",
        "N = 35\n",
        "x_test = generate_test(N).to(device)\n",
        "u_true = u_exact(x_test)\n",
        "\n",
        "for epoch in epochs:\n",
        "    u = train_PINN(x_train_i,x_train_b,epoch,m,n,verbose=False,create_graph=False)\n",
        "    u_pred = u(x_test)\n",
        "\n",
        "    L2_err.append(L2_error(u_pred,u_true).detach().cpu().numpy())\n",
        "\n",
        "table = pd.DataFrame(data= np.transpose([epochs, L2_err]),columns=[\"Epochs\",\"L2 error\"])\n",
        "table"
      ]
    },
    {
      "cell_type": "code",
      "execution_count": null,
      "id": "adF--xi-ihwa",
      "metadata": {
        "id": "adF--xi-ihwa"
      },
      "outputs": [],
      "source": [
        "N_i = [10,20,40,80]\n",
        "L2_err = []\n",
        "num_epochs = 5000\n",
        "\n",
        "# boundary points\n",
        "N_b = 14\n",
        "x_train_b = generate_boundary_points(N_b).to(device)\n",
        "\n",
        "# generate the test set\n",
        "N = 100\n",
        "x_test = generate_test(N).to(device)\n",
        "u_true = u_exact(x_test)\n",
        "\n",
        "for n_train in N_i:\n",
        "    # generate the training set\n",
        "    x_train_i = generate_collocation_points(n_train).to(device)\n",
        "\n",
        "    u = train_PINN(x_train_i,x_train_b,num_epochs,m,n,verbose=False,create_graph=False)\n",
        "    u_pred = u(x_test)\n",
        "\n",
        "    L2_err.append(L2_error(u_pred,u_true).detach().cpu().numpy())\n",
        "\n",
        "table = pd.DataFrame(data= np.transpose([train_size, L2_err]),columns=[\"Train size\",\"L2 error\"])\n",
        "table"
      ]
    },
    {
      "cell_type": "code",
      "execution_count": null,
      "id": "PqR7TnPpis-3",
      "metadata": {
        "id": "PqR7TnPpis-3"
      },
      "outputs": [],
      "source": [
        "N_b = [8,16,32]\n",
        "L2_err = []\n",
        "num_epochs = 5000\n",
        "\n",
        "# boundary points\n",
        "N_i = 30\n",
        "x_train_b = generate_collocation_points(N_i).to(device)\n",
        "\n",
        "# generate the test set\n",
        "N = 100\n",
        "x_test = generate_test(N).to(device)\n",
        "u_true = u_exact(x_test)\n",
        "\n",
        "for n_train in N_b:\n",
        "    # generate the training set\n",
        "    x_train_i = generate_boundary_points(n_train).to(device)\n",
        "\n",
        "    u = train_PINN(x_train_i,x_train_b,num_epochs,m,n,verbose=False,create_graph=False)\n",
        "    u_pred = u(x_test)\n",
        "\n",
        "    L2_err.append(L2_error(u_pred,u_true).detach().cpu().numpy())\n",
        "\n",
        "table = pd.DataFrame(data= np.transpose([train_size, L2_err]),columns=[\"Train size\",\"L2 error\"])\n",
        "table"
      ]
    }
  ],
  "metadata": {
    "accelerator": "TPU",
    "colab": {
      "gpuType": "V28",
      "machine_shape": "hm",
      "provenance": []
    },
    "kernelspec": {
      "display_name": "tf_env",
      "language": "python",
      "name": "python3"
    },
    "language_info": {
      "codemirror_mode": {
        "name": "ipython",
        "version": 3
      },
      "file_extension": ".py",
      "mimetype": "text/x-python",
      "name": "python",
      "nbconvert_exporter": "python",
      "pygments_lexer": "ipython3",
      "version": "3.10.16"
    }
  },
  "nbformat": 4,
  "nbformat_minor": 5
}
